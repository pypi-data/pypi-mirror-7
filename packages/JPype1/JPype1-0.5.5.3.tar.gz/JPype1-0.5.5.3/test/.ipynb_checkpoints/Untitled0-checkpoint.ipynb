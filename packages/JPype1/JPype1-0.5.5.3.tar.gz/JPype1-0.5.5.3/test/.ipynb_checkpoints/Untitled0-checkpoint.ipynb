{
 "metadata": {
  "name": "",
  "signature": "sha256:c6ef28f2e965b7d26861c11f93d5891698d5ac4382c7b66642bc7204bbd87be1"
 },
 "nbformat": 3,
 "nbformat_minor": 0,
 "worksheets": []
}