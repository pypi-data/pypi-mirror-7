{
 "metadata": {
  "name": "",
  "signature": "sha256:7842447ff40465c691284aa88670f27ef5b22e9ad436cbb48b5727b2f2018d93"
 },
 "nbformat": 3,
 "nbformat_minor": 0,
 "worksheets": [
  {
   "cells": [
    {
     "cell_type": "code",
     "collapsed": false,
     "input": [
      "import sys; sys.path.append(\"/Users/nikolas/Projects/QNET\")"
     ],
     "language": "python",
     "metadata": {},
     "outputs": [],
     "prompt_number": 1
    },
    {
     "cell_type": "code",
     "collapsed": false,
     "input": [
      "from qnet.algebra.circuit_algebra import *\n",
      "\n",
      "def SLH_Modulator(gamma, theta, namespace=''):\n",
      "    fock = local_space('fock', namespace = namespace)\n",
      "    a = Destroy(fock)  # create representations of a\n",
      "    \n",
      "    S = Matrix([[1]])      #Scattering\n",
      "    \n",
      "    \n",
      "    L = Matrix([[sqrt(gamma)*a]])      # Collapse operators\n",
      "    \n",
      "    H = theta*a.dag()* a    #Hamiltonian\n",
      "   \n",
      "    return SLH(S, L, H)\n",
      "    \n",
      "\n",
      "def SLH_System(kappa,omega, namespace = ''):\n",
      "    tls = local_space('tls', namespace = namespace, basis = ('e', 'g'))\n",
      "    #print tls\n",
      "    # create representations of sigma\n",
      "    sigma = LocalSigma(tls, 'g', 'e')\n",
      "    \n",
      "    # Trivial scattering matrix\n",
      "    S2 = Matrix([[1]])\n",
      "    \n",
      "    # Collapse/Jump operators\n",
      "    L2 = Matrix([[sqrt(kappa) * sigma]])\n",
      "    #Hamiltonian\n",
      "    H2 = omega*sigma.dag()*sigma    \n",
      "\n",
      "    return SLH(S2,L2,H2)\n",
      "\n",
      "\n",
      "gamma, kappa = symbols(\"gamma, kappa\", positive=True)\n",
      "theta, omega = symbols(\"theta, omega\", real=True)\n",
      "\n",
      "modulator = SLH_Modulator(gamma, theta)\n",
      "system = SLH_System(kappa, omega)\n",
      "\n",
      "combined = system << modulator\n",
      "combined\n",
      "\n",
      "\n",
      "# adding driving\n",
      "epsilon = symbols(\"epsilon\")\n",
      "\n",
      "combined_with_drive = combined.coherent_input(epsilon)\n",
      "combined_with_drive"
     ],
     "language": "python",
     "metadata": {},
     "outputs": [
      {
       "latex": [
        "$\\left( \\begin{pmatrix} 1\\end{pmatrix}, \\begin{pmatrix}  \\epsilon +  \\sqrt{\\gamma} {a_{{{\\rm fock}}}} +  \\sqrt{\\kappa} {\\sigma_{{\\rm g},{\\rm e}}^{{{\\rm tls}}}}\\end{pmatrix},  \\omega {\\Pi_{{\\rm e}}^{{{\\rm tls}}}} +  \\frac{i}{2} \\left( - \\epsilon \\left( \\sqrt{\\gamma} {a_{{{\\rm fock}}}^\\dagger} +  \\sqrt{\\kappa} {\\sigma_{{\\rm e},{\\rm g}}^{{{\\rm tls}}}}\\right) +  \\overline{\\epsilon} \\left( \\sqrt{\\gamma} {a_{{{\\rm fock}}}} +  \\sqrt{\\kappa} {\\sigma_{{\\rm g},{\\rm e}}^{{{\\rm tls}}}}\\right)\\right) +  \\frac{i}{2} \\left( \\sqrt{\\gamma} \\sqrt{\\kappa} {a_{{{\\rm fock}}}^\\dagger} {\\sigma_{{\\rm g},{\\rm e}}^{{{\\rm tls}}}} -  \\sqrt{\\gamma} \\sqrt{\\kappa} {a_{{{\\rm fock}}}} {\\sigma_{{\\rm e},{\\rm g}}^{{{\\rm tls}}}}\\right) +  \\theta {a_{{{\\rm fock}}}^\\dagger} {a_{{{\\rm fock}}}} \\right)$"
       ],
       "metadata": {},
       "output_type": "pyout",
       "prompt_number": 4,
       "text": [
        "SLH(Matrix([[1]]), Matrix([[OperatorPlus(ScalarTimesOperator(epsilon, IdentityOperator), ScalarTimesOperator(sqrt(gamma), Destroy(LocalSpace('fock', ''))), ScalarTimesOperator(sqrt(kappa), LocalSigma(LocalSpace('tls', ''), 'g', 'e')))]]), OperatorPlus(ScalarTimesOperator(omega, LocalSigma(LocalSpace('tls', ''), 'e', 'e')), ScalarTimesOperator(I/2, OperatorPlus(ScalarTimesOperator(-epsilon, OperatorPlus(ScalarTimesOperator(sqrt(gamma), Create(LocalSpace('fock', ''))), ScalarTimesOperator(sqrt(kappa), LocalSigma(LocalSpace('tls', ''), 'e', 'g')))), ScalarTimesOperator(conjugate(epsilon), OperatorPlus(ScalarTimesOperator(sqrt(gamma), Destroy(LocalSpace('fock', ''))), ScalarTimesOperator(sqrt(kappa), LocalSigma(LocalSpace('tls', ''), 'g', 'e')))))), ScalarTimesOperator(I/2, OperatorPlus(ScalarTimesOperator(sqrt(gamma)*sqrt(kappa), OperatorTimes(Create(LocalSpace('fock', '')), LocalSigma(LocalSpace('tls', ''), 'g', 'e'))), ScalarTimesOperator(-sqrt(gamma)*sqrt(kappa), OperatorTimes(Destroy(LocalSpace('fock', '')), LocalSigma(LocalSpace('tls', ''), 'e', 'g'))))), ScalarTimesOperator(theta, OperatorTimes(Create(LocalSpace('fock', '')), Destroy(LocalSpace('fock', ''))))))"
       ]
      }
     ],
     "prompt_number": 4
    },
    {
     "cell_type": "code",
     "collapsed": false,
     "input": [],
     "language": "python",
     "metadata": {},
     "outputs": []
    }
   ],
   "metadata": {}
  }
 ]
}