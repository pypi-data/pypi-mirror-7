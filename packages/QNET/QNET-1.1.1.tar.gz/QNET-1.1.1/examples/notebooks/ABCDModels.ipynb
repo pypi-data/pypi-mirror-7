{
 "metadata": {
  "name": "ABCDModels"
 },
 "nbformat": 3,
 "nbformat_minor": 0,
 "worksheets": [
  {
   "cells": [
    {
     "cell_type": "code",
     "collapsed": false,
     "input": [
      "from qnet.algebra.abstract_algebra import Expression, Operation, check_signature\n",
      "from abc import ABCMeta, abstractmethod, abstractproperty\n",
      "\n",
      "\n",
      "\n",
      "\n",
      "class ModelMatrix(Expression):\n",
      "    __metaclass__ = ABCMeta\n",
      "    \n",
      "    @abstractproperty\n",
      "    def shape(self):\n",
      "        pass\n",
      "    \n",
      "    @abstractmethod\n",
      "    def transpose(self):\n",
      "        pass\n",
      "    \n",
      "    @abstractmethod\n",
      "    def conjugate(self):\n",
      "        pass\n",
      "    \n",
      "    @abstractmethod\n",
      "    def adjoint(self):\n",
      "        pass\n",
      "    \n",
      "    @abstractmethod\n",
      "    def dot(self, other):\n",
      "        pass\n",
      "\n",
      "@check_signature\n",
      "class DoubleUp(Operation, ModelMatrix):\n",
      "    signature = ModelMatrix, ModelMatrix\n",
      "    \n",
      "    @classmethod\n",
      "    def create(cls, A, B):\n",
      "        if A.shape != B.shape:\n",
      "            raise ValueError()\n",
      "        return cls(A, B)\n",
      "\n",
      "    @property\n",
      "    def shape(self):\n",
      "        A = self.operands[0]\n",
      "        r, c = A.shape\n",
      "        return 2 * r, 2 * c\n",
      "    \n",
      "    def transpose(self):\n",
      "        A, B = self.operands\n",
      "        return DoubleUp.create(A.transpose(), B.transpose())\n",
      "    \n",
      "    def conjugate(self):\n",
      "        A, B = self.operands\n",
      "        return DoubleUp.create(A.conjugate(), B.conjugate())\n",
      "    \n",
      "    def adjoint(self):\n",
      "        A, B = self.operands\n",
      "        return DoubleUp.create(A.adjoint(), B.adjoint())\n",
      "\n",
      "\n",
      "def asDoubleUp(m):\n",
      "    \n",
      "\n",
      "class ABCDModel(Operation):\n",
      "    def __init__(self):\n",
      "        \n",
      "        "
     ],
     "language": "python",
     "metadata": {},
     "outputs": [
      {
       "ename": "IndentationError",
       "evalue": "expected an indented block (<ipython-input-1-611db2371e81>, line 6)",
       "output_type": "pyerr",
       "traceback": [
        "\u001b[0;36m  File \u001b[0;32m\"<ipython-input-1-611db2371e81>\"\u001b[0;36m, line \u001b[0;32m6\u001b[0m\n\u001b[0;31m    \u001b[0m\n\u001b[0m    ^\u001b[0m\n\u001b[0;31mIndentationError\u001b[0m\u001b[0;31m:\u001b[0m expected an indented block\n"
       ]
      }
     ],
     "prompt_number": 1
    },
    {
     "cell_type": "code",
     "collapsed": false,
     "input": [],
     "language": "python",
     "metadata": {},
     "outputs": []
    }
   ],
   "metadata": {}
  }
 ]
}