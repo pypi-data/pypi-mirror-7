{
 "metadata": {
  "name": "",
  "signature": "sha256:8200dc2205cf8c52b1fef47a81226d8554c2bce1f164918c2d514604523ac13e"
 },
 "nbformat": 3,
 "nbformat_minor": 0,
 "worksheets": [
  {
   "cells": [
    {
     "cell_type": "code",
     "collapsed": false,
     "input": [
      "%pylab inline"
     ],
     "language": "python",
     "metadata": {},
     "outputs": [
      {
       "output_type": "stream",
       "stream": "stdout",
       "text": [
        "Populating the interactive namespace from numpy and matplotlib\n"
       ]
      }
     ],
     "prompt_number": 1
    },
    {
     "cell_type": "markdown",
     "metadata": {},
     "source": [
      "Next we need to loop through and get subsequent features from the WFS"
     ]
    },
    {
     "cell_type": "code",
     "collapsed": false,
     "input": [
      "from pysiss.webservices import post_block_requests\n",
      "from pysiss.webservices.geoscience_australia import DEFAULT_ENDPOINTS\n",
      "\n",
      "# West Australian geology\n",
      "wa_endpoints = DEFAULT_ENDPOINTS['wa1m']\n",
      "wfsurl_template = wa_endpoints['url_template']\n",
      "geologic_objects = wa_endpoints['geologic_objects']\n",
      "\n",
      "# Parameters for POST request\n",
      "post_params = dict(\n",
      "    lower_corner=(119.52, -20.5),\n",
      "    upper_corner=(120.90, -21.6),\n",
      "    max_features=500,\n",
      "    nx_blocks=7\n",
      ")\n",
      "\n",
      "# POST to the WFS, stream the results back to file\n",
      "for obj in geologic_objects:\n",
      "    url = wfsurl_template.format(obj)\n",
      "    filename = obj\n",
      "    post_block_requests(url, filename, **post_params)"
     ],
     "language": "python",
     "metadata": {},
     "outputs": [
      {
       "ename": "ConnectionError",
       "evalue": "HTTPConnectionPool(host='www.ga.gov.au', port=80): Max retries exceeded with url: /geows/contacts/oneg_wa_1m/wfs (Caused by <class 'socket.gaierror'>: [Errno -2] Name or service not known)",
       "output_type": "pyerr",
       "traceback": [
        "\u001b[1;31m---------------------------------------------------------------------------\u001b[0m\n\u001b[1;31mConnectionError\u001b[0m                           Traceback (most recent call last)",
        "\u001b[1;32m<ipython-input-2-33301c10cca0>\u001b[0m in \u001b[0;36m<module>\u001b[1;34m()\u001b[0m\n\u001b[0;32m     19\u001b[0m     \u001b[0murl\u001b[0m \u001b[1;33m=\u001b[0m \u001b[0mwfsurl_template\u001b[0m\u001b[1;33m.\u001b[0m\u001b[0mformat\u001b[0m\u001b[1;33m(\u001b[0m\u001b[0mobj\u001b[0m\u001b[1;33m)\u001b[0m\u001b[1;33m\u001b[0m\u001b[0m\n\u001b[0;32m     20\u001b[0m     \u001b[0mfilename\u001b[0m \u001b[1;33m=\u001b[0m \u001b[0mobj\u001b[0m\u001b[1;33m\u001b[0m\u001b[0m\n\u001b[1;32m---> 21\u001b[1;33m     \u001b[0mpost_block_requests\u001b[0m\u001b[1;33m(\u001b[0m\u001b[0murl\u001b[0m\u001b[1;33m,\u001b[0m \u001b[0mfilename\u001b[0m\u001b[1;33m,\u001b[0m \u001b[1;33m**\u001b[0m\u001b[0mpost_params\u001b[0m\u001b[1;33m)\u001b[0m\u001b[1;33m\u001b[0m\u001b[0m\n\u001b[0m",
        "\u001b[1;32m/home/jess/.local/lib/python2.7/site-packages/pysiss-0.0.1-py2.7.egg/pysiss/webservices/block_requests.pyc\u001b[0m in \u001b[0;36mpost_block_requests\u001b[1;34m(wfsurl, filename, lower_corner, upper_corner, nx_blocks, ny_blocks, max_features, timeout, delete_temp_files)\u001b[0m\n\u001b[0;32m    118\u001b[0m                                  \u001b[0mdata\u001b[0m\u001b[1;33m=\u001b[0m\u001b[0mdata\u001b[0m\u001b[1;33m,\u001b[0m\u001b[1;33m\u001b[0m\u001b[0m\n\u001b[0;32m    119\u001b[0m                                  \u001b[0mstream\u001b[0m\u001b[1;33m=\u001b[0m\u001b[0mTrue\u001b[0m\u001b[1;33m,\u001b[0m\u001b[1;33m\u001b[0m\u001b[0m\n\u001b[1;32m--> 120\u001b[1;33m                                  timeout=timeout)\n\u001b[0m\u001b[0;32m    121\u001b[0m \u001b[1;33m\u001b[0m\u001b[0m\n\u001b[0;32m    122\u001b[0m         \u001b[1;31m# Make a temporary directory to hold the results of the requests\u001b[0m\u001b[1;33m\u001b[0m\u001b[1;33m\u001b[0m\u001b[0m\n",
        "\u001b[1;32m/usr/local/lib/python2.7/dist-packages/requests/api.pyc\u001b[0m in \u001b[0;36mpost\u001b[1;34m(url, data, **kwargs)\u001b[0m\n\u001b[0;32m     86\u001b[0m     \"\"\"\n\u001b[0;32m     87\u001b[0m \u001b[1;33m\u001b[0m\u001b[0m\n\u001b[1;32m---> 88\u001b[1;33m     \u001b[1;32mreturn\u001b[0m \u001b[0mrequest\u001b[0m\u001b[1;33m(\u001b[0m\u001b[1;34m'post'\u001b[0m\u001b[1;33m,\u001b[0m \u001b[0murl\u001b[0m\u001b[1;33m,\u001b[0m \u001b[0mdata\u001b[0m\u001b[1;33m=\u001b[0m\u001b[0mdata\u001b[0m\u001b[1;33m,\u001b[0m \u001b[1;33m**\u001b[0m\u001b[0mkwargs\u001b[0m\u001b[1;33m)\u001b[0m\u001b[1;33m\u001b[0m\u001b[0m\n\u001b[0m\u001b[0;32m     89\u001b[0m \u001b[1;33m\u001b[0m\u001b[0m\n\u001b[0;32m     90\u001b[0m \u001b[1;33m\u001b[0m\u001b[0m\n",
        "\u001b[1;32m/usr/local/lib/python2.7/dist-packages/requests/api.pyc\u001b[0m in \u001b[0;36mrequest\u001b[1;34m(method, url, **kwargs)\u001b[0m\n\u001b[0;32m     42\u001b[0m \u001b[1;33m\u001b[0m\u001b[0m\n\u001b[0;32m     43\u001b[0m     \u001b[0msession\u001b[0m \u001b[1;33m=\u001b[0m \u001b[0msessions\u001b[0m\u001b[1;33m.\u001b[0m\u001b[0mSession\u001b[0m\u001b[1;33m(\u001b[0m\u001b[1;33m)\u001b[0m\u001b[1;33m\u001b[0m\u001b[0m\n\u001b[1;32m---> 44\u001b[1;33m     \u001b[1;32mreturn\u001b[0m \u001b[0msession\u001b[0m\u001b[1;33m.\u001b[0m\u001b[0mrequest\u001b[0m\u001b[1;33m(\u001b[0m\u001b[0mmethod\u001b[0m\u001b[1;33m=\u001b[0m\u001b[0mmethod\u001b[0m\u001b[1;33m,\u001b[0m \u001b[0murl\u001b[0m\u001b[1;33m=\u001b[0m\u001b[0murl\u001b[0m\u001b[1;33m,\u001b[0m \u001b[1;33m**\u001b[0m\u001b[0mkwargs\u001b[0m\u001b[1;33m)\u001b[0m\u001b[1;33m\u001b[0m\u001b[0m\n\u001b[0m\u001b[0;32m     45\u001b[0m \u001b[1;33m\u001b[0m\u001b[0m\n\u001b[0;32m     46\u001b[0m \u001b[1;33m\u001b[0m\u001b[0m\n",
        "\u001b[1;32m/usr/local/lib/python2.7/dist-packages/requests/sessions.pyc\u001b[0m in \u001b[0;36mrequest\u001b[1;34m(self, method, url, params, data, headers, cookies, files, auth, timeout, allow_redirects, proxies, hooks, stream, verify, cert)\u001b[0m\n\u001b[0;32m    454\u001b[0m             \u001b[1;34m'allow_redirects'\u001b[0m\u001b[1;33m:\u001b[0m \u001b[0mallow_redirects\u001b[0m\u001b[1;33m,\u001b[0m\u001b[1;33m\u001b[0m\u001b[0m\n\u001b[0;32m    455\u001b[0m         }\n\u001b[1;32m--> 456\u001b[1;33m         \u001b[0mresp\u001b[0m \u001b[1;33m=\u001b[0m \u001b[0mself\u001b[0m\u001b[1;33m.\u001b[0m\u001b[0msend\u001b[0m\u001b[1;33m(\u001b[0m\u001b[0mprep\u001b[0m\u001b[1;33m,\u001b[0m \u001b[1;33m**\u001b[0m\u001b[0msend_kwargs\u001b[0m\u001b[1;33m)\u001b[0m\u001b[1;33m\u001b[0m\u001b[0m\n\u001b[0m\u001b[0;32m    457\u001b[0m \u001b[1;33m\u001b[0m\u001b[0m\n\u001b[0;32m    458\u001b[0m         \u001b[1;32mreturn\u001b[0m \u001b[0mresp\u001b[0m\u001b[1;33m\u001b[0m\u001b[0m\n",
        "\u001b[1;32m/usr/local/lib/python2.7/dist-packages/requests/sessions.pyc\u001b[0m in \u001b[0;36msend\u001b[1;34m(self, request, **kwargs)\u001b[0m\n\u001b[0;32m    557\u001b[0m \u001b[1;33m\u001b[0m\u001b[0m\n\u001b[0;32m    558\u001b[0m         \u001b[1;31m# Send the request\u001b[0m\u001b[1;33m\u001b[0m\u001b[1;33m\u001b[0m\u001b[0m\n\u001b[1;32m--> 559\u001b[1;33m         \u001b[0mr\u001b[0m \u001b[1;33m=\u001b[0m \u001b[0madapter\u001b[0m\u001b[1;33m.\u001b[0m\u001b[0msend\u001b[0m\u001b[1;33m(\u001b[0m\u001b[0mrequest\u001b[0m\u001b[1;33m,\u001b[0m \u001b[1;33m**\u001b[0m\u001b[0mkwargs\u001b[0m\u001b[1;33m)\u001b[0m\u001b[1;33m\u001b[0m\u001b[0m\n\u001b[0m\u001b[0;32m    560\u001b[0m \u001b[1;33m\u001b[0m\u001b[0m\n\u001b[0;32m    561\u001b[0m         \u001b[1;31m# Total elapsed time of the request (approximately)\u001b[0m\u001b[1;33m\u001b[0m\u001b[1;33m\u001b[0m\u001b[0m\n",
        "\u001b[1;32m/usr/local/lib/python2.7/dist-packages/requests/adapters.pyc\u001b[0m in \u001b[0;36msend\u001b[1;34m(self, request, stream, timeout, verify, cert, proxies)\u001b[0m\n\u001b[0;32m    373\u001b[0m \u001b[1;33m\u001b[0m\u001b[0m\n\u001b[0;32m    374\u001b[0m         \u001b[1;32mexcept\u001b[0m \u001b[0mMaxRetryError\u001b[0m \u001b[1;32mas\u001b[0m \u001b[0me\u001b[0m\u001b[1;33m:\u001b[0m\u001b[1;33m\u001b[0m\u001b[0m\n\u001b[1;32m--> 375\u001b[1;33m             \u001b[1;32mraise\u001b[0m \u001b[0mConnectionError\u001b[0m\u001b[1;33m(\u001b[0m\u001b[0me\u001b[0m\u001b[1;33m,\u001b[0m \u001b[0mrequest\u001b[0m\u001b[1;33m=\u001b[0m\u001b[0mrequest\u001b[0m\u001b[1;33m)\u001b[0m\u001b[1;33m\u001b[0m\u001b[0m\n\u001b[0m\u001b[0;32m    376\u001b[0m \u001b[1;33m\u001b[0m\u001b[0m\n\u001b[0;32m    377\u001b[0m         \u001b[1;32mexcept\u001b[0m \u001b[0m_ProxyError\u001b[0m \u001b[1;32mas\u001b[0m \u001b[0me\u001b[0m\u001b[1;33m:\u001b[0m\u001b[1;33m\u001b[0m\u001b[0m\n",
        "\u001b[1;31mConnectionError\u001b[0m: HTTPConnectionPool(host='www.ga.gov.au', port=80): Max retries exceeded with url: /geows/contacts/oneg_wa_1m/wfs (Caused by <class 'socket.gaierror'>: [Errno -2] Name or service not known)"
       ]
      }
     ],
     "prompt_number": 2
    },
    {
     "cell_type": "code",
     "collapsed": false,
     "input": [
      "from pysiss.vocabulary.unmarshal import unmarshal_all\n",
      "from collections import defaultdict\n",
      "\n",
      "n_blocks = post_params['nx_blocks'] ** 2\n",
      "files = dict([(u, 'tmp/{0}_{{0}}.xml'.format(u)) for u in geologic_objects])\n",
      "idents = set()\n",
      "features = defaultdict(list)\n",
      "geologic_units, faults, contacts = set(), set(), set()\n",
      "for block_idx in range(n_blocks):\n",
      "    for obj in geologic_objects:\n",
      "        filename = files[obj].format(block_idx)\n",
      "        mapped_features = unmarshal_all(filename, tag='gsml:MappedFeature')\n",
      "        for feature in mapped_features:\n",
      "            if feature.ident not in idents:\n",
      "                features[feature.type].append(feature)\n",
      "                idents.add(feature.ident)\n",
      "\n",
      "contacts = features['gsml:Contact']\n",
      "faults = features['gsml:Fault']\n",
      "geologic_units = features['gsml:GeologicUnit']"
     ],
     "language": "python",
     "metadata": {},
     "outputs": []
    },
    {
     "cell_type": "code",
     "collapsed": false,
     "input": [
      "import os\n",
      "\n",
      "os.listdir('./tmp')"
     ],
     "language": "python",
     "metadata": {},
     "outputs": [
      {
       "ename": "OSError",
       "evalue": "[Errno 2] No such file or directory: './tmp'",
       "output_type": "pyerr",
       "traceback": [
        "\u001b[1;31m---------------------------------------------------------------------------\u001b[0m\n\u001b[1;31mOSError\u001b[0m                                   Traceback (most recent call last)",
        "\u001b[1;32m<ipython-input-4-44b75b69e570>\u001b[0m in \u001b[0;36m<module>\u001b[1;34m()\u001b[0m\n\u001b[0;32m      1\u001b[0m \u001b[1;32mimport\u001b[0m \u001b[0mos\u001b[0m\u001b[1;33m\u001b[0m\u001b[0m\n\u001b[0;32m      2\u001b[0m \u001b[1;33m\u001b[0m\u001b[0m\n\u001b[1;32m----> 3\u001b[1;33m \u001b[0mos\u001b[0m\u001b[1;33m.\u001b[0m\u001b[0mlistdir\u001b[0m\u001b[1;33m(\u001b[0m\u001b[1;34m'./tmp'\u001b[0m\u001b[1;33m)\u001b[0m\u001b[1;33m\u001b[0m\u001b[0m\n\u001b[0m",
        "\u001b[1;31mOSError\u001b[0m: [Errno 2] No such file or directory: './tmp'"
       ]
      }
     ],
     "prompt_number": 4
    },
    {
     "cell_type": "code",
     "collapsed": false,
     "input": [
      "import simplejson\n",
      "\n",
      "with open('geological_unit_styles.json', 'rb') as fhandle:\n",
      "    styles = simplejson.load(fhandle)\n",
      "    \n",
      "    # Expand styles using defaults\n",
      "    geologic_styles = {}\n",
      "    default_style = styles['default']\n",
      "    for lith in styles.keys():\n",
      "        # We only want to update the keys that aren't there already\n",
      "        geologic_styles[lith] = default_style.copy()\n",
      "        geologic_styles[lith].update(styles[lith])"
     ],
     "language": "python",
     "metadata": {},
     "outputs": []
    },
    {
     "cell_type": "code",
     "collapsed": false,
     "input": [
      "from pysiss.vocabulary.namespaces import NamespaceRegistry, shorten_namespace\n",
      "from descartes.patch import PolygonPatch\n",
      "\n",
      "NAMESPACES = NamespaceRegistry()\n",
      "\n",
      "fig = figure(figsize=(22, 22))\n",
      "axes = gca()\n",
      "\n",
      "# Plot units\n",
      "for feature in geologic_units:\n",
      "    # Work out how to plot this unit\n",
      "    lithology = feature.metadata.xpath(\n",
      "        './/gsml:RockMaterial/gsml:lithology/@xlink:href', \n",
      "        namespaces=NAMESPACES)\n",
      "    if lithology:\n",
      "        try:\n",
      "            params = geologic_styles[shorten_namespace(lithology[0])]\n",
      "        except KeyError:\n",
      "            params = geologic_styles['default']\n",
      "    else:\n",
      "        params = geologic_styles['default']\n",
      "    \n",
      "    # Add patch\n",
      "    axes.add_patch(PolygonPatch(feature.shape,\n",
      "                                alpha=0.6, zorder=0, \n",
      "                                **params))\n",
      "    \n",
      "# Plot faults\n",
      "for fault in faults:\n",
      "    # If fault is concealed, plot it with dashes\n",
      "    description = fault.metadata.find('.//gml:description',\n",
      "                                     namespaces=NAMESPACES)\n",
      "    if description and ('concealed' in description[0].text):\n",
      "        param = dict(color='black', linewidth=2, dashes=(5, 5))\n",
      "    else:\n",
      "        param = dict(color='black', linewidth=2)\n",
      "        \n",
      "    xs, ys = fault.shape.xy\n",
      "    axes.plot(xs, ys, zorder=1, **param)\n",
      "    \n",
      "# Plot contacts\n",
      "projections = set()\n",
      "for contact in contacts:\n",
      "    # Work out what sort of contact we're plotting\n",
      "    descr = contact.metadata.find('.//gml:description',\n",
      "                                     namespaces=NAMESPACES)\n",
      "    descr = descr[0].text.lower()\n",
      "    if descr == 'geological boundary':\n",
      "        props = dict(color='black', dashes=(7, 1), linewidth=0.5)\n",
      "    elif descr == 'fault':\n",
      "        # We'll just skip these ones\n",
      "        props = dict(color='blue', linewidth=0)\n",
      "    elif descr == 'dyke or vein':\n",
      "        props = dict(color='red', linewidth=3)\n",
      "    elif descr == 'marker bed/band':\n",
      "        props = dict(color='gray', linewidth=1)\n",
      "        \n",
      "    # Plot the line\n",
      "    xs, ys = contact.shape.xy\n",
      "    axes.plot(xs, ys, zorder=2, **props)\n",
      "    \n",
      "axes.set_xlim(119.52, 120.90)\n",
      "axes.set_ylim(-20.5, -21.6)\n",
      "axes.set_aspect('equal')\n",
      "axes.set_axis_off()\n",
      "fig.savefig('geo_map.png')"
     ],
     "language": "python",
     "metadata": {},
     "outputs": []
    },
    {
     "cell_type": "code",
     "collapsed": false,
     "input": [
      "# Get ages\n",
      "ages = set()\n",
      "for feature in geologic_units:\n",
      "    # Work out how to plot this unit\n",
      "    age_elem = feature.metadata.xpath(\n",
      "        './/gsml:preferredAge//gsml:value', \n",
      "        namespaces=NAMESPACES)[0]\n",
      "    ages.add(shorten_namespace(age_elem.text))\n",
      "ages"
     ],
     "language": "python",
     "metadata": {},
     "outputs": []
    }
   ],
   "metadata": {}
  }
 ]
}