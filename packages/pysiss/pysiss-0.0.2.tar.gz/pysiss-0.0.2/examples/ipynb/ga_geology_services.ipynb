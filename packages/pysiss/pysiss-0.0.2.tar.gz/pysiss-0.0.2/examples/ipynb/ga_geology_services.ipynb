{
 "metadata": {
  "name": "",
  "signature": "sha256:02fccde0eb22bdb20bb70014b5dd596fd48eb153f7d5eceb85bd3a40ecae5d1f"
 },
 "nbformat": 3,
 "nbformat_minor": 0,
 "worksheets": [
  {
   "cells": [
    {
     "cell_type": "code",
     "collapsed": false,
     "input": [
      "%pylab inline"
     ],
     "language": "python",
     "metadata": {},
     "outputs": []
    },
    {
     "cell_type": "markdown",
     "metadata": {},
     "outputs": [],
     "source": [
      "Code to generate a single SOAP query"
     ]
    },
    {
     "cell_type": "code",
     "collapsed": false,
     "input": [
      "import textwrap\n",
      "import requests\n",
      "\n",
      "# West Australian geology\n",
      "wfsurl_template = (\"http://www.ga.gov.au/geows/{0}/oneg_wa_1m/wfs\")\n",
      "geologic_objects = ('contacts', 'faults', 'geologicunits')\n",
      "\n",
      "# Post request body\n",
      "request_template = textwrap.dedent(\"\"\"\\\n",
      "    <?xml version=\"1.0\" encoding=\"utf-8\"?>\n",
      "    <wfs:GetFeature\n",
      "     xmlns:wfs=\"http://www.opengis.net/wfs\"\n",
      "     xmlns:ogc=\"http://www.opengis.net/ogc\"\n",
      "     xmlns:gml=\"http://www.opengis.net/gml\"\n",
      "     xmlns:sa=\"http://www.opengis.net/sampling/1.0\"\n",
      "     maxFeatures=\"{max_features}\" service=\"WFS\"\n",
      "     version=\"1.1.0\" xmlns:gsml=\"urn:cgi:xmlns:CGI:GeoSciML:2.0\">\n",
      "       <wfs:Query typeName=\"gsml:MappedFeature\">\n",
      "        <ogc:Filter xmlns:ogc=\"http://www.opengis.net/ogc\">\n",
      "           <ogc:BBOX>\n",
      "             <ogc:PropertyName>gsml:shape</ogc:PropertyName>\n",
      "             <gml:Envelope srsName=\"EPSG:4326\">\n",
      "               <gml:lowerCorner>{lower_corner[0]}, {lower_corner[1]}</gml:lowerCorner>\n",
      "               <gml:upperCorner>{upper_corner[0]}, {upper_corner[1]}</gml:upperCorner>\n",
      "             </gml:Envelope>\n",
      "           </ogc:BBOX>\n",
      "         </ogc:Filter>\n",
      "       </wfs:Query>\n",
      "    </wfs:GetFeature>\n",
      "\"\"\")"
     ],
     "language": "python",
     "metadata": {},
     "outputs": []
    },
    {
     "cell_type": "code",
     "collapsed": false,
     "input": [
      "wfsurl_template.format('geologicunits')"
     ],
     "language": "python",
     "metadata": {},
     "outputs": []
    },
    {
     "cell_type": "markdown",
     "metadata": {},
     "outputs": [],
     "source": [
      "Next we need to loop through and get subsequent features from the WFS"
     ]
    },
    {
     "cell_type": "code",
     "collapsed": false,
     "input": [
      "# Set some properties for the request\n",
      "line_params = dict(\n",
      "    lower_corner=(119.52, -20.5),\n",
      "    upper_corner=(120.90, -21.6),\n",
      "    max_features=2000)\n",
      "geologic_params = line_params.copy()\n",
      "geologic_params['max_features'] = 600\n",
      "context = dict(\n",
      "    geologicunits=geologic_params,\n",
      "    faults=line_params,\n",
      "    contacts=line_params)\n",
      "\n",
      "# POST to the WFS, stream the results back to file\n",
      "for object_type, params in context.items(): \n",
      "    response = requests.post(\n",
      "        url=wfsurl_template.format(object_type),\n",
      "        data=request_template.format(**params),\n",
      "        stream=True,\n",
      "        timeout=3000)\n",
      "    if response.status_code == 200:\n",
      "        with open('{0}.xml'.format(object_type), 'wb') as fhandle:\n",
      "            for chunk in response.iter_content(chunk_size=int(1e6)):\n",
      "                fhandle.write(chunk)\n",
      "    else:\n",
      "        print 'Request failed - {0}'.format(response.status_code, response.message)"
     ],
     "language": "python",
     "metadata": {},
     "outputs": []
    }
   ],
   "metadata": {}
  }
 ]
}