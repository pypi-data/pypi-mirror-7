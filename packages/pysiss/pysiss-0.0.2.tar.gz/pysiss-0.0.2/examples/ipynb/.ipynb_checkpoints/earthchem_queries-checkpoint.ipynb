{
 "metadata": {
  "name": "",
  "signature": "sha256:3e673c54d2f0e1ea9d40c590890e06d4e9c1015893a7186db451eeb27bdbf644"
 },
 "nbformat": 3,
 "nbformat_minor": 0,
 "worksheets": [
  {
   "cells": [
    {
     "cell_type": "code",
     "collapsed": false,
     "input": [
      "%pylab inline\n",
      "\n",
      "import pysiss\n",
      "from pysiss.vocabulary.lithology.composition import EarthChemQuery"
     ],
     "language": "python",
     "metadata": {},
     "outputs": []
    },
    {
     "cell_type": "code",
     "collapsed": false,
     "input": [
      "from IPython.display import HTML\n",
      "\n",
      "def embed_map(map, path=\"map.html\"):\n",
      "    \"\"\" Embeds a linked iframe to the map into the IPython notebook.\n",
      "    \n",
      "        Note: this method will not capture the source of the map into the notebook.\n",
      "        This method should work for all maps (as long as they use relative urls).\n",
      "    \"\"\"\n",
      "    map.create_map(path=path)\n",
      "    return HTML('<iframe src=\"files/{path}\" style=\"width: 100%; height: 510px; border: none\"></iframe>'.format(path=path))\n"
     ],
     "language": "python",
     "metadata": {},
     "outputs": []
    },
    {
     "cell_type": "code",
     "collapsed": false,
     "input": [
      "results = {}\n",
      "for comp in EarthChemQuery.restrictions['level3']:\n",
      "    query = EarthChemQuery(level3=comp, max_results=100)\n",
      "    results[comp] = query.result"
     ],
     "language": "python",
     "metadata": {},
     "outputs": []
    },
    {
     "cell_type": "code",
     "collapsed": false,
     "input": [
      "import brewer2mpl as brewer\n",
      "\n",
      "cmap = brewer.get_map('RdYlBu', 'Diverging', len(results.keys()))"
     ],
     "language": "python",
     "metadata": {},
     "outputs": []
    },
    {
     "cell_type": "code",
     "collapsed": false,
     "input": [
      "import folium\n",
      "\n",
      "# Generate the map\n",
      "sample_map = folium.Map(location=[0, 0],\n",
      "                        zoom_start=1, \n",
      "                        tiles='Mapbox',\n",
      "                        API_key='jessrobertson.i9c8em78')\n",
      "\n",
      "for color, (comp, result) in zip(cmap.colors, results.items()):\n",
      "    color_hex = '#%02x%02x%02x' % tuple(color)\n",
      "    for _, sample in result.iterrows():\n",
      "        sample_map.circle_marker(\n",
      "            location=(sample['latitude'], sample['longitude']),\n",
      "            popup=sample['sample_id'] + '/' + sample['source'],\n",
      "            line_color=color_hex, fill_color=color_hex, radius=100)\n",
      "\n",
      "# Show the map in the notebook\n",
      "embed_map(sample_map)"
     ],
     "language": "python",
     "metadata": {},
     "outputs": []
    },
    {
     "cell_type": "code",
     "collapsed": false,
     "input": [
      "figure(figsize=(11, 8))\n",
      "\n",
      "markers = {\n",
      "    'USGS': 'o',\n",
      "    'NAVDAT': 's',\n",
      "    'PETDB': 'd',\n",
      "    'other': '^'\n",
      "}\n",
      "\n",
      "for color, (comp, result) in zip(cmap.colors, results.items()):\n",
      "    for (label, data) in result.groupby('source'):\n",
      "        plot(data['sio2'], data['mgo'], linewidth=0, \n",
      "             marker=markers[label], label=label, \n",
      "             color=map(lambda x: x / 255., color),\n",
      "             alpha=0.6)\n",
      "xlabel('SiO2')\n",
      "ylabel('MgO')\n",
      "yscale('log')\n",
      "legend()"
     ],
     "language": "python",
     "metadata": {},
     "outputs": []
    },
    {
     "cell_type": "code",
     "collapsed": false,
     "input": [
      "!!ls"
     ],
     "language": "python",
     "metadata": {},
     "outputs": [
      {
       "metadata": {},
       "output_type": "pyout",
       "prompt_number": 1,
       "text": [
        "['add_notebook.py',\n",
        " 'age_styles.json',\n",
        " 'earthchem_queries.ipynb',\n",
        " 'ga_geology_services.ipynb',\n",
        " 'geosciml_sparql.ipynb',\n",
        " 'lithology_styles.json',\n",
        " 'nvcl_test.ipynb',\n",
        " 'raster_data.ipynb',\n",
        " 'roadshow_demo.ipynb',\n",
        " 'test_data',\n",
        " 'tmp',\n",
        " 'unmarshalling_geosciml_vector_data.ipynb']"
       ]
      }
     ],
     "prompt_number": 1
    },
    {
     "cell_type": "code",
     "collapsed": false,
     "input": [
      "import os\n",
      "\n",
      "os.chdir('/home/jess/developer/pysiss/pysiss/vocabulary/lithology/composition/')"
     ],
     "language": "python",
     "metadata": {},
     "outputs": [],
     "prompt_number": 2
    },
    {
     "cell_type": "code",
     "collapsed": false,
     "input": [
      "from lxml import etree\n",
      "\n",
      "with open('../resources/earthchem_soap_search_schema.xsd', 'rb') as fhandle:\n",
      "    tree = etree.parse(fhandle)"
     ],
     "language": "python",
     "metadata": {},
     "outputs": [],
     "prompt_number": 18
    },
    {
     "cell_type": "code",
     "collapsed": false,
     "input": [
      "from pysiss.vocabulary.namespaces import shorten_namespace, NamespaceRegistry\n",
      "\n",
      "context = iter(tree.xpath('.//xs:element', namespaces=NamespaceRegistry()))\n",
      "\n",
      "for element in context:\n",
      "    if element.get('name') == 'QueryParameters':\n",
      "        parameters = element.find('./xs:complextype/xs:sequence')\n",
      "        \n",
      "        print [e.get('name') for e in element.xpath('.//xs)] "
     ],
     "language": "python",
     "metadata": {},
     "outputs": [
      {
       "output_type": "stream",
       "stream": "stdout",
       "text": [
        "[None]\n"
       ]
      }
     ],
     "prompt_number": 78
    },
    {
     "cell_type": "code",
     "collapsed": false,
     "input": [],
     "language": "python",
     "metadata": {},
     "outputs": []
    }
   ],
   "metadata": {}
  }
 ]
}