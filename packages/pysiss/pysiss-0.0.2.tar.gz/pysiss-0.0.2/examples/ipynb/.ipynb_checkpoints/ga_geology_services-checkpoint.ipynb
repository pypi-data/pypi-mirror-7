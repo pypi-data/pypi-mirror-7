{
 "metadata": {
  "name": "",
  "signature": "sha256:72706e25adfc7000ecbd31ba107c26a8fcb63f7a50777a18e673083492d920e2"
 },
 "nbformat": 3,
 "nbformat_minor": 0,
 "worksheets": [
  {
   "cells": [
    {
     "cell_type": "code",
     "collapsed": false,
     "input": [
      "%pylab inline"
     ],
     "language": "python",
     "metadata": {},
     "outputs": [
      {
       "output_type": "stream",
       "stream": "stdout",
       "text": [
        "Populating the interactive namespace from numpy and matplotlib\n"
       ]
      }
     ],
     "prompt_number": 1
    },
    {
     "cell_type": "code",
     "collapsed": false,
     "input": [
      "from pysiss.webservices.geoscience_australia import DEFAULT_ENDPOINTS\n",
      "\n",
      "# West Australian geology\n",
      "wa_endpoints = DEFAULT_ENDPOINTS['wa1m']\n",
      "wfsurl_template = wa_endpoints['url_template']\n",
      "geologic_objects = wa_endpoints['geologic_objects']"
     ],
     "language": "python",
     "metadata": {},
     "outputs": [],
     "prompt_number": 1
    },
    {
     "cell_type": "markdown",
     "metadata": {},
     "source": [
      "Next we need to loop through and get subsequent features from the WFS"
     ]
    },
    {
     "cell_type": "code",
     "collapsed": false,
     "input": [
      "from pysiss.webservices import post_block_requests\n",
      "\n",
      "# Parameters for POST request\n",
      "post_params = dict(\n",
      "    lower_corner=(119.52, -20.5),\n",
      "    upper_corner=(120.90, -21.6),\n",
      "    max_features=500,\n",
      "    nx_blocks=7\n",
      ")\n",
      "\n",
      "# POST to the WFS, stream the results back to file\n",
      "for obj in geologic_objects:\n",
      "    url = wfsurl_template.format(obj)\n",
      "    filename = obj\n",
      "    post_block_requests(url, filename, **post_params)"
     ],
     "language": "python",
     "metadata": {},
     "outputs": []
    },
    {
     "cell_type": "code",
     "collapsed": false,
     "input": [
      "\n",
      "\n",
      "n_blocks = post_params['nx_blocks'] ** 2\n",
      "files = dict([(u, 'tmp/{0}_{{0}}.xml'.format(u)) for u in geologic_objects])\n",
      "idents = set()\n",
      "features = defaultdict(list)\n",
      "geologic_units, faults, contacts = set(), set(), set()\n",
      "for block_idx in range(n_blocks):\n",
      "    for obj in geologic_objects:\n",
      "        filename = files[obj].format(block_idx)\n",
      "        mapped_features = unmarshal_all(filename, tag='gsml:MappedFeature')\n",
      "        for feature in mapped_features:\n",
      "            if feature.ident not in idents:\n",
      "                features[feature.type].append(feature)\n",
      "                idents.add(feature.ident)"
     ],
     "language": "python",
     "metadata": {},
     "outputs": []
    },
    {
     "cell_type": "code",
     "collapsed": false,
     "input": [
      "from pysiss.webservices.geoscience_australia import DEFAULT_ENDPOINTS\n",
      "import re, os\n",
      "\n",
      "# West Australian geology\n",
      "wa_endpoints = DEFAULT_ENDPOINTS['wa1m']\n",
      "wfsurl_template = wa_endpoints['url_template']\n",
      "geologic_objects = wa_endpoints['geologic_objects']\n",
      "\n",
      "from pysiss.vocabulary.unmarshal import unmarshal_all\n",
      "from collections import defaultdict\n",
      "\n",
      "idents = set()\n",
      "features = defaultdict(list)\n",
      "geologic_units, faults, contacts = set(), set(), set()\n",
      "for obj in geologic_objects:\n",
      "    # Get list of successful calls\n",
      "    pattern = re.compile('{0}_[0-9]+\\.xml'.format(obj))\n",
      "    files = (os.path.join('./tmp', f) for f in os.listdir('./tmp') if pattern.match(f))\n",
      "\n",
      "    # Loop through files, add mapped features to collection\n",
      "    for filename in files:\n",
      "        mapped_features = unmarshal_all(filename, tag='gsml:MappedFeature')\n",
      "        for feature in mapped_features:\n",
      "            if feature.ident not in idents:\n",
      "                features[feature.type].append(feature)\n",
      "                idents.add(feature.ident)\n",
      "\n",
      "contacts = features['gsml:Contact']\n",
      "faults = features['gsml:Fault']\n",
      "geologic_units = features['gsml:GeologicUnit']"
     ],
     "language": "python",
     "metadata": {},
     "outputs": [],
     "prompt_number": 6
    },
    {
     "cell_type": "code",
     "collapsed": false,
     "input": [
      "import os, re\n",
      "\n",
      "files = {}\n",
      "for obj in geologic_objects:\n",
      "    pattern = re.compile('{0}_[0-9]+\\.xml'.format(obj))\n",
      "    files[] = \n",
      "    # Read "
     ],
     "language": "python",
     "metadata": {},
     "outputs": [],
     "prompt_number": 10
    },
    {
     "cell_type": "code",
     "collapsed": false,
     "input": [
      "import simplejson\n",
      "\n",
      "with open('geological_unit_styles.json', 'rb') as fhandle:\n",
      "    styles = simplejson.load(fhandle)\n",
      "    \n",
      "    # Expand styles using defaults\n",
      "    geologic_styles = {}\n",
      "    default_style = styles['default']\n",
      "    for lith in styles.keys():\n",
      "        # We only want to update the keys that aren't there already\n",
      "        geologic_styles[lith] = default_style.copy()\n",
      "        geologic_styles[lith].update(styles[lith])"
     ],
     "language": "python",
     "metadata": {},
     "outputs": []
    },
    {
     "cell_type": "code",
     "collapsed": false,
     "input": [
      "from pysiss.vocabulary.namespaces import NamespaceRegistry, shorten_namespace\n",
      "from descartes.patch import PolygonPatch\n",
      "\n",
      "NAMESPACES = NamespaceRegistry()\n",
      "\n",
      "fig = figure(figsize=(22, 22))\n",
      "axes = gca()\n",
      "\n",
      "# Plot units\n",
      "for feature in geologic_units:\n",
      "    # Work out how to plot this unit\n",
      "    lithology = feature.metadata.xpath(\n",
      "        './/gsml:RockMaterial/gsml:lithology/@xlink:href', \n",
      "        namespaces=NAMESPACES)\n",
      "    if lithology:\n",
      "        try:\n",
      "            params = geologic_styles[shorten_namespace(lithology[0])]\n",
      "        except KeyError:\n",
      "            params = geologic_styles['default']\n",
      "    else:\n",
      "        params = geologic_styles['default']\n",
      "    \n",
      "    # Add patch\n",
      "    axes.add_patch(PolygonPatch(feature.shape,\n",
      "                                alpha=0.6, zorder=0, \n",
      "                                **params))\n",
      "    \n",
      "# Plot faults\n",
      "for fault in faults:\n",
      "    # If fault is concealed, plot it with dashes\n",
      "    description = fault.metadata.find('.//gml:description',\n",
      "                                     namespaces=NAMESPACES)\n",
      "    if description and ('concealed' in description[0].text):\n",
      "        param = dict(color='black', linewidth=2, dashes=(5, 5))\n",
      "    else:\n",
      "        param = dict(color='black', linewidth=2)\n",
      "        \n",
      "    xs, ys = fault.shape.xy\n",
      "    axes.plot(xs, ys, zorder=1, **param)\n",
      "    \n",
      "# Plot contacts\n",
      "projections = set()\n",
      "for contact in contacts:\n",
      "    # Work out what sort of contact we're plotting\n",
      "    descr = contact.metadata.find('.//gml:description',\n",
      "                                     namespaces=NAMESPACES)\n",
      "    descr = descr[0].text.lower()\n",
      "    if descr == 'geological boundary':\n",
      "        props = dict(color='black', dashes=(7, 1), linewidth=0.5)\n",
      "    elif descr == 'fault':\n",
      "        # We'll just skip these ones\n",
      "        props = dict(color='blue', linewidth=0)\n",
      "    elif descr == 'dyke or vein':\n",
      "        props = dict(color='red', linewidth=3)\n",
      "    elif descr == 'marker bed/band':\n",
      "        props = dict(color='gray', linewidth=1)\n",
      "        \n",
      "    # Plot the line\n",
      "    xs, ys = contact.shape.xy\n",
      "    axes.plot(xs, ys, zorder=2, **props)\n",
      "    \n",
      "axes.set_xlim(119.52, 120.90)\n",
      "axes.set_ylim(-20.5, -21.6)\n",
      "axes.set_aspect('equal')\n",
      "axes.set_axis_off()\n",
      "fig.savefig('geo_map.png')"
     ],
     "language": "python",
     "metadata": {},
     "outputs": [
      {
       "ename": "NameError",
       "evalue": "name 'geologic_units' is not defined",
       "output_type": "pyerr",
       "traceback": [
        "\u001b[1;31m---------------------------------------------------------------------------\u001b[0m\n\u001b[1;31mNameError\u001b[0m                                 Traceback (most recent call last)",
        "\u001b[1;32m<ipython-input-2-10cc01bc0d99>\u001b[0m in \u001b[0;36m<module>\u001b[1;34m()\u001b[0m\n\u001b[0;32m      8\u001b[0m \u001b[1;33m\u001b[0m\u001b[0m\n\u001b[0;32m      9\u001b[0m \u001b[1;31m# Plot units\u001b[0m\u001b[1;33m\u001b[0m\u001b[1;33m\u001b[0m\u001b[0m\n\u001b[1;32m---> 10\u001b[1;33m \u001b[1;32mfor\u001b[0m \u001b[0mfeature\u001b[0m \u001b[1;32min\u001b[0m \u001b[0mgeologic_units\u001b[0m\u001b[1;33m:\u001b[0m\u001b[1;33m\u001b[0m\u001b[0m\n\u001b[0m\u001b[0;32m     11\u001b[0m     \u001b[1;31m# Work out how to plot this unit\u001b[0m\u001b[1;33m\u001b[0m\u001b[1;33m\u001b[0m\u001b[0m\n\u001b[0;32m     12\u001b[0m     lithology = feature.metadata.xpath(\n",
        "\u001b[1;31mNameError\u001b[0m: name 'geologic_units' is not defined"
       ]
      },
      {
       "metadata": {},
       "output_type": "display_data",
       "png": "[encoded data removed]",
       "text": [
        "<matplotlib.figure.Figure at 0x3c53e50>"
       ]
      }
     ],
     "prompt_number": 2
    },
    {
     "cell_type": "code",
     "collapsed": false,
     "input": [
      "# Get ages\n",
      "ages = set()\n",
      "for feature in geologic_units:\n",
      "    # Work out how to plot this unit\n",
      "    age_elem = feature.metadata.xpath(\n",
      "        './/gsml:preferredAge//gsml:value', \n",
      "        namespaces=NAMESPACES)[0]\n",
      "    ages.add(shorten_namespace(age_elem.text))\n",
      "ages"
     ],
     "language": "python",
     "metadata": {},
     "outputs": []
    },
    {
     "cell_type": "code",
     "collapsed": false,
     "input": [
      "import owslib"
     ],
     "language": "python",
     "metadata": {},
     "outputs": [],
     "prompt_number": 7
    },
    {
     "cell_type": "code",
     "collapsed": false,
     "input": [
      "lower_corner=[119.52, -20.5]\n",
      "upper_corner=[120.90, -21.6]\n",
      "bounds = owslib.fes.BBox(lower_corner + upper_corner)\n",
      "print bounds.toXML()\n",
      "service_type = owslib.fes.PropertyIsLike(propertyname='', literal='%OGC:WFS%')\n",
      "print service_type.toXML()\n",
      "constraints = owslib.fes.And((bounds, service_type))\n",
      "print constraints.toXML()"
     ],
     "language": "python",
     "metadata": {},
     "outputs": [
      {
       "output_type": "stream",
       "stream": "stdout",
       "text": [
        "<Element {http://www.opengis.net/ogc}BBOX at 0x7f40c543c830>\n",
        "<Element {http://www.opengis.net/ogc}PropertyIsLike at 0x4c97440>\n",
        "<Element {http://www.opengis.net/ogc}And at 0x7f40c543cc20>\n"
       ]
      }
     ],
     "prompt_number": 18
    },
    {
     "cell_type": "code",
     "collapsed": false,
     "input": [
      "bounds.bbox"
     ],
     "language": "python",
     "metadata": {},
     "outputs": [
      {
       "metadata": {},
       "output_type": "pyout",
       "prompt_number": 21,
       "text": [
        "[119.52, -20.5, 120.9, -21.6]"
       ]
      }
     ],
     "prompt_number": 21
    }
   ],
   "metadata": {}
  }
 ]
}