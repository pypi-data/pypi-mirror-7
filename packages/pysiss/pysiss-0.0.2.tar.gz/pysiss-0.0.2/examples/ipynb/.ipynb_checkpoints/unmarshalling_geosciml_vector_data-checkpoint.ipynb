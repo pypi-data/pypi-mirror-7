{
 "metadata": {
  "name": "",
  "signature": "sha256:009dc105b9953f0e8c68511627f2824e5fa86a881e9fea87d5a4f8ad28bbbb63"
 },
 "nbformat": 3,
 "nbformat_minor": 0,
 "worksheets": [
  {
   "cells": [
    {
     "cell_type": "code",
     "collapsed": false,
     "input": [
      "%pylab inline\n",
      "from descartes.patch import PolygonPatch\n",
      "\n",
      "from pysiss.vocabulary.unmarshal import unmarshal_all, unmarshal\n",
      "from pysiss.vocabulary.namespaces import \\\n",
      "    NamespaceRegistry, shorten_namespace\n",
      "\n",
      "NAMESPACES = NamespaceRegistry()"
     ],
     "language": "python",
     "metadata": {},
     "outputs": []
    },
    {
     "cell_type": "code",
     "collapsed": false,
     "input": [
      "geologic_units = unmarshal_all('geologicunits.xml', tag='gsml:MappedFeature')\n",
      "faults = unmarshal_all('faults.xml', tag='gsml:MappedFeature')\n",
      "contacts = unmarshal_all('contacts.xml', tag='gsml:MappedFeature')"
     ],
     "language": "python",
     "metadata": {},
     "outputs": []
    },
    {
     "cell_type": "code",
     "collapsed": false,
     "input": [
      "# Just to see that these have their own metadata\n",
      "for features in (geologic_units, faults, contacts):\n",
      "    for feature in features[:5]:\n",
      "        print feature.metadata"
     ],
     "language": "python",
     "metadata": {},
     "outputs": []
    },
    {
     "cell_type": "code",
     "collapsed": false,
     "input": [
      "unit = geologic_units[0]\n",
      "print unit.metadata.xpath('../gsml:value', namespaces=NAMESPACES)"
     ],
     "language": "python",
     "metadata": {},
     "outputs": []
    },
    {
     "cell_type": "code",
     "collapsed": false,
     "input": [
      "def update_range(xs, ys, x_range, y_range):\n",
      "    x_range = max(min(xs), x_range[0]), min(max(xs), x_range[1])\n",
      "    y_range = max(min(ys), y_range[0]), min(max(ys), y_range[1])\n",
      "    return x_range, y_range"
     ],
     "language": "python",
     "metadata": {},
     "outputs": []
    },
    {
     "cell_type": "code",
     "collapsed": false,
     "input": [
      "import simplejson\n",
      "\n",
      "with open('geological_unit_styles.json', 'rb') as fhandle:\n",
      "    styles = simplejson.load(fhandle)\n",
      "    \n",
      "    # Expand styles using defaults\n",
      "    geologic_styles = {}\n",
      "    default_style = styles['default']\n",
      "    for lith in styles.keys():\n",
      "        # We only want to update the keys that aren't there already\n",
      "        geologic_styles[lith] = default_style.copy()\n",
      "        geologic_styles[lith].update(styles[lith])"
     ],
     "language": "python",
     "metadata": {},
     "outputs": []
    },
    {
     "cell_type": "code",
     "collapsed": false,
     "input": [
      "fig = figure(figsize=(40, 40))\n",
      "axes = gca()\n",
      "\n",
      "# Plot units\n",
      "for feature in geologic_units:\n",
      "    # Work out how to plot this unit\n",
      "    lithology = feature.metadata.xpath(\n",
      "        './/gsml:RockMaterial/gsml:lithology/@xlink:href', \n",
      "        namespaces=NAMESPACES)\n",
      "    if lithology:\n",
      "        params = geologic_styles[shorten_namespace(lithology[0])]\n",
      "    else:\n",
      "        params = geologic_styles['default']\n",
      "    \n",
      "    # Add patch\n",
      "    axes.add_patch(PolygonPatch(feature.shape,\n",
      "                                alpha=0.6, zorder=0, \n",
      "                                **params))\n",
      "    \n",
      "# Plot faults\n",
      "x_range, y_range = (-inf, inf), (-inf, inf)\n",
      "for fault in faults:\n",
      "    # If fault is concealed, plot it with dashes\n",
      "    description = fault.metadata.find('.//gml:description',\n",
      "                                     namespaces=NAMESPACES)\n",
      "    if description and ('concealed' in description[0].text):\n",
      "        param = dict(color='black', linewidth=2, dashes=(5, 5))\n",
      "    else:\n",
      "        param = dict(color='black', linewidth=2)\n",
      "        \n",
      "    xs, ys = fault.shape.xy\n",
      "    x_range, y_range = update_range(xs, ys, x_range, y_range)\n",
      "    axes.plot(xs, ys, zorder=1, **param)\n",
      "    \n",
      "# Plot contacts\n",
      "projections = set()\n",
      "for contact in contacts:\n",
      "    # Work out what sort of contact we're plotting\n",
      "    descr = contact.metadata.find('.//gml:description',\n",
      "                                     namespaces=NAMESPACES)\n",
      "    descr = descr[0].text.lower()\n",
      "    if descr == 'geological boundary':\n",
      "        props = dict(color='black', dashes=(7, 1), linewidth=0.5)\n",
      "    elif descr == 'fault':\n",
      "        # We'll just skip these ones\n",
      "        props = dict(color='blue', linewidth=0)\n",
      "    elif descr == 'dyke or vein':\n",
      "        props = dict(color='red', linewidth=3)\n",
      "    elif descr == 'marker bed/band':\n",
      "        props = dict(color='gray', linewidth=1)\n",
      "        \n",
      "    # Plot the line\n",
      "    xs, ys = contact.shape.xy\n",
      "    axes.plot(xs, ys, zorder=2, **props)\n",
      "    \n",
      "print x_range, y_range\n",
      "    \n",
      "axes.set_xlim(*x_range)\n",
      "axes.set_ylim(*y_range)\n",
      "axes.set_aspect('equal')\n",
      "axes.set_axis_off()\n",
      "fig.savefig('geo_map.png')"
     ],
     "language": "python",
     "metadata": {},
     "outputs": []
    },
    {
     "cell_type": "code",
     "collapsed": false,
     "input": [],
     "language": "python",
     "metadata": {},
     "outputs": []
    }
   ],
   "metadata": {}
  }
 ]
}