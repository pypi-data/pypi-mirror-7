{
 "metadata": {
  "name": ""
 },
 "nbformat": 3,
 "nbformat_minor": 0,
 "worksheets": [
  {
   "cells": [
    {
     "cell_type": "code",
     "collapsed": false,
     "input": [
      "import numpy as np\n",
      "import pydecode"
     ],
     "language": "python",
     "outputs": [],
     "prompt_number": 1
    },
    {
     "cell_type": "code",
     "collapsed": false,
     "input": [
      "nonterminals = []\n",
      "rules = []"
     ],
     "language": "python",
     "outputs": []
    },
    {
     "cell_type": "code",
     "collapsed": true,
     "input": [
      "def make_index_set(n, N):\n",
      "    return np.arange(n*n*n*N).reshape((n, n, n, N))\n",
      "def make_items(items, n, N):\n",
      "    return np.array(np.unravel_index(items, (n, n, n, N))).T\n",
      "\n",
      "def make_label_set(n):\n",
      "    return np.arange(n*n*n*n*n*2).reshape((n, n, n, n, n, 2))\n",
      "\n",
      "def make_labels(labels, n):\n",
      "    return np.array(np.unravel_index(labels, (n, n, n, n, n, 2))).T"
     ],
     "language": "python",
     "outputs": [],
     "prompt_number": 23
    },
    {
     "cell_type": "code",
     "collapsed": false,
     "input": [
      "def xbar_cky(n, dep_matrix):\n",
      "    \"\"\"\n",
      "    Parameters\n",
      "    ----------\n",
      "    n: int\n",
      "       Length\n",
      "\n",
      "    dep_matrix : bool ndarray\n",
      "       rows are heads and columns are modifiers.\n",
      "    \"\"\"\n",
      "    items = make_index_set(n)\n",
      "    labels = make_label_set(n)\n",
      "    chart = pydecode.ChartBuilder(items, unstrict=True)\n",
      "    has_item = np.zeros(n*n*n).reshape((n,n,n))\n",
      "\n",
      "    for i in range(n):\n",
      "        chart.init(items[i, i, i])\n",
      "        has_item[i,i,i] = 1\n",
      "\n",
      "    for d in range(1, n):\n",
      "        for i in range(n):\n",
      "            k = i + d\n",
      "            if k >= n: continue\n",
      "            for h in range(i, k+1):\n",
      "                # set chart C[i,k, h1 if b else h2] = \\bigoplus_{j \\in {i,k-1}, h1 \\in {i,j}, h2 \\in {j+1, k}}  C[i,j] \\otimes C[j+1,k, h2]\n",
      "                edges =  \\\n",
      "                    [[items[i, j, h], items[j+1, k, h2]]\n",
      "                     for j in range(h, k)\n",
      "                     for h2 in range(j+1, k+1)\n",
      "                     if dep_matrix[h, h2]\n",
      "                     if has_item[i, j, h] and has_item[j+1, k, h2]] + \\\n",
      "                     [[items[i, j, h1], items[j+1, k, h]]\n",
      "                      for j in range(i, h)\n",
      "                      for h1 in range(i, j+1)\n",
      "                      if dep_matrix[h, h1]\n",
      "                      if has_item[i, j, h1] and has_item[j+1, k, h]]\n",
      "\n",
      "                if len(edges) > 0:\n",
      "\n",
      "                    chart.set(items[i, k, h], edges, \n",
      "                              labels=[labels[i, j, k, h, h2, 0] \n",
      "                                      for j in range(h, k)\n",
      "                                      for h2 in range(j+1, k+1)\n",
      "                                      if dep_matrix[h, h2]\n",
      "                                      if has_item[i, j, h] and has_item[j+1, k, h2] \n",
      "                                      ] +\\\n",
      "                                  [labels[i, j, k, h1, h, 1]\n",
      "                                   for j in range(i, h)\n",
      "                                   for h1 in range(i, j+1)\n",
      "                                   if dep_matrix[h, h1]\n",
      "                                   if has_item[i, j, h1] and has_item[j+1, k, h]]\n",
      "                                   )\n",
      "                    has_item[i,k,h] = 1\n",
      "                \n",
      "            # chart.set_t(items[i, k],\n",
      "            #             items[i, i:k],\n",
      "            #             items[i+1:k+1, k],\n",
      "            #             labels=labels[i, i:k, k])\n",
      "\n",
      "    chart.set(items[n-1, 0, 0], \n",
      "              [[items[0, n-1, h]] \n",
      "               for h in range(n)\n",
      "               if has_item[0, n-1, h]],\n",
      "              labels=[0] * n)\n",
      "            \n",
      "    return chart.finish(True)\n",
      "\n",
      "            # for j in range(i, k):\n",
      "            #     print (i,j,k)\n"
     ],
     "language": "python",
     "outputs": [],
     "prompt_number": 8
    },
    {
     "cell_type": "code",
     "collapsed": false,
     "input": [
      "mat = np.zeros((4,4))\n",
      "mat[1, 0] = 1\n",
      "mat[3, 2] = 1\n",
      "mat[1, 3] = 1"
     ],
     "language": "python",
     "outputs": [],
     "prompt_number": 18
    },
    {
     "cell_type": "code",
     "collapsed": false,
     "input": [
      "graph = xbar_cky(4, mat)"
     ],
     "language": "python",
     "outputs": [],
     "prompt_number": 19
    },
    {
     "cell_type": "code",
     "collapsed": false,
     "input": [
      "pydecode.draw(graph, make_labels(graph.labeling, 4), \n",
      "              make_items(graph.node_labeling, 4), out=\"/tmp/graph.png\")"
     ],
     "language": "python",
     "outputs": [],
     "prompt_number": 11
    },
    {
     "cell_type": "code",
     "collapsed": false,
     "input": [
      "import pydecode.test\n",
      "all = pydecode.test.all_paths(graph)\n",
      "for path in all:\n",
      "    print make_items([edge.head.label for edge in path], 4)"
     ],
     "language": "python",
     "outputs": [
      {
       "output_type": "stream",
       "stream": "stdout",
       "text": [
        "[[0 1 1]\n",
        " [2 3 3]\n",
        " [0 3 1]\n",
        " [3 0 0]]\n",
        "[[2 3 3]\n",
        " [1 3 1]\n",
        " [0 3 1]\n",
        " [3 0 0]]\n"
       ]
      }
     ],
     "prompt_number": 22
    },
    {
     "cell_type": "code",
     "collapsed": false,
     "input": [
      "make_items([4], 4)"
     ],
     "language": "python",
     "outputs": [
      {
       "output_type": "pyout",
       "prompt_number": 7,
       "text": [
        "array([[0, 1, 0]])"
       ]
      }
     ],
     "prompt_number": 7
    }
   ]
  }
 ]
}