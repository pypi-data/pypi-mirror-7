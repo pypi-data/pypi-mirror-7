{
 "metadata": {
  "name": ""
 },
 "nbformat": 3,
 "nbformat_minor": 0,
 "worksheets": [
  {
   "cells": [
    {
     "cell_type": "heading",
     "level": 1,
     "source": [
      "pydecode.nlp.tagger"
     ]
    },
    {
     "cell_type": "raw",
     "source": [
      ".. currentmodule:: pydecode.nlp\n",
      ".. autofunction:: tagger"
     ]
    },
    {
     "cell_type": "heading",
     "level": 2,
     "source": [
      "Example"
     ]
    },
    {
     "cell_type": "code",
     "collapsed": false,
     "input": [],
     "language": "python",
     "outputs": []
    },
    {
     "cell_type": "heading",
     "level": 2,
     "source": [
      "Bibliography"
     ]
    }
   ]
  }
 ]
}