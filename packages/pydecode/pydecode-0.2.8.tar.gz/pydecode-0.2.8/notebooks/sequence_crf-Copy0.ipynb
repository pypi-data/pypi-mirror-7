{
 "metadata": {
  "name": ""
 },
 "nbformat": 3,
 "nbformat_minor": 0,
 "worksheets": [
  {
   "cells": [
    {
     "cell_type": "heading",
     "level": 1,
     "source": [
      "Tutorial 5: Training a CRF"
     ]
    },
    {
     "cell_type": "code",
     "collapsed": false,
     "input": [
      "from sklearn.feature_extraction import DictVectorizer\n",
      "from collections import namedtuple\n",
      "import pydecode.model as model\n",
      "import pydecode.chart as chart\n",
      "import pydecode.hyper as ph\n",
      "from collections import Counter, defaultdict\n",
      "from itertools import izip\n",
      "import warnings\n",
      "reload(model)"
     ],
     "language": "python",
     "outputs": [
      {
       "output_type": "pyout",
       "prompt_number": 10,
       "text": [
        "<module 'pydecode.model' from '/home/srush/Projects/decoding/python/pydecode/model.pyc'>"
       ]
      }
     ],
     "prompt_number": 10
    },
    {
     "cell_type": "code",
     "collapsed": false,
     "input": [
      "class Dictionary:\n",
      "    def __init__(self, counts, word_counts, tag_set):\n",
      "        self.counts = counts \n",
      "        self.word_counts = word_counts\n",
      "        self.tag_set = tag_set\n",
      "        self.tag_num = {tag:i for i, tag in enumerate(tag_set)}\n",
      "        self.word_num = {word:i for i, word in enumerate(word_counts.iterkeys())}\n",
      "\n",
      "    def emission(self, word):\n",
      "        if word == \"ROOT\": return [\"<t>\"]\n",
      "        if word == \"END\": return [\"</t>\"]\n",
      "        if self.word_counts[word] > 5:\n",
      "            return self.counts[word].keys()\n",
      "        return self.tag_set\n",
      "\n",
      "    def tag_id(self, tag):\n",
      "        return self.tag_num.get(tag, 0)\n",
      "\n",
      "    def word_id(self, word):\n",
      "        return self.word_num.get(word, 0)\n",
      "\n",
      "    @staticmethod\n",
      "    def make(sentences, taggings):\n",
      "        tag_set = set()\n",
      "        word_counts = Counter()\n",
      "        counts = defaultdict(Counter)\n",
      "        for sentence, tags in izip(sentences, taggings):\n",
      "            #print sentence, tags\n",
      "            for word, tag in izip(sentence, tags):\n",
      "                counts[word][tag.tag] += 1\n",
      "                word_counts[word] += 1\n",
      "                tag_set.add(tag.tag)\n",
      "        print tag_set\n",
      "        return Dictionary(counts, word_counts, tag_set)\n",
      "\n",
      "    "
     ],
     "language": "python",
     "outputs": [],
     "prompt_number": 11
    },
    {
     "cell_type": "code",
     "collapsed": false,
     "input": [
      "class Bigram(namedtuple(\"Bigram\", [\"position\", \"prevtag\", \"tag\"])):\n",
      "    def __str__(self): return \"%s -> %s\"%(self.prevtag, self.tag)\n",
      "    \n",
      "    @staticmethod\n",
      "    def from_tagging(tagging):\n",
      "        return [Bigram(i, tag=tag, prevtag=tagging[i-1] if i > 0 else \"<t>\")\n",
      "                for i, tag in enumerate(tagging)] + [Bigram(len(tagging), tag=\"</t>\", prevtag=tagging[-1])] \n",
      "      \n",
      "class Tagged(namedtuple(\"Tagged\", [\"position\",  \"tag\"])):\n",
      "    def __str__(self): return \"%s\"%(self.tag,)"
     ],
     "language": "python",
     "outputs": [],
     "prompt_number": 12
    },
    {
     "cell_type": "code",
     "collapsed": false,
     "input": [
      "class TaggingCRFModel(model.DynamicProgrammingModel):\n",
      "    def initialize(self, sentences, tags):\n",
      "        self.dictionary = Dictionary.make(sentences, tags)\n",
      "        super(TaggingCRFModel, self).initialize(sentences, tags)\n",
      "\n",
      "\n",
      "    def dynamic_program(self, sentence, c):\n",
      "        words = [\"ROOT\"] + sentence + [\"END\"]\n",
      "        c.init(Tagged(0, \"<t>\"))\n",
      "        for i, word in enumerate(words[1:], 1):\n",
      "            prev_tags = self.dictionary.emission(words[i-1])\n",
      "            for tag in self.dictionary.emission(word):\n",
      "                c[Tagged(i, tag)] = \\\n",
      "                    c.sum([c[key] * c.sr(Bigram(i - 1, prev, tag))\n",
      "                           for prev in prev_tags \n",
      "                           for key in [Tagged(i - 1, prev)] \n",
      "                           if key in c])\n",
      "        return c\n",
      "\n",
      "    def initialize_features(self, sentence):\n",
      "        return [self.dictionary.word_id(word) for word in sentence]\n",
      "\n",
      "    def loss_augmented_inference(self, x, y, w, relaxed=False):\n",
      "        return self.inference(x, w)\n",
      "\n",
      "    def factored_joint_feature(self, sentence, bigram, data):\n",
      "        word = sentence[bigram.position] if bigram.position < len(sentence) else \"END\"\n",
      "        return {\"word:tag:%s:%s\" % (bigram.tag, word) : 1, \n",
      "                \"suff:word:tag:%d:%s:%s\" % (1, bigram.tag, word[-1:]) : 1, \n",
      "                \"suff:word:tag:%d:%s:%s\" % (2, bigram.tag, word[-2:]) : 1, \n",
      "                \"suff:word:tag:%d:%s:%s\" % (3, bigram.tag, word[-3:]) : 1, \n",
      "                \"pre:word:tag:%d:%s:%s\" % (1, bigram.tag, word[:1]) : 1, \n",
      "                \"pre:word:tag:%d:%s:%s\" % (2, bigram.tag, word[:2]) : 1, \n",
      "                \"pre:word:tag:%d:%s:%s\" % (3, bigram.tag, word[:3]) : 1, \n",
      "                \"word:%s\" %  word : 1, \n",
      "                \"tag-1:%s\" % bigram.prevtag : 1, \n",
      "                \"tag:%s\" % bigram.tag : 1,\n",
      "                \"bi:%s:%s\" % (bigram.prevtag, bigram.tag): 1,\n",
      "                }"
     ],
     "language": "python",
     "outputs": [],
     "prompt_number": 13
    },
    {
     "cell_type": "code",
     "collapsed": false,
     "input": [
      "data_X = map(lambda a: a.split(),\n",
      "             [\"the dog walked\",\n",
      "              \"in the park\",\n",
      "              \"in the dog\"])\n",
      "data_Y = map(lambda a: Bigram.from_tagging(a.split()),\n",
      "             [\"D N V\", \"I D N\", \"I D N\"])"
     ],
     "language": "python",
     "outputs": [],
     "prompt_number": 20
    },
    {
     "cell_type": "code",
     "collapsed": false,
     "input": [
      "def parse_training(handle):\n",
      "    x = []\n",
      "    y = []\n",
      "    for l in handle:\n",
      "        if not l.strip():\n",
      "            yield (x, y)\n",
      "            x = []\n",
      "            y = []\n",
      "        else:\n",
      "            word, tag = l.split()\n",
      "            x.append(word)\n",
      "            y.append(tag)\n",
      "    yield (x, y)\n",
      "data_X, data_Y = zip(*parse_training(open(\"tag/tag_train_small.dat\")))\n",
      "data_Y = [Bigram.from_tagging(t) for t in data_Y] "
     ],
     "language": "python",
     "outputs": [],
     "prompt_number": 15
    },
    {
     "cell_type": "code",
     "collapsed": false,
     "input": [
      "hm = TaggingCRFModel()\n",
      "hm.initialize(data_X, data_Y)\n",
      "for i in range(len(data_X))[:10]:\n",
      "    s = set(data_Y[i])\n",
      "    c = chart.ChartBuilder(lambda a: a,\n",
      "                           chart.HypergraphSemiRing, True)\n",
      "    hm.dynamic_program(data_X[i], c)\n",
      "    h = c.finish()\n",
      "    bool_pot = ph.BoolPotentials(h).from_vector([(e.label in s) for e in h.edges])\n",
      "    path = ph.best_path(h, bool_pot)\n",
      "    #for edge in path: print h.label(edge)\n",
      "    assert bool_pot.dot(path)"
     ],
     "language": "python",
     "outputs": [
      {
       "output_type": "stream",
       "stream": "stdout",
       "text": [
        "set(['ADV', 'NOUN', 'ADP', 'PRT', 'DET', '.', 'PRON', 'VERB', 'X', 'NUM', 'CONJ', 'ADJ'])\n"
       ]
      }
     ],
     "prompt_number": 16
    },
    {
     "cell_type": "code",
     "collapsed": false,
     "input": [
      "print data_Y[0]"
     ],
     "language": "python",
     "outputs": [
      {
       "output_type": "stream",
       "stream": "stdout",
       "text": [
        "[Bigram(position=0, prevtag='<t>', tag='NOUN'), Bigram(position=1, prevtag='NOUN', tag='NOUN'), Bigram(position=2, prevtag='NOUN', tag='VERB'), Bigram(position=3, prevtag='VERB', tag='NOUN'), Bigram(position=4, prevtag='NOUN', tag='.'), Bigram(position=5, prevtag='.', tag='</t>')]\n"
       ]
      }
     ],
     "prompt_number": 17
    },
    {
     "cell_type": "code",
     "collapsed": false,
     "input": [
      "words = \"Ms. Haag plays Elianti .\".split()\n",
      "#sp.predict([words])"
     ],
     "language": "python",
     "outputs": [],
     "prompt_number": 18
    },
    {
     "cell_type": "code",
     "collapsed": false,
     "input": [
      "from pystruct.learners import StructuredPerceptron, SubgradientSSVM\n",
      "hm = TaggingCRFModel()\n",
      "#sp = StructuredPerceptron(hm, verbose=1, max_iter=25)\n",
      "sp = SubgradientSSVM(hm, verbose=1, max_iter=25)\n",
      "\n",
      "with warnings.catch_warnings():\n",
      "    warnings.simplefilter(\"ignore\")\n",
      "    print type(sp.model)\n",
      "    sp.fit(data_X, data_Y)"
     ],
     "language": "python",
     "outputs": [
      {
       "output_type": "stream",
       "stream": "stdout",
       "text": [
        "<class '__main__.TaggingCRFModel'>\n",
        "set(['I', 'V', 'D', 'N'])\n",
        "Training primal subgradient structural SVM\n",
        "SubgradientSSVM(C=1.0, averaging=None, batch_size=None,\n",
        "        break_on_no_constraints=True, decay_exponent=1, decay_t0=10,\n",
        "        learning_rate=auto, logger=None, max_iter=25,\n",
        "        model=TaggingCRFModel, size_joint_feature: 65, momentum=0.0,\n",
        "        n_jobs=1, show_loss_every=0, shuffle=False, verbose=1)\n",
        "iteration 0\n",
        "positive slacks: 2,objective: 12.812500\n",
        "No additional constraints"
       ]
      },
      {
       "output_type": "stream",
       "stream": "stdout",
       "text": [
        "\n",
        "Computing final objective\n",
        "final objective: 1.160000\n",
        "calls to inference: 12\n"
       ]
      }
     ],
     "prompt_number": 23
    },
    {
     "cell_type": "code",
     "collapsed": false,
     "input": [
      "import numpy as np\n",
      "np.array([[1,2]]).flatten().shape"
     ],
     "language": "python",
     "outputs": []
    },
    {
     "cell_type": "code",
     "collapsed": false,
     "input": [],
     "language": "python",
     "outputs": []
    },
    {
     "cell_type": "code",
     "collapsed": false,
     "input": [
      "c = Counter()\n",
      "c[\"ell\"] += 20\n",
      "c.keys()"
     ],
     "language": "python",
     "outputs": []
    },
    {
     "cell_type": "code",
     "collapsed": false,
     "input": [
      "# from  pystruct.plot_learning import plot_learning\n",
      "# plot_learning(sp)"
     ],
     "language": "python",
     "outputs": []
    }
   ]
  }
 ]
}