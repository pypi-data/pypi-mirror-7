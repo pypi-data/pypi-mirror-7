{
 "metadata": {
  "name": ""
 },
 "nbformat": 3,
 "nbformat_minor": 0,
 "worksheets": [
  {
   "cells": [
    {
     "cell_type": "code",
     "collapsed": false,
     "input": [
      "import numpy as np"
     ],
     "language": "python",
     "outputs": [],
     "prompt_number": 3
    },
    {
     "cell_type": "code",
     "collapsed": false,
     "input": [
      "class _SparseVec(object):\n",
      "    __array_priority__ = 2\n",
      "\n",
      "    def __init__(self, values):\n",
      "        self.d = {}\n",
      "        # self.format = self.__class__.__name__[:3]\n",
      "        for v in values:\n",
      "            self.d[v] = 1\n",
      "        # self.shape = shape\n",
      "        # self.ndims = 1\n",
      "\n",
      "    def __repr__(self):\n",
      "        return repr(self.d)\n",
      "\n",
      "    def __setitem__(self, key, val):\n",
      "        self.d[key] = val\n",
      "\n",
      "    def __getitem__(self, key):\n",
      "        return self.d[key]\n",
      "\n",
      "    def __sub__(self, other):\n",
      "        new = _SparseVec([])\n",
      "        new.d = self.d\n",
      "        for k, val in other.d.iteritems():\n",
      "            if k in new.d: new.d[k] -= val\n",
      "            else: new.d[k] = -val\n",
      "        return new\n",
      "\n",
      "    def __rmul__(self, other):\n",
      "        new = _SparseVec([])\n",
      "        new.d = self.d\n",
      "        for k, val in self.d.iteritems():\n",
      "            new.d[k] *= other\n",
      "        return new\n",
      "\n",
      "    def __radd__(self, other):\n",
      "        print \"radd\"\n",
      "        print other\n",
      "        new = np.array(other)\n",
      "        for k, val in self.d.iteritems():\n",
      "            new[k] += val\n",
      "        return new\n",
      "\n",
      "    def __add__(self, other):\n",
      "        print \"add\"\n",
      "\n",
      "    # def __numpy_ufunc__(self, func, method, pos, inputs, **kwargs):\n",
      "    #     print \"hey\"\n",
      "    #     pass"
     ],
     "language": "python",
     "outputs": [],
     "prompt_number": 75
    },
    {
     "cell_type": "code",
     "collapsed": false,
     "input": [
      "_SparseVec([1,2,3], 2)"
     ],
     "language": "python",
     "outputs": [
      {
       "output_type": "pyout",
       "prompt_number": 43,
       "text": [
        "{1: 1, 2: 1, 3: 1}"
       ]
      }
     ],
     "prompt_number": 43
    },
    {
     "cell_type": "code",
     "collapsed": false,
     "input": [
      "c= np.array([1,2,3, 4,5,6])"
     ],
     "language": "python",
     "outputs": [],
     "prompt_number": 44
    },
    {
     "cell_type": "code",
     "collapsed": false,
     "input": [
      "c"
     ],
     "language": "python",
     "outputs": [
      {
       "output_type": "pyout",
       "prompt_number": 69,
       "text": [
        "array([1, 2, 3, 4, 5, 6])"
       ]
      }
     ],
     "prompt_number": 69
    },
    {
     "cell_type": "code",
     "collapsed": false,
     "input": [
      "c += _SparseVec([1,2,3], (1,))"
     ],
     "language": "python",
     "outputs": [
      {
       "output_type": "stream",
       "stream": "stdout",
       "text": [
        "radd\n",
        "[1 2 3 4 5 6]\n"
       ]
      }
     ],
     "prompt_number": 71
    },
    {
     "cell_type": "code",
     "collapsed": false,
     "input": [
      "_SparseVec([1,2,3]) - _SparseVec([2,3])"
     ],
     "language": "python",
     "outputs": [
      {
       "output_type": "pyout",
       "prompt_number": 79,
       "text": [
        "{1: 1, 2: 0, 3: 0}"
       ]
      }
     ],
     "prompt_number": 79
    },
    {
     "cell_type": "code",
     "collapsed": false,
     "input": [
      "c"
     ],
     "language": "python",
     "outputs": [
      {
       "output_type": "pyout",
       "prompt_number": 72,
       "text": [
        "array([1, 3, 4, 5, 5, 6])"
       ]
      }
     ],
     "prompt_number": 72
    },
    {
     "cell_type": "code",
     "collapsed": false,
     "input": [
      "c= np.array([[1,2,3, 4,5,6]])"
     ],
     "language": "python",
     "outputs": [],
     "prompt_number": 81
    },
    {
     "cell_type": "code",
     "collapsed": false,
     "input": [
      "d = c.T"
     ],
     "language": "python",
     "outputs": [],
     "prompt_number": 85
    },
    {
     "cell_type": "code",
     "collapsed": false,
     "input": [
      "d.T[:, [1,2]] = [1,2]"
     ],
     "language": "python",
     "outputs": [],
     "prompt_number": 96
    },
    {
     "cell_type": "code",
     "collapsed": false,
     "input": [
      "import pydecode.nlp.format as format\n",
      "\n",
      "records = format.read_csv_records(\"data/wsj_sec_2_21_gold_dependencies\",\n",
      "               [[\"*START*\", \"*START*\"]], [[\"*END*\", \"*START*\"]])\n",
      "\n",
      "print records.next().shape\n",
      "# for j, i in enumerate(format.read_file(\"data/tag_train.dat\")):\n",
      "#     t = i\n",
      "#     print t[0]\n",
      "#     if j > 10: break\n",
      "#     #print j, i\n",
      "                     \n"
     ],
     "language": "python",
     "outputs": [
      {
       "output_type": "stream",
       "stream": "stdout",
       "text": [
        "(51,)\n"
       ]
      }
     ],
     "prompt_number": 175
    },
    {
     "cell_type": "code",
     "collapsed": false,
     "input": [
      "import re\n",
      "for i in re.finditer(\"(.*?)\\n\\n\", \"\"\"hello\n",
      "\n",
      "hello\n",
      "hello\n",
      "\n",
      "\"\"\", re.MULTILINE| re.DOTALL): print i, i.group(1)"
     ],
     "language": "python",
     "outputs": [
      {
       "output_type": "stream",
       "stream": "stdout",
       "text": [
        "<_sre.SRE_Match object at 0x40a0af8> hello\n",
        "<_sre.SRE_Match object at 0x40a0c60> hello\n",
        "hello\n"
       ]
      }
     ],
     "prompt_number": 121
    }
   ]
  }
 ]
}