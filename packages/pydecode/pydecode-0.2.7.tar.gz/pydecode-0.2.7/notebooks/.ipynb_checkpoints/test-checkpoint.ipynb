{
 "metadata": {
  "name": ""
 },
 "nbformat": 3,
 "nbformat_minor": 0,
 "worksheets": [
  {
   "cells": [
    {
     "cell_type": "code",
     "collapsed": false,
     "input": [
      "import pandas as pd\n",
      "from IPython.display import Latex\n",
      "ip = get_ipython()"
     ],
     "language": "python",
     "metadata": {},
     "outputs": [],
     "prompt_number": 51
    },
    {
     "cell_type": "code",
     "collapsed": false,
     "input": [
      "def dostat(line, cell):\n",
      "    return display(Latex(cell))\n",
      "    \n",
      "\n",
      "ip.register_magic_function(dostat, \"cell\", \"stat\")\n",
      "\n"
     ],
     "language": "python",
     "metadata": {
      "slideshow": {
       "slide_type": "slide"
      }
     },
     "outputs": [],
     "prompt_number": 52
    },
    {
     "cell_type": "markdown",
     "metadata": {
      "slideshow": {
       "slide_type": "slide"
      }
     },
     "source": [
      "![Alt text](files/hmm_files/hmm_11_0.png)\n",
      "\n",
      "$$\n",
      "\\theta y + x\n",
      "$$"
     ]
    },
    {
     "cell_type": "code",
     "collapsed": false,
     "input": [
      "%%stat\n",
      "hello"
     ],
     "language": "python",
     "metadata": {},
     "outputs": [
      {
       "latex": [
        "hello"
       ],
       "output_type": "display_data",
       "text": [
        "<IPython.core.display.Latex at 0x54689d0>"
       ]
      }
     ],
     "prompt_number": 53
    },
    {
     "cell_type": "markdown",
     "metadata": {},
     "source": [
      "Header\n",
      "=======\n",
      "\n",
      "This is an explanation of the pandas stuff\n",
      "\n"
     ]
    },
    {
     "cell_type": "code",
     "collapsed": false,
     "input": [
      "\n",
      "\n",
      "frame = pd.DataFrame(data = {\"hello\" : [1,2,4]})\n"
     ],
     "language": "python",
     "metadata": {},
     "outputs": [],
     "prompt_number": 21
    },
    {
     "cell_type": "code",
     "collapsed": false,
     "input": [
      "\n",
      "frame.plot()\n"
     ],
     "language": "python",
     "metadata": {},
     "outputs": [
      {
       "output_type": "pyout",
       "prompt_number": 55,
       "text": [
        "<matplotlib.axes.AxesSubplot at 0x55f6e10>"
       ]
      },
      {
       "output_type": "display_data",
       "png": "[encoded data removed]",
       "text": [
        "<matplotlib.figure.Figure at 0x55eb710>"
       ]
      }
     ],
     "prompt_number": 55
    },
    {
     "cell_type": "code",
     "collapsed": false,
     "input": [
      "def hello():\n",
      "\n"
     ],
     "language": "python",
     "metadata": {},
     "outputs": []
    },
    {
     "cell_type": "code",
     "collapsed": false,
     "input": [
      "%%latex\n",
      "\n",
      "Hello\n",
      "\n",
      "\\begin{table}{ll}\n",
      "10 & 11 \\\\\n",
      "\\end{table}"
     ],
     "language": "python",
     "metadata": {},
     "outputs": [
      {
       "latex": [
        "\n",
        "Hello\n",
        "\n",
        "\\begin{table}{ll}\n",
        "10 & 11 \\\\\n",
        "\\end{table}"
       ],
       "metadata": null,
       "output_type": "display_data",
       "text": [
        "<IPython.core.display.Latex at 0x5468b50>"
       ]
      }
     ],
     "prompt_number": 11
    },
    {
     "cell_type": "code",
     "collapsed": false,
     "input": [],
     "language": "python",
     "metadata": {},
     "outputs": []
    }
   ],
   "metadata": {}
  }
 ]
}