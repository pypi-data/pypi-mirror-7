{
 "metadata": {
  "name": ""
 },
 "nbformat": 3,
 "nbformat_minor": 0,
 "worksheets": [
  {
   "cells": [
    {
     "cell_type": "code",
     "collapsed": false,
     "input": [
      "import sklearn.preprocessing\n",
      "import scipy.sparse\n",
      "from collections import Counter"
     ],
     "language": "python",
     "outputs": [],
     "prompt_number": 2
    },
    {
     "cell_type": "code",
     "collapsed": false,
     "input": [
      "def sentences(file):\n",
      "    sentence = []\n",
      "    for l in open(file):\n",
      "        t = l.strip().split()\n",
      "        if len(t) == 2:\n",
      "            sentence.append(t)\n",
      "        else:\n",
      "            yield sentence\n",
      "            sentence = []\n",
      "    yield sentence"
     ],
     "language": "python",
     "outputs": [],
     "prompt_number": 3
    },
    {
     "cell_type": "code",
     "collapsed": false,
     "input": [
      "def all_above(counter, n):\n",
      "    return [key for key, count in counter.iteritems()\n",
      "            if count > n]"
     ],
     "language": "python",
     "outputs": [],
     "prompt_number": 58
    },
    {
     "cell_type": "code",
     "collapsed": false,
     "input": [
      "sents  = [zip(*sent) for sent in sentences(\"tag/tag_train_small.dat\")]\n",
      "words = Counter()\n",
      "prefix = Counter()\n",
      "suffix = Counter()\n",
      "tags = Counter()\n",
      "for sent in sents:\n",
      "    words.update(sent[0])\n",
      "    suffix.update([word[-3:] for word in sent[0]])\n",
      "    prefix.update([word[:3] for word in sent[0]])\n",
      "    tags.update(sent[1])\n",
      "print all_above(words, 5)"
     ],
     "language": "python",
     "outputs": [
      {
       "output_type": "stream",
       "stream": "stdout",
       "text": [
        "['companies', 'new', 'would', 'A', 'Japanese', 'over', ',', 'them', 'they', 'trading', 'They', '10', 'been', '.', 'is', 'it', 'in', 'the', 'had', 'has', 'securities', 'for', 'He', 'down', 'was', 'Some', \"'s\", 'did', 'shares', 'market', '``', '1', 'ended', 'not', 'million', 'one', 'stocks', 'that', 'than', 'were', 'and', 'only', 'That', 'U.S.', 'But', \"''\", \"n't\", 'It', 'In', 'rose', 'business', 'on', 'of', 'or', 'there', 'with', 'an', 'as', 'at', 'to', '--', 'two', 'more', 'company', 'a', 'its', 'good', 'issue', 'major', 'also', 'The', 'his', 'For', 'are', 'prices', 'higher', 'some', 'be', 'by', ':', 'up', 'New', '%', 'issues', 'index', ';', 'from', 'next', 'this', 'Mr.', 'stock', 'unchanged', 'have', 'bonds', '1\\\\/8', 'And', 'will', 'government', '?', 'about', 'he', 'Treasury', 'other', 'Corp.']\n"
       ]
      }
     ],
     "prompt_number": 64
    },
    {
     "cell_type": "code",
     "collapsed": false,
     "input": [
      "def output_set(n):\n",
      "    return ph.IndexSet((n, len(tags), len(tags)))\n",
      "outputs = output_set(5)"
     ],
     "language": "python",
     "outputs": [],
     "prompt_number": 122
    },
    {
     "cell_type": "code",
     "collapsed": false,
     "input": [
      "word_encoder = sklearn.preprocessing.LabelEncoder()\n",
      "word_encoder.fit(all_above(words, 5))\n",
      "\n",
      "tag_encoder = sklearn.preprocessing.LabelEncoder()\n",
      "tag_encoder.fit(tags.keys())\n",
      "\n",
      "enc_tags = tag_encoder.transform(\"DET NOUN NOUN\".split())\n",
      "# data = np.ones(len(indices))\n",
      "# ind = np.arange(len(data)+1, dtype=np.int16)\n",
      "# sp2 = scipy.sparse.csc_matrix((data, indices, ind))\n",
      "\n",
      "enc_words = encoder.transform(\"The one business\".split())\n",
      "# data = np.ones(len(indices))\n",
      "# ind = np.arange(len(data)+1, dtype=np.int16)\n",
      "# sp = scipy.sparse.csc_matrix((data, indices, ind))\n",
      "#sp.todense()"
     ],
     "language": "python",
     "outputs": [],
     "prompt_number": 124
    },
    {
     "cell_type": "code",
     "collapsed": false,
     "input": [
      "def scores():\n",
      "    #scores = np.zeros(len(outputs))\n",
      "    features = []\n",
      "    for j, (i, tag, prev_tag) in outputs.iter_items():\n",
      "        features.append(\n",
      "            {(0, enc_tags[tag], enc_tags[prev_tag]):1,\n",
      "             (1, enc_tags[tag]):1,\n",
      "             (2, enc_word[i]):1})\n",
      "    enc = sklearn.preprocessing.OneHotEncoder()\n",
      "        \n",
      "    return scores"
     ],
     "language": "python",
     "outputs": [
      {
       "ename": "SyntaxError",
       "evalue": "invalid syntax (<ipython-input-126-2108940abc7d>, line 9)",
       "output_type": "pyerr",
       "traceback": [
        "\u001b[1;36m  File \u001b[1;32m\"<ipython-input-126-2108940abc7d>\"\u001b[1;36m, line \u001b[1;32m9\u001b[0m\n\u001b[1;33m    sklearn.preprocessing.\u001b[0m\n\u001b[1;37m                          ^\u001b[0m\n\u001b[1;31mSyntaxError\u001b[0m\u001b[1;31m:\u001b[0m invalid syntax\n"
       ]
      }
     ],
     "prompt_number": 126
    },
    {
     "cell_type": "code",
     "collapsed": false,
     "input": [
      "def delta(i, n):\n",
      "    return scipy.sparse.csc_matrix(([1], [i], [0,1]),\n",
      "                                   shape=(n,1), dtype=int32)"
     ],
     "language": "python",
     "outputs": [],
     "prompt_number": 114
    },
    {
     "cell_type": "code",
     "collapsed": false,
     "input": [
      "#print sp.shape\n",
      "n = 3\n",
      "i = 2\n",
      "column = scipy.sparse.hstack([delta(2, 3), delta(1, 3)])\n",
      "print sp.shape, column.shape\n",
      "\n",
      "print sp * column\n",
      "q = scipy.sparse.vstack([sp * column, sp2 * column])\n",
      "#print q.shape\n",
      "#q.T * np.ones([83,1])\n",
      "#sp * "
     ],
     "language": "python",
     "outputs": [
      {
       "output_type": "stream",
       "stream": "stdout",
       "text": [
        "(76, 3) (3, 2)\n",
        "  (41, 0)\t1.0\n",
        "  (75, 1)\t1.0\n"
       ]
      }
     ],
     "prompt_number": 121
    },
    {
     "cell_type": "code",
     "collapsed": false,
     "input": [
      "(i, t, t2)\n",
      "column = scipy.sparse.hstack([delta(2, 3), delta(1, 3)])\n",
      "(1, )"
     ],
     "language": "python",
     "outputs": []
    },
    {
     "cell_type": "code",
     "collapsed": false,
     "input": [
      "features_templates = [0, 0, 1 , 10, 0 ]"
     ],
     "language": "python",
     "outputs": []
    }
   ]
  }
 ]
}