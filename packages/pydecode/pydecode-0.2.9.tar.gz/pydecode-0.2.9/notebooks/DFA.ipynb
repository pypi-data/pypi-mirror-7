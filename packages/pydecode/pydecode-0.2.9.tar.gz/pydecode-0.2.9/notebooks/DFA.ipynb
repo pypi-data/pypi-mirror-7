{
 "metadata": {
  "name": ""
 },
 "nbformat": 3,
 "nbformat_minor": 0,
 "worksheets": [
  {
   "cells": [
    {
     "cell_type": "code",
     "collapsed": false,
     "input": [
      "import pydecode.hyper as ph\n",
      "import numpy as np\n",
      "import pydecode.test.utils as utils"
     ],
     "language": "python",
     "outputs": [],
     "prompt_number": 1
    },
    {
     "cell_type": "code",
     "collapsed": false,
     "input": [
      "dfa = ph.DFA(2, 2, [{0:0, 1:1}, {0:1, 1:1}], [1])"
     ],
     "language": "python",
     "outputs": [],
     "prompt_number": 2
    },
    {
     "cell_type": "code",
     "collapsed": false,
     "input": [
      "graph = ph.make_lattice(2, 2, [[0,1], [0,1]])"
     ],
     "language": "python",
     "outputs": [],
     "prompt_number": 3
    },
    {
     "cell_type": "code",
     "collapsed": false,
     "input": [
      "sym = np.zeros(len(graph.edges), np.int32)\n",
      "sym[0] = 1\n",
      "symbols = ph.CountingPotentials(graph).from_array(sym)"
     ],
     "language": "python",
     "outputs": [],
     "prompt_number": 8
    },
    {
     "cell_type": "code",
     "collapsed": false,
     "input": [
      "m = ph.extend_hypergraph_by_dfa(graph, symbols, dfa)\n",
      "m.domain_hypergraph"
     ],
     "language": "python",
     "outputs": [
      {
       "output_type": "pyout",
       "prompt_number": 9,
       "text": [
        "<pydecode.potentials.Hypergraph at 0x31667d0>"
       ]
      }
     ],
     "prompt_number": 9
    },
    {
     "cell_type": "code",
     "collapsed": false,
     "input": [
      "len(m.domain_hypergraph.nodes)"
     ],
     "language": "python",
     "outputs": [
      {
       "output_type": "pyout",
       "prompt_number": 10,
       "text": [
        "5"
       ]
      }
     ],
     "prompt_number": 10
    },
    {
     "cell_type": "code",
     "collapsed": false,
     "input": [
      "# print m.range_hypergraph.root.label\n",
      "# print m.domain_hypergraph.root.label\n",
      "# print len(m.range_hypergraph.nodes)\n",
      "\n",
      "for i, node in enumerate(m.domain_hypergraph.nodes):\n",
      "    print i, node.label\n",
      "    if m[node]:\n",
      "        print m[node].label"
     ],
     "language": "python",
     "outputs": [
      {
       "output_type": "stream",
       "stream": "stdout",
       "text": [
        "0 0 0 0 0\n",
        "0 0\n",
        "1 1 0 0 1\n",
        "1 0\n",
        "2 2 0 0 1\n",
        "2 0\n",
        "3 2 1 0 1\n",
        "2 1\n",
        "4 3 0 0 1\n",
        "3 0\n"
       ]
      }
     ],
     "prompt_number": 11
    },
    {
     "cell_type": "code",
     "collapsed": false,
     "input": [],
     "language": "python",
     "outputs": []
    },
    {
     "cell_type": "code",
     "collapsed": false,
     "input": [
      "path = utils.random_path(m.domain_hypergraph)\n",
      "for node in path.nodes:\n",
      "    print node.label\n",
      "    if node.label is not None:\n",
      "        print node.label.left_state"
     ],
     "language": "python",
     "outputs": [
      {
       "output_type": "stream",
       "stream": "stdout",
       "text": [
        "0 0 1 1\n",
        "1\n",
        "1 1 1 1\n",
        "1\n",
        "2 0 1 1\n",
        "1\n"
       ]
      }
     ],
     "prompt_number": 15
    }
   ]
  }
 ]
}