{
 "metadata": {
  "name": ""
 },
 "nbformat": 3,
 "nbformat_minor": 0,
 "worksheets": [
  {
   "cells": [
    {
     "cell_type": "code",
     "collapsed": false,
     "input": [
      "import pydecode.hyper as ph\n",
      "import pydecode.display as display\n",
      "from collections import namedtuple, defaultdict\n",
      "import random\n",
      "random.seed(0)\n",
      "\n",
      "Tri = \"tri\"\n",
      "Trap = \"trap\"\n",
      "Right = \"right\"\n",
      "Left = \"left\"\n",
      "class NodeType(namedtuple(\"NodeType\", [\"type\", \"dir\", \"span\"])):\n",
      "    def __str__(self):\n",
      "        return \"%s %s %d-%d\"%(self.type, self.dir, self.span[0], self.span[1])\n",
      "\n",
      "class Arc(namedtuple(\"Arc\", [\"head_index\", \"modifier_index\"])):\n",
      "    pass\n",
      "\n",
      "\n",
      "def first_order(sentence, c):\n",
      "    tokens = [\"*\"] + sentence.split()\n",
      "    n = len(tokens)\n",
      "\n",
      "    # Add terminal nodes.\n",
      "    [c.init(NodeType(sh, d, (s, s)))\n",
      "     for s in range(n) \n",
      "     for d in [Right, Left]\n",
      "     for sh in [Trap, Tri]]\n",
      "    \n",
      "    for k in range(1, n):\n",
      "        for s in range(n):\n",
      "            t = k + s\n",
      "            if t >= n: break\n",
      "            span = (s, t)\n",
      "            \n",
      "            # First create incomplete items.            \n",
      "            c[NodeType(Trap, Left, span)] = \\\n",
      "                c.sum([c[NodeType(Tri, Right, (s, r))] * c[NodeType(Tri, Left, (r+1, t))] * c.sr(Arc(r, s))\n",
      "                       for r in range(s, t)])\n",
      "\n",
      "            c[NodeType(Trap, Right, span)] = \\\n",
      "                c.sum([c[NodeType(Tri, Right, (s, r))] * c[NodeType(Tri, Left, (r+1, t))] * c.sr(Arc(head_index=s, modifier_index=r))\n",
      "                       for r in range(s, t)])\n",
      "            \n",
      "            # Second create complete items.\n",
      "            c[NodeType(Tri, Left, span)] = \\\n",
      "                c.sum([c[NodeType(Tri, Left, (s, r))] * c[NodeType(Trap, Left, (r, t))]\n",
      "                       for r in range(s, t)])\n",
      "\n",
      "            c[NodeType(Tri, Right, span)] = \\\n",
      "                c.sum([c[NodeType(Trap, Right, (s, r))] * c[NodeType(Tri, Right, (r, t))]\n",
      "                       for r in range(s + 1, t + 1)])\n",
      "    return c\n",
      "import pydecode.chart as chart\n",
      "sentence = \"fans went wild\"\n",
      "c = chart.ChartBuilder(lambda a: a, \n",
      "                       chart.HypergraphSemiRing, \n",
      "                       build_hypergraph = True)\n",
      "the_chart = first_order(sentence, c)\n",
      "hypergraph = the_chart.finish()\n",
      "\n",
      "def build_potentials(arc):\n",
      "    print arc\n",
      "    return random.random()\n",
      "potentials = ph.Potentials(hypergraph).build(build_potentials)"
     ],
     "language": "python",
     "outputs": [
      {
       "ename": "ImportError",
       "evalue": "No module named hyper",
       "output_type": "pyerr",
       "traceback": [
        "\u001b[1;31m---------------------------------------------------------------------------\u001b[0m\n\u001b[1;31mImportError\u001b[0m                               Traceback (most recent call last)",
        "\u001b[1;32m<ipython-input-3-359438f45067>\u001b[0m in \u001b[0;36m<module>\u001b[1;34m()\u001b[0m\n\u001b[1;32m----> 1\u001b[1;33m \u001b[1;32mimport\u001b[0m \u001b[0mpydecode\u001b[0m\u001b[1;33m.\u001b[0m\u001b[0mhyper\u001b[0m \u001b[1;32mas\u001b[0m \u001b[0mph\u001b[0m\u001b[1;33m\u001b[0m\u001b[0m\n\u001b[0m\u001b[0;32m      2\u001b[0m \u001b[1;32mimport\u001b[0m \u001b[0mpydecode\u001b[0m\u001b[1;33m.\u001b[0m\u001b[0mdisplay\u001b[0m \u001b[1;32mas\u001b[0m \u001b[0mdisplay\u001b[0m\u001b[1;33m\u001b[0m\u001b[0m\n\u001b[0;32m      3\u001b[0m \u001b[1;32mfrom\u001b[0m \u001b[0mcollections\u001b[0m \u001b[1;32mimport\u001b[0m \u001b[0mnamedtuple\u001b[0m\u001b[1;33m,\u001b[0m \u001b[0mdefaultdict\u001b[0m\u001b[1;33m\u001b[0m\u001b[0m\n\u001b[0;32m      4\u001b[0m \u001b[1;32mimport\u001b[0m \u001b[0mrandom\u001b[0m\u001b[1;33m\u001b[0m\u001b[0m\n\u001b[0;32m      5\u001b[0m \u001b[0mrandom\u001b[0m\u001b[1;33m.\u001b[0m\u001b[0mseed\u001b[0m\u001b[1;33m(\u001b[0m\u001b[1;36m0\u001b[0m\u001b[1;33m)\u001b[0m\u001b[1;33m\u001b[0m\u001b[0m\n",
        "\u001b[1;31mImportError\u001b[0m: No module named hyper"
       ]
      }
     ],
     "prompt_number": 3
    },
    {
     "cell_type": "code",
     "collapsed": false,
     "input": [
      "import pydecode.hyper\n"
     ],
     "language": "python",
     "outputs": [
      {
       "ename": "ImportError",
       "evalue": "No module named hyper",
       "output_type": "pyerr",
       "traceback": [
        "\u001b[1;31m---------------------------------------------------------------------------\u001b[0m\n\u001b[1;31mImportError\u001b[0m                               Traceback (most recent call last)",
        "\u001b[1;32m<ipython-input-5-87606fe727ae>\u001b[0m in \u001b[0;36m<module>\u001b[1;34m()\u001b[0m\n\u001b[1;32m----> 1\u001b[1;33m \u001b[1;32mimport\u001b[0m \u001b[0mpydecode\u001b[0m\u001b[1;33m.\u001b[0m\u001b[0mhyper\u001b[0m\u001b[1;33m\u001b[0m\u001b[0m\n\u001b[0m",
        "\u001b[1;31mImportError\u001b[0m: No module named hyper"
       ]
      }
     ],
     "prompt_number": 5
    },
    {
     "cell_type": "code",
     "collapsed": false,
     "input": [],
     "language": "python",
     "outputs": []
    }
   ]
  }
 ]
}
