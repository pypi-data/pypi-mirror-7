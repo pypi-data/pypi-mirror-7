{
 "metadata": {
  "name": ""
 },
 "nbformat": 3,
 "nbformat_minor": 0,
 "worksheets": [
  {
   "cells": [
    {
     "cell_type": "heading",
     "level": 1,
     "metadata": {},
     "source": [
      "Simple Hypergraph Example"
     ]
    },
    {
     "cell_type": "code",
     "collapsed": false,
     "input": [
      "import pydecode.hyper as hyper\n",
      "import pydecode.display as display\n",
      "import networkx as nx \n",
      "import matplotlib.pyplot as plt \n",
      "from IPython.display import Image"
     ],
     "language": "python",
     "metadata": {},
     "outputs": [],
     "prompt_number": 2
    },
    {
     "cell_type": "code",
     "collapsed": false,
     "input": [
      "hyp = hyper.Hypergraph()\n",
      "with hyp.builder() as b:\n",
      "     n1 = b.add_node()\n",
      "     n2 = b.add_node((([n1], \"Label\"),))"
     ],
     "language": "python",
     "metadata": {},
     "outputs": [],
     "prompt_number": 3
    },
    {
     "cell_type": "markdown",
     "metadata": {},
     "source": [
      "Draw the graph\n"
     ]
    },
    {
     "cell_type": "code",
     "collapsed": false,
     "input": [
      "G = display.to_networkx(hyp)\n",
      "d = nx.drawing.to_agraph(G)\n",
      "d.layout(\"dot\")\n",
      "d.draw(\"/tmp/tmp.png\")\n",
      "Image(filename =\"/tmp/tmp.png\")"
     ],
     "language": "python",
     "metadata": {},
     "outputs": [
      {
       "metadata": {},
       "output_type": "pyout",
       "png": "[encoded data removed]",
       "prompt_number": 5,
       "text": [
        "<IPython.core.display.Image at 0x33b4f90>"
       ]
      }
     ],
     "prompt_number": 5
    },
    {
     "cell_type": "code",
     "collapsed": false,
     "input": [],
     "language": "python",
     "metadata": {},
     "outputs": []
    }
   ],
   "metadata": {}
  }
 ]
}