{
 "metadata": {
  "name": "",
  "signature": "sha256:3a9ea735070bf93e9108d2a74b7942577a684b9e423f335e6f06e538f6ad41b5"
 },
 "nbformat": 3,
 "nbformat_minor": 0,
 "worksheets": [
  {
   "cells": [
    {
     "cell_type": "code",
     "collapsed": false,
     "input": [
      "import hgvs.parser\n",
      "hp = hgvs.parser.Parser()\n",
      "var_c1 = hp.parse_hgvs_variant('NM_182763.2:c.688+403C>T')\n",
      "var_c1, var_c1.posedit.pos.start, str(var_c1)"
     ],
     "language": "python",
     "metadata": {},
     "outputs": [
      {
       "metadata": {},
       "output_type": "pyout",
       "prompt_number": 5,
       "text": [
        "(SequenceVariant(ac=NM_182763.2, type=c, posedit=688+403C>T),\n",
        " BaseOffsetPosition(base=688, offset=403, datum=1, uncertain=False),\n",
        " 'NM_182763.2:c.688+403C>T')"
       ]
      }
     ],
     "prompt_number": 5
    },
    {
     "cell_type": "code",
     "collapsed": false,
     "input": [
      "import bdi.sources.uta1\n",
      "import hgvs.hgvsmapper\n",
      "uta = bdi.sources.uta1.connect(db_url='postgresql://localhost/uta')\n",
      "hm = hgvs.hgvsmapper.HGVSMapper(uta, cache_transcripts=True)"
     ],
     "language": "python",
     "metadata": {},
     "outputs": [],
     "prompt_number": 6
    },
    {
     "cell_type": "code",
     "collapsed": false,
     "input": [
      "var_p1 = hm.hgvsc_to_hgvsp(var_c1)\n",
      "var_p1, str(var_p1)"
     ],
     "language": "python",
     "metadata": {},
     "outputs": [
      {
       "metadata": {},
       "output_type": "pyout",
       "prompt_number": 7,
       "text": [
        "(SequenceVariant(ac=NP_877495.1, type=p, posedit=?), 'NP_877495.1:p.?')"
       ]
      }
     ],
     "prompt_number": 7
    },
    {
     "cell_type": "code",
     "collapsed": false,
     "input": [
      "var_g = hm.hgvsc_to_hgvsg(var_c1,'NC_000001.10','splign')\n",
      "var_g, str(var_g)"
     ],
     "language": "python",
     "metadata": {},
     "outputs": [
      {
       "metadata": {},
       "output_type": "pyout",
       "prompt_number": 8,
       "text": [
        "(SequenceVariant(ac=NC_000001.10, type=g, posedit=150550916G>A),\n",
        " 'NC_000001.10:g.150550916G>A')"
       ]
      }
     ],
     "prompt_number": 8
    },
    {
     "cell_type": "code",
     "collapsed": false,
     "input": [
      "var_c2 = hm.hgvsg_to_hgvsc(var_g,'NM_001197320.1','splign')\n",
      "var_c2, str(var_c2)"
     ],
     "language": "python",
     "metadata": {},
     "outputs": [
      {
       "metadata": {},
       "output_type": "pyout",
       "prompt_number": 6,
       "text": [
        "(SequenceVariant(ac=NM_001197320.1, type=c, posedit=281C>T),\n",
        " 'NM_001197320.1:c.281C>T')"
       ]
      }
     ],
     "prompt_number": 6
    },
    {
     "cell_type": "code",
     "collapsed": false,
     "input": [
      "var_p2 = hm.hgvsc_to_hgvsp(var_c2)\n",
      "var_p2, str(var_p2)"
     ],
     "language": "python",
     "metadata": {},
     "outputs": [
      {
       "metadata": {},
       "output_type": "pyout",
       "prompt_number": 7,
       "text": [
        "(SequenceVariant(ac=NP_001184249.1, type=p, posedit=(Ser94Phe)),\n",
        " 'NP_001184249.1:p.(Ser94Phe)')"
       ]
      }
     ],
     "prompt_number": 7
    },
    {
     "cell_type": "code",
     "collapsed": false,
     "input": [],
     "language": "python",
     "metadata": {},
     "outputs": [],
     "prompt_number": 7
    }
   ],
   "metadata": {}
  }
 ]
}