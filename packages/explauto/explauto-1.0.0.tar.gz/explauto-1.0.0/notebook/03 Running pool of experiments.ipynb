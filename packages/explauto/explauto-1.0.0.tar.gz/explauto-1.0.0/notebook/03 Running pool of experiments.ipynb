{
 "metadata": {
  "name": "",
  "signature": "sha256:a4587b45738755983b158c1e9e8b04c8cdfe8b3297adec922502045045b79edb"
 },
 "nbformat": 3,
 "nbformat_minor": 0,
 "worksheets": [
  {
   "cells": [
    {
     "cell_type": "heading",
     "level": 1,
     "metadata": {},
     "source": [
      "Easy comparison of experiments"
     ]
    },
    {
     "cell_type": "markdown",
     "metadata": {},
     "source": [
      "Once you have setup an experiment, you often want to try different configurations, e.g. change the interest model or try goal babbling instead of motor babbling. To help you do that, explauto provides you the [ExperimentPool](http://flowersteam.github.io/explauto/explauto.experiment.html#explauto.experiment.pool.ExperimentPool) class. This class allows you to:\n",
      "* create a set of experiments by combining all the given settings\n",
      "* run all these experiments in parallel (using the multiprocessing module)\n",
      "* evaluate all the run on the same testcases\n",
      "* compare all the results log"
     ]
    },
    {
     "cell_type": "heading",
     "level": 2,
     "metadata": {},
     "source": [
      "Creation of a pool of experiments"
     ]
    },
    {
     "cell_type": "markdown",
     "metadata": {},
     "source": [
      "As an illustration of how this class is working, we will re-do the same experiment as in the [previous tutorial](). We will compare motor and goal babbling for the simple arm environment with the high dimensional configuration."
     ]
    },
    {
     "cell_type": "markdown",
     "metadata": {},
     "source": [
      "First, we need to import the [ExperimentPool](http://flowersteam.github.io/explauto/explauto.experiment.html#explauto.experiment.pool.ExperimentPool) class."
     ]
    },
    {
     "cell_type": "code",
     "collapsed": false,
     "input": [
      "from explauto.experiment import ExperimentPool"
     ],
     "language": "python",
     "metadata": {},
     "outputs": [],
     "prompt_number": 1
    },
    {
     "cell_type": "markdown",
     "metadata": {},
     "source": [
      "Then we instantiate it with all the different configurations we want to test as parameters."
     ]
    },
    {
     "cell_type": "code",
     "collapsed": false,
     "input": [
      "xps = ExperimentPool.from_settings_product(environments=[('simple_arm', 'high_dimensional')],\n",
      "                                           babblings=['motor', 'goal'],\n",
      "                                           interest_models=[('random', 'default')],\n",
      "                                           sensorimotor_models=[('nearest_neighbor', 'default')],\n",
      "                                           evaluate_at=[10, 20, 30, 50, 100, 200, 300, 400],\n",
      "                                           same_testcases=True)"
     ],
     "language": "python",
     "metadata": {},
     "outputs": [],
     "prompt_number": 2
    },
    {
     "cell_type": "markdown",
     "metadata": {},
     "source": [
      "You can note that contrary to the [from_settings](http://flowersteam.github.io/explauto/explauto.experiment.html#explauto.experiment.experiment.Experiment.from_settings) method, here you must specify environments (resp. interest and sensorimotor model) by giving a couple with the name of the chosen environment (resp. interest or sensorimotor model) and a configuration. Thus, you can easily compare the same environment with two different configurations."
     ]
    },
    {
     "cell_type": "code",
     "collapsed": false,
     "input": [
      "for i, xp_settings in enumerate(xps.settings):\n",
      "    \n",
      "    print \"\"\"Xp #{}:\n",
      "        env='{self.environment}' conf='{self.environment_config}'\n",
      "        babbling mode='{self.babbling_mode}' \n",
      "        interest model='{self.interest_model}' conf='{self.interest_model_config}'\n",
      "        sensorimotor model='{self.sensorimotor_model}' conf='{self.sensorimotor_model_config}'\"\"\".format(i, self=xp_settings)"
     ],
     "language": "python",
     "metadata": {},
     "outputs": [
      {
       "output_type": "stream",
       "stream": "stdout",
       "text": [
        "Xp #0:\n",
        "        env='simple_arm' conf='high_dimensional'\n",
        "        babbling mode='motor' \n",
        "        interest model='random' conf='default'\n",
        "        sensorimotor model='nearest_neighbor' conf='default'\n",
        "Xp #1:\n",
        "        env='simple_arm' conf='high_dimensional'\n",
        "        babbling mode='goal' \n",
        "        interest model='random' conf='default'\n",
        "        sensorimotor model='nearest_neighbor' conf='default'\n"
       ]
      }
     ],
     "prompt_number": 3
    },
    {
     "cell_type": "markdown",
     "metadata": {},
     "source": [
      "The evaluate_at parameter is used to set the evaluation indices for **all** experiments. You can use the same_testcases parameter to choose whether all experiments will use the same testcases or not. Be aware that if you choose to use the same testcases it will be computed by the first experiment."
     ]
    },
    {
     "cell_type": "heading",
     "level": 2,
     "metadata": {},
     "source": [
      "Running all experiments"
     ]
    },
    {
     "cell_type": "markdown",
     "metadata": {},
     "source": [
      "Once setup, you just need to run all experiments by using the usual [run]() method. This method will create a [Pool](https://docs.python.org/2/library/multiprocessing.html#module-multiprocessing.pool) of processes for each of the experiment. You can specifiy how many process will be runned in parallel (by default, the Pool will guess the number of available CPUs and will use them all)."
     ]
    },
    {
     "cell_type": "markdown",
     "metadata": {},
     "source": [
      "Each process will create a new experiment (i.e. a new [Environment](http://flowersteam.github.io/explauto/explauto.environment.html#explauto.environment.environment.Environment) and [Agent](http://flowersteam.github.io/explauto/explauto.agent.html#explauto.agent.agent.Agent) instances), yet you have to make sure that multiple instances of your environment (resp. models) can be created."
     ]
    },
    {
     "cell_type": "markdown",
     "metadata": {},
     "source": [
      "Let's run both experiments in parallel now! If you have a multi-processer computer, this should take about twice as long as in the previous tutorial."
     ]
    },
    {
     "cell_type": "code",
     "collapsed": false,
     "input": [
      "logs = xps.run()"
     ],
     "language": "python",
     "metadata": {},
     "outputs": [],
     "prompt_number": 4
    },
    {
     "cell_type": "markdown",
     "metadata": {},
     "source": [
      "The [run]() method will end once all experiments in the pool are done. It returns a list of all the logs for each experiment."
     ]
    },
    {
     "cell_type": "heading",
     "level": 2,
     "metadata": {},
     "source": [
      "Plotting results"
     ]
    },
    {
     "cell_type": "markdown",
     "metadata": {},
     "source": [
      "You can then directly plot all learning curves on the same graph."
     ]
    },
    {
     "cell_type": "code",
     "collapsed": false,
     "input": [
      "%pylab inline\n",
      "\n",
      "ax = axes()\n",
      "\n",
      "for log in xps.logs:\n",
      "    log.plot_learning_curve(ax)\n",
      "    \n",
      "legend(('motor', 'goal'))"
     ],
     "language": "python",
     "metadata": {},
     "outputs": [
      {
       "output_type": "stream",
       "stream": "stdout",
       "text": [
        "Populating the interactive namespace from numpy and matplotlib\n"
       ]
      },
      {
       "metadata": {},
       "output_type": "pyout",
       "prompt_number": 5,
       "text": [
        "<matplotlib.legend.Legend at 0x108cf9210>"
       ]
      },
      {
       "metadata": {},
       "output_type": "display_data",
       "png": "[encoded data removed]",
       "text": [
        "<matplotlib.figure.Figure at 0x108d60850>"
       ]
      }
     ],
     "prompt_number": 5
    },
    {
     "cell_type": "markdown",
     "metadata": {},
     "source": [
      "To iterate on the configurations and logs, for instance to plot a same log for all experiment, you can use the following code:"
     ]
    },
    {
     "cell_type": "code",
     "collapsed": false,
     "input": [
      "colors = ('r', 'g', 'b')\n",
      "\n",
      "for i, (config, log) in enumerate(zip(xps.settings, xps.logs)):    \n",
      "    plot_index = 120 + i + 1\n",
      "    ax_motor = subplot(plot_index)\n",
      "    ax_motor.axis([0, 1, -1, 1])\n",
      "    log.scatter_plot(ax_motor, (('sensori', [0, 1]), ), color=colors[i])\n",
      "    \n",
      "    legend([config.babbling_mode])"
     ],
     "language": "python",
     "metadata": {},
     "outputs": [
      {
       "metadata": {},
       "output_type": "display_data",
       "png": "[encoded data removed]",
       "text": [
        "<matplotlib.figure.Figure at 0x108d6db90>"
       ]
      }
     ],
     "prompt_number": 6
    },
    {
     "cell_type": "heading",
     "level": 1,
     "metadata": {},
     "source": [
      "Exercise"
     ]
    },
    {
     "cell_type": "markdown",
     "metadata": {},
     "source": [
      "Comment on the standard deviation of the first plot and think of a way to solve this problem."
     ]
    },
    {
     "cell_type": "code",
     "collapsed": false,
     "input": [],
     "language": "python",
     "metadata": {},
     "outputs": []
    },
    {
     "cell_type": "code",
     "collapsed": false,
     "input": [
      "%load exercise_solutions/n03-pool.py"
     ],
     "language": "python",
     "metadata": {},
     "outputs": []
    },
    {
     "cell_type": "code",
     "collapsed": false,
     "input": [],
     "language": "python",
     "metadata": {},
     "outputs": []
    }
   ],
   "metadata": {}
  }
 ]
}