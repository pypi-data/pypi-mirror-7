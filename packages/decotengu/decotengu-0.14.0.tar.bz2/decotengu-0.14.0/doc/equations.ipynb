{
 "metadata": {
  "name": "",
  "signature": "sha256:725e77c057aa8d53bde7a950aafe0d002a55f97a3153bf631fbffbd0bb31a71b"
 },
 "nbformat": 3,
 "nbformat_minor": 0,
 "worksheets": [
  {
   "cells": [
    {
     "cell_type": "heading",
     "level": 1,
     "metadata": {},
     "source": [
      "Introduction"
     ]
    },
    {
     "cell_type": "markdown",
     "metadata": {},
     "source": [
      "For more context see http://wrobell.it-zone.org/decotengu/model.html."
     ]
    },
    {
     "cell_type": "markdown",
     "metadata": {},
     "source": [
      "To evaluate the equations we use Sympy library"
     ]
    },
    {
     "cell_type": "code",
     "collapsed": false,
     "input": [
      "init_session(quiet=True)"
     ],
     "language": "python",
     "metadata": {},
     "outputs": [
      {
       "output_type": "stream",
       "stream": "stdout",
       "text": [
        "IPython console for SymPy 0.7.5 (Python 3.4.1-64-bit) (ground types: python)\n"
       ]
      },
      {
       "output_type": "stream",
       "stream": "stderr",
       "text": [
        "WARNING: Hook shutdown_hook is deprecated. Use the atexit module instead.\n"
       ]
      }
     ],
     "prompt_number": 59
    },
    {
     "cell_type": "code",
     "collapsed": false,
     "input": [
      "from sympy import init_session"
     ],
     "language": "python",
     "metadata": {},
     "outputs": [],
     "prompt_number": 58
    },
    {
     "cell_type": "heading",
     "level": 1,
     "metadata": {},
     "source": [
      "Schreiner Equation"
     ]
    },
    {
     "cell_type": "code",
     "collapsed": false,
     "input": [
      "P, P_alv, R, t, k, P_i, F_gas, P_abs, P_rate, P_wvp = symbols('P P_alv R t k P_i F_gas P_abs P_rate P_wvp')"
     ],
     "language": "python",
     "metadata": {},
     "outputs": [],
     "prompt_number": 46
    },
    {
     "cell_type": "code",
     "collapsed": false,
     "input": [
      "s_eq = Eq(P, P_alv + R * (t - 1 / k) - (P_alv - P_i - R / k) * exp(-k * t))\n",
      "s_eq"
     ],
     "language": "python",
     "metadata": {},
     "outputs": [
      {
       "latex": [
        "$$P = P_{alv} + R \\left(t - \\frac{1}{k}\\right) - \\left(P_{alv} - P_{i} - \\frac{R}{k}\\right) e^{- k t}$$"
       ],
       "metadata": {},
       "output_type": "pyout",
       "png": "[encoded data removed]",
       "prompt_number": 47,
       "text": [
        "              \u239b    1\u239e   \u239b             R\u239e  -k\u22c5t\n",
        "P = P_alv + R\u22c5\u239ct - \u2500\u239f - \u239cP_alv - P\u1d62 - \u2500\u239f\u22c5\u212f    \n",
        "              \u239d    k\u23a0   \u239d             k\u23a0      "
       ]
      }
     ],
     "prompt_number": 47
    },
    {
     "cell_type": "heading",
     "level": 2,
     "metadata": {},
     "source": [
      "Example"
     ]
    },
    {
     "cell_type": "markdown",
     "metadata": {},
     "source": [
      "Descent from 0m to 30m at 20m/min breathing EAN32"
     ]
    },
    {
     "cell_type": "code",
     "collapsed": false,
     "input": [
      "v = s_eq.subs([\n",
      "    (P_alv, F_gas * (P_abs - P_wvp)),\n",
      "    (P_i, 0.7902 * (P_abs - P_wvp)),\n",
      "    (R, F_gas * P_rate),\n",
      "    (k, log(2) / 5),\n",
      "    (t, 1.5),\n",
      "    (P_wvp, 0.0627),\n",
      "    (P_abs, 1),\n",
      "    (P_rate, 2),    # 20m/min\n",
      "    (F_gas, 0.68)\n",
      "])\n",
      "N(v)"
     ],
     "language": "python",
     "metadata": {},
     "outputs": [
      {
       "latex": [
        "$$P = 0.919396673989346$$"
       ],
       "metadata": {},
       "output_type": "pyout",
       "png": "[encoded data removed]",
       "prompt_number": 48,
       "text": [
        "P = 0.919396673989346"
       ]
      }
     ],
     "prompt_number": 48
    },
    {
     "cell_type": "markdown",
     "metadata": {},
     "source": [
      " Dive at 30m for 20 minutes"
     ]
    },
    {
     "cell_type": "code",
     "collapsed": false,
     "input": [
      "v = s_eq.subs([\n",
      "    (P_alv, F_gas * (P_abs - P_wvp)),\n",
      "    (P_i, 0.919396673989346),\n",
      "    (R, F_gas * P_rate),\n",
      "    (k, log(2) / 5),\n",
      "    (t, 20),\n",
      "    (P_wvp, 0.0627),\n",
      "    (P_abs, 4),\n",
      "    (P_rate, 0),\n",
      "    (F_gas, 0.68)\n",
      "])\n",
      "N(v)"
     ],
     "language": "python",
     "metadata": {},
     "outputs": [
      {
       "latex": [
        "$$P = 2.56749104212433$$"
       ],
       "metadata": {},
       "output_type": "pyout",
       "png": "[encoded data removed]",
       "prompt_number": 49,
       "text": [
        "P = 2.56749104212433"
       ]
      }
     ],
     "prompt_number": 49
    },
    {
     "cell_type": "markdown",
     "metadata": {},
     "source": [
      "Ascent from 30m to 10m"
     ]
    },
    {
     "cell_type": "code",
     "collapsed": false,
     "input": [
      "v = s_eq.subs([\n",
      "    (P_alv, F_gas * (P_abs - P_wvp)),\n",
      "    (P_i, 2.56749104212433),\n",
      "    (R, F_gas * P_rate),\n",
      "    (k, log(2) / 5),\n",
      "    (t, 2),\n",
      "    (P_wvp, 0.0627),\n",
      "    (P_rate, -1),     # ascent, 10m/min\n",
      "    (P_abs, 4),\n",
      "    (F_gas, 0.68)\n",
      "])\n",
      "N(v)"
     ],
     "language": "python",
     "metadata": {},
     "outputs": [
      {
       "latex": [
        "$$P = 2.42184049216439$$"
       ],
       "metadata": {},
       "output_type": "pyout",
       "png": "[encoded data removed]",
       "prompt_number": 50,
       "text": [
        "P = 2.42184049216439"
       ]
      }
     ],
     "prompt_number": 50
    },
    {
     "cell_type": "heading",
     "level": 1,
     "metadata": {},
     "source": [
      "Buhlmann Equation"
     ]
    },
    {
     "cell_type": "code",
     "collapsed": false,
     "input": [
      "P_l, A, B, g_f = symbols('P_l A B g_f')"
     ],
     "language": "python",
     "metadata": {},
     "outputs": [],
     "prompt_number": 51
    },
    {
     "cell_type": "code",
     "collapsed": false,
     "input": [
      "b_eq = Eq(P_l, (P - A * g_f) / (g_f / B + 1.0 - g_f))\n",
      "b_eq"
     ],
     "language": "python",
     "metadata": {},
     "outputs": [
      {
       "latex": [
        "$$P_{l} = \\frac{- A g_{f} + P}{- g_{f} + 1.0 + \\frac{g_{f}}{B}}$$"
       ],
       "metadata": {},
       "output_type": "pyout",
       "png": "[encoded data removed]",
       "prompt_number": 52,
       "text": [
        "         -A\u22c5g_f + P   \n",
        "P_l = \u2500\u2500\u2500\u2500\u2500\u2500\u2500\u2500\u2500\u2500\u2500\u2500\u2500\u2500\u2500\u2500\n",
        "                   g_f\n",
        "      -g_f + 1.0 + \u2500\u2500\u2500\n",
        "                    B "
       ]
      }
     ],
     "prompt_number": 52
    },
    {
     "cell_type": "heading",
     "level": 2,
     "metadata": {},
     "source": [
      "Example"
     ]
    },
    {
     "cell_type": "markdown",
     "metadata": {},
     "source": [
      "For first tissue compartment"
     ]
    },
    {
     "cell_type": "code",
     "collapsed": false,
     "input": [
      "b_eq_t1 = b_eq.subs([(A, 1.1696), (B, 0.5578), (g_f, 0.3)])"
     ],
     "language": "python",
     "metadata": {},
     "outputs": [],
     "prompt_number": 53
    },
    {
     "cell_type": "code",
     "collapsed": false,
     "input": [
      "N(b_eq_t1.subs(P, 0.74065446))"
     ],
     "language": "python",
     "metadata": {},
     "outputs": [
      {
       "latex": [
        "$$P_{l} = 0.314886009020074$$"
       ],
       "metadata": {},
       "output_type": "pyout",
       "png": "[encoded data removed]",
       "prompt_number": 54,
       "text": [
        "P_l = 0.314886009020074"
       ]
      }
     ],
     "prompt_number": 54
    },
    {
     "cell_type": "code",
     "collapsed": false,
     "input": [
      "N(b_eq_t1.subs(P, 0.919397))"
     ],
     "language": "python",
     "metadata": {},
     "outputs": [
      {
       "latex": [
        "$$P_{l} = 0.459286247718912$$"
       ],
       "metadata": {},
       "output_type": "pyout",
       "png": "[encoded data removed]",
       "prompt_number": 55,
       "text": [
        "P_l = 0.459286247718912"
       ]
      }
     ],
     "prompt_number": 55
    },
    {
     "cell_type": "code",
     "collapsed": false,
     "input": [
      "N(b_eq_t1.subs(P, 2.567490))"
     ],
     "language": "python",
     "metadata": {},
     "outputs": [
      {
       "latex": [
        "$$P_{l} = 1.7907265562089$$"
       ],
       "metadata": {},
       "output_type": "pyout",
       "png": "[encoded data removed]",
       "prompt_number": 56,
       "text": [
        "P_l = 1.7907265562089"
       ]
      }
     ],
     "prompt_number": 56
    },
    {
     "cell_type": "code",
     "collapsed": false,
     "input": [
      "N(b_eq_t1.subs(P, 2.421840))"
     ],
     "language": "python",
     "metadata": {},
     "outputs": [
      {
       "latex": [
        "$$P_{l} = 1.67306069576804$$"
       ],
       "metadata": {},
       "output_type": "pyout",
       "png": "[encoded data removed]",
       "prompt_number": 57,
       "text": [
        "P_l = 1.67306069576804"
       ]
      }
     ],
     "prompt_number": 57
    }
   ],
   "metadata": {}
  }
 ]
}