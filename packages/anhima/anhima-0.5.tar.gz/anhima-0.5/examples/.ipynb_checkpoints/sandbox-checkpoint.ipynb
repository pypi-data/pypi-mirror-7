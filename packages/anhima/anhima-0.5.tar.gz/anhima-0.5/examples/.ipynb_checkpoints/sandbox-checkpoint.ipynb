{
 "metadata": {
  "name": "",
  "signature": "sha256:6c850b826dd07c29063c160026601a1666979658da328dee34217f5769501213"
 },
 "nbformat": 3,
 "nbformat_minor": 0,
 "worksheets": [
  {
   "cells": [
    {
     "cell_type": "code",
     "collapsed": false,
     "input": [
      "import numpy as np\n",
      "import matplotlib.pyplot as plt\n",
      "%matplotlib inline"
     ],
     "language": "python",
     "metadata": {},
     "outputs": [],
     "prompt_number": 50
    },
    {
     "cell_type": "code",
     "collapsed": false,
     "input": [
      "subpops_ac = np.array([[3, 1, 0],\n",
      "                       [1, 0, 0],\n",
      "                       [1, 1, 0],\n",
      "                       [1, 0, 1],\n",
      "                       [0, 1, 1],\n",
      "                       [2, 0, 0],\n",
      "                       [0, 2, 0],\n",
      "                       [0, 0, 2]])"
     ],
     "language": "python",
     "metadata": {},
     "outputs": [],
     "prompt_number": 2
    },
    {
     "cell_type": "code",
     "collapsed": false,
     "input": [
      "is_doubleton = np.sum(subpops_ac, axis=1) == 2\n",
      "is_doubleton"
     ],
     "language": "python",
     "metadata": {},
     "outputs": [
      {
       "metadata": {},
       "output_type": "pyout",
       "prompt_number": 3,
       "text": [
        "array([False, False,  True,  True,  True,  True,  True,  True], dtype=bool)"
       ]
      }
     ],
     "prompt_number": 3
    },
    {
     "cell_type": "code",
     "collapsed": false,
     "input": [
      "subpops_ac_doubletons = np.compress(is_doubleton, subpops_ac, axis=0)\n",
      "subpops_ac_doubletons"
     ],
     "language": "python",
     "metadata": {},
     "outputs": [
      {
       "metadata": {},
       "output_type": "pyout",
       "prompt_number": 5,
       "text": [
        "array([[1, 1, 0],\n",
        "       [1, 0, 1],\n",
        "       [0, 1, 1],\n",
        "       [2, 0, 0],\n",
        "       [0, 2, 0],\n",
        "       [0, 0, 2]])"
       ]
      }
     ],
     "prompt_number": 5
    },
    {
     "cell_type": "code",
     "collapsed": false,
     "input": [
      "np.nonzero(subpops_ac_doubletons)"
     ],
     "language": "python",
     "metadata": {},
     "outputs": [
      {
       "metadata": {},
       "output_type": "pyout",
       "prompt_number": 19,
       "text": [
        "(array([0, 0, 1, 1, 2, 2, 3, 4, 5]), array([0, 1, 0, 2, 1, 2, 0, 1, 2]))"
       ]
      }
     ],
     "prompt_number": 19
    },
    {
     "cell_type": "code",
     "collapsed": false,
     "input": [
      "for i, j in zip(*np.nonzero(subpops_ac_doubletons)):\n",
      "    print i, j"
     ],
     "language": "python",
     "metadata": {},
     "outputs": [
      {
       "output_type": "stream",
       "stream": "stdout",
       "text": [
        "0 0\n",
        "0 1\n",
        "1 0\n",
        "1 2\n",
        "2 1\n",
        "2 2\n",
        "3 0\n",
        "4 1\n",
        "5 2\n"
       ]
      }
     ],
     "prompt_number": 18
    },
    {
     "cell_type": "code",
     "collapsed": false,
     "input": [
      "np.transpose(np.nonzero(subpops_ac_doubletons))"
     ],
     "language": "python",
     "metadata": {},
     "outputs": [
      {
       "metadata": {},
       "output_type": "pyout",
       "prompt_number": 23,
       "text": [
        "array([[0, 0],\n",
        "       [0, 1],\n",
        "       [1, 0],\n",
        "       [1, 2],\n",
        "       [2, 1],\n",
        "       [2, 2],\n",
        "       [3, 0],\n",
        "       [4, 1],\n",
        "       [5, 2]])"
       ]
      }
     ],
     "prompt_number": 23
    },
    {
     "cell_type": "code",
     "collapsed": false,
     "input": [
      "np"
     ],
     "language": "python",
     "metadata": {},
     "outputs": []
    },
    {
     "cell_type": "code",
     "collapsed": false,
     "input": [
      "[tuple(np.nonzero(a)[0]) for a in subpops_ac_doubletons]"
     ],
     "language": "python",
     "metadata": {},
     "outputs": [
      {
       "metadata": {},
       "output_type": "pyout",
       "prompt_number": 11,
       "text": [
        "[(0, 1), (0, 2), (1, 2), (0,), (1,), (2,)]"
       ]
      }
     ],
     "prompt_number": 11
    },
    {
     "cell_type": "code",
     "collapsed": false,
     "input": [
      "n_subpops = subpops_ac.shape[1]\n",
      "n_subpops"
     ],
     "language": "python",
     "metadata": {},
     "outputs": [
      {
       "metadata": {},
       "output_type": "pyout",
       "prompt_number": 12,
       "text": [
        "3"
       ]
      }
     ],
     "prompt_number": 12
    },
    {
     "cell_type": "code",
     "collapsed": false,
     "input": [
      "count_matrix = np.zeros((n_subpops, n_subpops), dtype='i8')\n",
      "count_matrix"
     ],
     "language": "python",
     "metadata": {},
     "outputs": [
      {
       "metadata": {},
       "output_type": "pyout",
       "prompt_number": 13,
       "text": [
        "array([[0, 0, 0],\n",
        "       [0, 0, 0],\n",
        "       [0, 0, 0]])"
       ]
      }
     ],
     "prompt_number": 13
    },
    {
     "cell_type": "code",
     "collapsed": false,
     "input": [
      "for coords in [tuple(np.nonzero(a)[0]) for a in subpops_ac_doubletons]:\n",
      "    if len(coords) == 2:\n",
      "        i, j = coords\n",
      "    elif len(coords) == 1:\n",
      "        i = j = coords\n",
      "    count_matrix[i, j] += 1\n"
     ],
     "language": "python",
     "metadata": {},
     "outputs": [],
     "prompt_number": 14
    },
    {
     "cell_type": "code",
     "collapsed": false,
     "input": [
      "count_matrix"
     ],
     "language": "python",
     "metadata": {},
     "outputs": [
      {
       "metadata": {},
       "output_type": "pyout",
       "prompt_number": 15,
       "text": [
        "array([[1, 1, 1],\n",
        "       [0, 1, 1],\n",
        "       [0, 0, 1]])"
       ]
      }
     ],
     "prompt_number": 15
    },
    {
     "cell_type": "code",
     "collapsed": false,
     "input": [
      "count_matrix = np.zeros((n_subpops, n_subpops), dtype='i8')\n",
      "for i in range(n_subpops):\n",
      "    for j in range(i, n_subpops):\n",
      "        if i == j:\n",
      "            n = np.count_nonzero(subpops_ac_doubletons[:, i] == 2)\n",
      "        else:\n",
      "            n = np.count_nonzero((subpops_ac_doubletons[:, i] == 1) & (subpops_ac_doubletons[:, j] == 1))\n",
      "        count_matrix[i, j] = n\n",
      "count_matrix"
     ],
     "language": "python",
     "metadata": {},
     "outputs": [
      {
       "metadata": {},
       "output_type": "pyout",
       "prompt_number": 73,
       "text": [
        "array([[1, 1, 1],\n",
        "       [0, 1, 1],\n",
        "       [0, 0, 1]])"
       ]
      }
     ],
     "prompt_number": 73
    },
    {
     "cell_type": "code",
     "collapsed": false,
     "input": [
      "fig, ax = plt.subplots(figsize=(6, 6))\n",
      "ax.pcolormesh(count_matrix, cmap='Greys', shading='flat', edgecolor='k')\n",
      "ax.set_xticks(np.arange(n_subpops) + .5)\n",
      "ax.set_yticks(np.arange(n_subpops) + .5)\n",
      "subpop_labels = 'pop1', 'pop2', 'pop3'\n",
      "ax.set_xticklabels(subpop_labels, rotation=90)\n",
      "ax.set_yticklabels(subpop_labels, rotation=0)\n",
      "for i in range(n_subpops):\n",
      "    for j in range(i+1, n_subpops):\n",
      "        ax.text(i+.5, j+.5, count_matrix[i, j], ha='center', va='center')\n",
      "for s in 'top', 'right', 'bottom', 'left':\n",
      "    ax.spines[s].set_visible(False)\n",
      "ax.xaxis.tick_bottom()\n",
      "ax.yaxis.tick_left()"
     ],
     "language": "python",
     "metadata": {},
     "outputs": [
      {
       "metadata": {},
       "output_type": "display_data",
       "png": "[encoded data removed]",
       "text": [
        "<matplotlib.figure.Figure at 0x7f2948b68690>"
       ]
      }
     ],
     "prompt_number": 82
    },
    {
     "cell_type": "code",
     "collapsed": false,
     "input": [],
     "language": "python",
     "metadata": {},
     "outputs": []
    }
   ],
   "metadata": {}
  }
 ]
}