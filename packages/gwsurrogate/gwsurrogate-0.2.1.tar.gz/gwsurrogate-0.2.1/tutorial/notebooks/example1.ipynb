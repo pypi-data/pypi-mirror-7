{
 "metadata": {
  "name": "example1"
 },
 "nbformat": 3,
 "nbformat_minor": 0,
 "worksheets": [
  {
   "cells": [
    {
     "cell_type": "heading",
     "level": 1,
     "metadata": {},
     "source": [
      "Lesson 1: Evaluate and plot surrogates"
     ]
    },
    {
     "cell_type": "code",
     "collapsed": false,
     "input": [
      "### setup system path ###\n",
      "# NOTE: This step is NOT needed if gwsurrogate was installed from pip, with \"python setup.py install\", or PYTHONPATH has been set (see README)\n",
      "import sys\n",
      "path_to_gws = '/home/balzani57/GitRepos/Codes/gwsurrogate/'\n",
      "sys.path.append(path_to_gws)"
     ],
     "language": "python",
     "metadata": {},
     "outputs": [],
     "prompt_number": 7
    },
    {
     "cell_type": "code",
     "collapsed": false,
     "input": [
      "### import the gwsurrogate module and load an existing surrogate ###\n",
      "import gwsurrogate as gws\n",
      "\n",
      "path_to_surrogate = '../EOBNRv2_example/EOBNRv2_q1_2_NoSpin_SingleModes/l2_m2_len12239M_SurID19poly/' # assumes notebook launched from \"notebooks\" directory\n",
      "EOBNRv2_sur = gws.EvaluateSurrogate(path_to_surrogate)\n",
      "\n",
      "### import other useful packages ###\n",
      "from pylab import matplotlib as plt\n",
      "import numpy as np"
     ],
     "language": "python",
     "metadata": {},
     "outputs": [],
     "prompt_number": 8
    },
    {
     "cell_type": "code",
     "collapsed": false,
     "input": [
      "### evaluate and plot an EOB surrogate waveform (physical) ###\n",
      "t, hp, hc = EOBNRv2_sur(q_eval=1.7, M_eval=80.0, dist_eval=1.0, phi_ref = 0.0, f_low = 10.0)\n",
      "\n",
      "amp, phase = EOBNRv2_sur.amp_phase(hp + 1j*hc)\n",
      "\n",
      "EOBNRv2_sur.plot_pretty(t, hp, hc)\n",
      "plt.pyplot.plot(t,amp,'r')\n",
      "plt.pyplot.xlabel('t (seconds)')\n",
      "\n",
      "plt.pyplot.show()"
     ],
     "language": "python",
     "metadata": {},
     "outputs": [],
     "prompt_number": 9
    },
    {
     "cell_type": "code",
     "collapsed": false,
     "input": [
      "### compute the current phase, modify to be a specific value ###\n",
      "phi_m = EOBNRv2_sur.phi_merger(hp + 1j*hc)\n",
      "print 'current phase is '+str(np.mod(phi_m,2.0 * np.pi))\n",
      "h_adj = EOBNRv2_sur.adjust_merger_phase(hp + 1j*hc,2.0)\n",
      "phi_m = EOBNRv2_sur.phi_merger(h_adj)\n",
      "print 'new phase is '+str(np.mod(phi_m,2.0 * np.pi))"
     ],
     "language": "python",
     "metadata": {},
     "outputs": [
      {
       "output_type": "stream",
       "stream": "stdout",
       "text": [
        "current phase is 2.84217094304e-14\n",
        "new phase is 2.0\n"
       ]
      }
     ],
     "prompt_number": 10
    },
    {
     "cell_type": "code",
     "collapsed": false,
     "input": [
      "### direct plotting is also supported (dimensionless) ###\n",
      "EOBNRv2_sur.plot_sur(1.7);"
     ],
     "language": "python",
     "metadata": {},
     "outputs": [],
     "prompt_number": 11
    },
    {
     "cell_type": "code",
     "collapsed": false,
     "input": [
      "### if you try to evaluate the surrogate outside of its training range, you will be warned ###\n",
      "t, hp1, hc1 = EOBNRv2_sur(q_eval=2.7, M_eval=80.0, dist_eval=1.0)"
     ],
     "language": "python",
     "metadata": {},
     "outputs": [
      {
       "output_type": "stream",
       "stream": "stdout",
       "text": [
        "Surrogate not trainined at requested parameter value\n"
       ]
      }
     ],
     "prompt_number": 13
    },
    {
     "cell_type": "code",
     "collapsed": false,
     "input": [
      "### average time to evaluate a waveform (WARNING: code not yet optimized for speed, but should still be pretty fast...) ###\n",
      "# 1000 waveforms are evaluated. This will take a few seconds...\n",
      "EOBNRv2_sur.timer()"
     ],
     "language": "python",
     "metadata": {},
     "outputs": [
      {
       "output_type": "stream",
       "stream": "stdout",
       "text": [
        "Timing results (results quoted in seconds)...\n",
        "Total time to generate 1000 waveforms =  3.77456998825\n",
        "Average time to generate a single waveform =  0.00377456998825\n"
       ]
      }
     ],
     "prompt_number": 18
    },
    {
     "cell_type": "heading",
     "level": 1,
     "metadata": {},
     "source": [
      "Lesson 2: resampling the surrogate (requesting a sampling rate)"
     ]
    },
    {
     "cell_type": "code",
     "collapsed": false,
     "input": [
      "# Surrogate at q=2 with original time sampling\n",
      "t_orig = EOBNRv2_sur.time()\n",
      "h_orig = EOBNRv2_sur.h_sur(1.2)"
     ],
     "language": "python",
     "metadata": {},
     "outputs": [],
     "prompt_number": 21
    },
    {
     "cell_type": "code",
     "collapsed": false,
     "input": [
      "# Surrogate at q=2 with only 100 samples in same interval of time\n",
      "t_resamp = np.linspace(t_orig.min(), t_orig.max(), num=8000)\n",
      "h_resamp = EOBNRv2_sur.h_sur(1.2, samples=t_resamp)"
     ],
     "language": "python",
     "metadata": {},
     "outputs": [],
     "prompt_number": 24
    },
    {
     "cell_type": "code",
     "collapsed": false,
     "input": [
      "# Plot the surrogate with the original and resampled times\n",
      "EOBNRv2_sur.plot_pretty(t_orig, h_orig[0], h_orig[1],1)\n",
      "EOBNRv2_sur.plot_pretty(t_resamp, h_resamp[0], h_resamp[1],2)\n",
      "EOBNRv2_sur.plt.show()"
     ],
     "language": "python",
     "metadata": {},
     "outputs": [],
     "prompt_number": 25
    },
    {
     "cell_type": "heading",
     "level": 1,
     "metadata": {},
     "source": [
      "Lesson 3: Surrogate properties"
     ]
    },
    {
     "cell_type": "code",
     "collapsed": false,
     "input": [
      "### Greedy points and eim indicies ###\n",
      "eim_pts = EOBNRv2_sur.eim_indices\n",
      "\n",
      "t, hp, hc = EOBNRv2_sur(1.7,80.0,1.0)\n",
      "EOBNRv2_sur.plot_pretty(t, hp, hc)\n",
      "plt.pyplot.plot(t[eim_pts],np.zeros(eim_pts.shape),'r*',markersize=15)\n",
      "plt.pyplot.show()\n",
      "\n",
      "\n",
      "print 'Mass ratios defining the basis: '\n",
      "print EOBNRv2_sur.greedy_points"
     ],
     "language": "python",
     "metadata": {},
     "outputs": [
      {
       "output_type": "stream",
       "stream": "stdout",
       "text": [
        "Mass ratios defining the basis: \n",
        "[ 1.     1.904  1.576  2.     1.35   1.75   1.204  1.966  1.27   1.468\n",
        "  1.484  1.67   1.818  1.134  1.954  1.452  1.922  1.84   1.058]\n"
       ]
      }
     ],
     "prompt_number": 11
    },
    {
     "cell_type": "code",
     "collapsed": false,
     "input": [
      "### Temporal information is stored with dimensionless 't/M' units ###\n",
      "print 'temporal units is '+EOBNRv2_sur.t_units\n",
      "print 'temporal sampling is '+str(EOBNRv2_sur.dt)\n",
      "print 'sampling rate is '+str(1.0/EOBNRv2_sur.dt)\n",
      "print 'initial time is '+str(EOBNRv2_sur.tmin)\n",
      "print 'final time is '+str(EOBNRv2_sur.tmax)"
     ],
     "language": "python",
     "metadata": {},
     "outputs": [
      {
       "output_type": "stream",
       "stream": "stdout",
       "text": [
        "temporal units is TOverMtot\n",
        "temporal sampling is 1.23885486971\n",
        "sampling rate is 0.807197053058\n",
        "initial time is 0.0\n",
        "final time is 12239.8861128\n"
       ]
      }
     ],
     "prompt_number": 12
    },
    {
     "cell_type": "markdown",
     "metadata": {},
     "source": [
      "We now show two ways of recovering the 5th physical RB waveform. The first way evalutes the surrogate at the 5th greedy point q_5. The second way uses the Vandermonde matrix V and the GS matrix R (defined as A = QR) to exactly recover the 5th physical RB waveform. Having two (kinda) independent ways to compute h_5 provides a check of R,V, and the surrogate model error at this value of q."
     ]
    },
    {
     "cell_type": "code",
     "collapsed": false,
     "input": [
      "### plot the 5th cardinal (B) basis which appears as h_surrogate = Sum_i B_i(t) h(T_i)  ###\n",
      "times = EOBNRv2_sur.time()\n",
      "b_5   = EOBNRv2_sur.basis(4,'cardinal')\n",
      "\n",
      "EOBNRv2_sur.plot_pretty(times,b_5.real,b_5.imag,1)\n",
      "plt.pyplot.title('Cardinal basis')\n",
      "\n",
      "### use the matrix V, as E = B V, to exactly recover the 5th orthonormal basis E ###\n",
      "e_5 = EOBNRv2_sur.basis(4,'orthogonal')\n",
      "\n",
      "EOBNRv2_sur.plot_pretty(times,e_5.real,e_5.imag,2)\n",
      "plt.pyplot.title('Orthogonal basis')\n",
      "\n",
      "### use the matrix R, as H = E R, to recover the 5th physical basis H ###\n",
      "h_5 = EOBNRv2_sur.basis(4,'waveform')\n",
      "\n",
      "EOBNRv2_sur.plot_pretty(times,h_5.real,h_5.imag,3)\n",
      "plt.pyplot.title('Waveform basis')\n",
      "\n",
      "### use the surrogate model to evaluate for the 5th physical basis ###\n",
      "hp_5_surr, hc_5_surr = EOBNRv2_sur.h_sur(EOBNRv2_sur.greedy_points[4])\n",
      "nrm_5 = EOBNRv2_sur.norm_eval(EOBNRv2_sur.greedy_points[4] , False) # need normalization constant for comparison with normalized basis\n",
      "hp_5_surr = hp_5_surr / nrm_5 \n",
      "hc_5_surr = hc_5_surr / nrm_5\n",
      "\n",
      "EOBNRv2_sur.plot_pretty(times,hp_5_surr,hc_5_surr,4)\n",
      "plt.pyplot.title('Waveform basis via surrogate model')\n",
      "\n",
      "### plot the difference between the 5th physical basis and its surrogate -- consistency and error check ###\n",
      "EOBNRv2_sur.plot_pretty(times,h_5.real - hp_5_surr,h_5.imag - hc_5_surr,5,'semilogy')\n",
      "plt.pyplot.title('Difference between physical waveform basis and its surrogate prediction')\n",
      "\n",
      "plt.pyplot.show()"
     ],
     "language": "python",
     "metadata": {},
     "outputs": [],
     "prompt_number": 20
    },
    {
     "cell_type": "code",
     "collapsed": false,
     "input": [
      "### plotting the waveform basis using the surrogate is also a built-in function ###\n",
      "EOBNRv2_sur.plot_rb(4)"
     ],
     "language": "python",
     "metadata": {},
     "outputs": [
      {
       "output_type": "pyout",
       "prompt_number": 14,
       "text": [
        "<matplotlib.figure.Figure at 0xa91f12c>"
       ]
      }
     ],
     "prompt_number": 14
    },
    {
     "cell_type": "heading",
     "level": 1,
     "metadata": {},
     "source": [
      "Lesson 4: Download surrogates from a server"
     ]
    },
    {
     "cell_type": "markdown",
     "metadata": {},
     "source": [
      "Surrogate may be located on a server. gwsurrogate provides a list of the locations as well as easy-to-use tools to download them"
     ]
    },
    {
     "cell_type": "code",
     "collapsed": false,
     "input": [
      "### view all available surrogates ###\n",
      "gws.surrogate_repo.list()"
     ],
     "language": "python",
     "metadata": {},
     "outputs": [
      {
       "output_type": "stream",
       "stream": "stdout",
       "text": [
        "EOBNRv2 is located at https://www.dropbox.com/s/4dpiw0zzh1wddmq/EOBNRv2.tar.gz\n"
       ]
      }
     ],
     "prompt_number": 26
    },
    {
     "cell_type": "code",
     "collapsed": false,
     "input": [
      "### display the default location for all surrogate downloads ###\n",
      "gws.surrogate_repo.download_path()"
     ],
     "language": "python",
     "metadata": {},
     "outputs": [
      {
       "output_type": "pyout",
       "prompt_number": 27,
       "text": [
        "'/home/balzani57/GitRepos/Codes/gwsurrogate/gwsurrogate/../surrogate_downloads/'"
       ]
      }
     ],
     "prompt_number": 27
    },
    {
     "cell_type": "code",
     "collapsed": false,
     "input": [
      "### download a surrogate (this will take a moment, check the terminal for progress) ##\n",
      "gws.surrogate_repo.get('EOBNRv2')"
     ],
     "language": "python",
     "metadata": {},
     "outputs": [],
     "prompt_number": 28
    },
    {
     "cell_type": "code",
     "collapsed": false,
     "input": [
      "### unpack the surrogate ###\n",
      "import os\n",
      "unzip_loc = gws.surrogate_repo.unzip('EOBNRv2') ## <-- this is the surrogate's location\n",
      "print os.listdir(gws.surrogate_repo.download_path()) ## if everything works you should see EOBNRv2.tar.gz (which you can now delete) and EOBNRv2"
     ],
     "language": "python",
     "metadata": {},
     "outputs": [
      {
       "output_type": "stream",
       "stream": "stdout",
       "text": [
        "['EOBNRv2.tar.gz', 'README', 'EOBNRv2']\n"
       ]
      }
     ],
     "prompt_number": 29
    },
    {
     "cell_type": "code",
     "collapsed": false,
     "input": [
      "### view available surrogates: both are collections of single mode surrogates for q from 1 to 2 and 1 to 10 ###\n",
      "#import os\n",
      "#unzip_loc = gws.surrogate_repo.download_path()+'EOBNRv2'\n",
      "print os.listdir(unzip_loc)"
     ],
     "language": "python",
     "metadata": {},
     "outputs": [
      {
       "output_type": "stream",
       "stream": "stdout",
       "text": [
        "['EOBNRv2_q1_10_NoSpin_SingleModes', 'EOBNRv2_q1_2_NoSpin_SingleModes']\n"
       ]
      }
     ],
     "prompt_number": 34
    },
    {
     "cell_type": "code",
     "collapsed": false,
     "input": [
      "### view available surrogates:  ###\n",
      "print os.listdir(unzip_loc+'/EOBNRv2_q1_10_NoSpin_SingleModes') # (2,2) mode for duration 12236 M, usings 40 basis and polynomial fits\n",
      "print os.listdir(unzip_loc+'/EOBNRv2_q1_2_NoSpin_SingleModes')  # variety of modes, durations and basis"
     ],
     "language": "python",
     "metadata": {},
     "outputs": [
      {
       "output_type": "stream",
       "stream": "stdout",
       "text": [
        "['l2_m2_len12236M_SurID40poly']\n",
        "['l2_m2_len191839M_SurID20poly', 'l5_m5_len12238M_SurID15poly', 'l2_m2_len12239M_SurID19poly', 'l2_m1_len12243M_SurID15poly', 'l4_m4_len12238M_SurID15poly', 'l3_m3_len12241M_SurID15poly']\n"
       ]
      }
     ],
     "prompt_number": 35
    },
    {
     "cell_type": "code",
     "collapsed": false,
     "input": [
      "### load your favorite surrogates ###\n",
      "EOBNRv2_22_q10_12236M = gws.EvaluateSurrogate(unzip_loc+'EOBNRv2_q1_10_NoSpin_SingleModes/'+'l2_m2_len12236M_SurID40poly/')\n",
      "EOBNRv2_22_q2_191839M = gws.EvaluateSurrogate(unzip_loc+'EOBNRv2_q1_2_NoSpin_SingleModes/'+'l2_m2_len191839M_SurID20poly/')\n",
      "EOBNRv2_44_q2_12238M = gws.EvaluateSurrogate(unzip_loc+'EOBNRv2_q1_2_NoSpin_SingleModes/'+'l4_m4_len12238M_SurID15poly/')"
     ],
     "language": "python",
     "metadata": {},
     "outputs": [],
     "prompt_number": 36
    },
    {
     "cell_type": "code",
     "collapsed": false,
     "input": [
      "### evaluate and plot ###\n",
      "t, hp, hc = EOBNRv2_22_q10_12236M(q_eval = 8.7, M_eval = 80.0, dist_eval = 1.0, phi_ref = 3.1415, f_low = 15.0)\n",
      "EOBNRv2_22_q10_12236M.plot_pretty(t, hp, hc,1) \n",
      "\n",
      "t, hp, hc = EOBNRv2_22_q2_191839M(q_eval = 1.7, M_eval = 7.0, dist_eval = 1.0, phi_ref = 17.0, f_low = 40.0)\n",
      "EOBNRv2_22_q10_12236M.plot_pretty(t, hp, hc,2) \n",
      "\n",
      "t, hp, hc = EOBNRv2_44_q2_12238M(q_eval = 1.7, M_eval = 150.0, dist_eval = 1.0, f_low=40.0)\n",
      "EOBNRv2_44_q2_12238M.plot_pretty(t, hp, hc,3) \n",
      "\n",
      "plt.pyplot.show()"
     ],
     "language": "python",
     "metadata": {},
     "outputs": [],
     "prompt_number": 37
    }
   ],
   "metadata": {}
  }
 ]
}