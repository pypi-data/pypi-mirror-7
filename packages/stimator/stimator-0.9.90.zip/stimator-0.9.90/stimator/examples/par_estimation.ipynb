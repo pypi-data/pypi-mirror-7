{
 "metadata": {
  "name": "",
  "signature": "sha256:986246a9116c6763e04945077229e41f5b97cb93151f4deba7fd7b62edf91774"
 },
 "nbformat": 3,
 "nbformat_minor": 0,
 "worksheets": [
  {
   "cells": [
    {
     "cell_type": "markdown",
     "metadata": {},
     "source": [
      "S-timator : demonstration of deode module.\n",
      "------------------------------------------\n",
      "\n",
      "The **deode.py** module combines ODE solving with DE (differential evolution) genetic optimizer.\n"
     ]
    },
    {
     "cell_type": "code",
     "collapsed": false,
     "input": [
      "%matplotlib inline\n",
      "\n",
      "from stimator import *\n",
      "from stimator.deode import DeODESolver\n",
      "import pylab as pl\n",
      "\n",
      "mdl = \"\"\"\n",
      "title Glyoxalase system in L. Infantum\n",
      "\n",
      "glx1 : HTA -> SDLTSH, V1*HTA/(Km1 + HTA)\n",
      "glx2 : SDLTSH ->,     V2*SDLTSH/(Km2 + SDLTSH)\n",
      "\n",
      "find V1  in [0.00001, 0.0001]\n",
      "find Km1 in [0.01, 1]\n",
      "find V2  in [0.00001, 0.0001]\n",
      "find Km2 in [0.01, 1]\n",
      "init = state(SDLTSH = 7.69231E-05, HTA = 0.1357)\n",
      "\"\"\"\n",
      "m1 = read_model(mdl)\n",
      "\n",
      "print '================================================='\n",
      "print 'Parameter estimation: glyoxalase system example'\n",
      "print mdl\n",
      "print '-------- an example with two time courses --------------'\n",
      "\n",
      "optSettings={'genomesize':80, 'generations':200}\n",
      "timecourses = readTCs(['TSH2a.txt', 'TSH2b.txt'], names = ['SDLTSH', 'HTA'], verbose=True)\n",
      "\n",
      "solver = DeODESolver(m1,optSettings, timecourses)\n",
      "solver.Solve()\n",
      "\n",
      "print solver.reportResults()\n",
      "\n",
      "fig1 = pl.figure()\n",
      "solver.draw(fig1)\n",
      "## #save predicted timecourses to files\n",
      "## redsols = solver.optimum.optimum_tcs\n",
      "## redsols.saveTimeCoursesTo(['TSH2a_pred.txt', 'TSH2b_pred.txt'], verbose=True)\n",
      "\n",
      "pl.show()\n",
      "\n",
      "print '-------- an example with unknown initial values --------------'\n",
      "\n",
      "m2 = m1.clone()\n",
      "\n",
      "# Now, assume init.HTA is uncertain\n",
      "m2.init.HTA.uncertainty(0.05,0.25)\n",
      "# do not estimate Km1 and Km2 to help the analysis\n",
      "m2.Km1.uncertainty(None)\n",
      "m2.Km2.uncertainty(None)\n",
      "m2.Km1 = 0.252531\n",
      "m2.Km2 = 0.0980973\n",
      "\n",
      "optSettings={'genomesize':60, 'generations':200}\n",
      "\n",
      "## VERY IMPORTANT:\n",
      "## only one time course can be used: \n",
      "## cannot fit one uncertain initial value to several timecourses!!!\n",
      "timecourses = readTCs(['TSH2a.txt'], '.', names = ['SDLTSH', 'HTA'], verbose=True)\n",
      "\n",
      "solver = DeODESolver(m2,optSettings, timecourses)\n",
      "solver.Solve()\n",
      "\n",
      "print solver.reportResults()\n",
      "\n",
      "fig2 = pl.figure()\n",
      "solver.draw(fig2)"
     ],
     "language": "python",
     "metadata": {},
     "outputs": []
    },
    {
     "cell_type": "code",
     "collapsed": false,
     "input": [],
     "language": "python",
     "metadata": {},
     "outputs": []
    }
   ],
   "metadata": {}
  }
 ]
}