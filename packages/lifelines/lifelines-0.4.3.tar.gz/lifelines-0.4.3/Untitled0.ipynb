{
 "metadata": {
  "name": "",
  "signature": "sha256:4796b644a1d13dfc6d254bf441022bf8c1d51d8ca27770821a16dac78085f9d9"
 },
 "nbformat": 3,
 "nbformat_minor": 0,
 "worksheets": [
  {
   "cells": [
    {
     "cell_type": "code",
     "collapsed": false,
     "input": [
      "import pandas as pd"
     ],
     "language": "python",
     "metadata": {},
     "outputs": [],
     "prompt_number": 1
    },
    {
     "cell_type": "code",
     "collapsed": false,
     "input": [
      "df = pd.read_csv('fbi.csv')"
     ],
     "language": "python",
     "metadata": {},
     "outputs": [],
     "prompt_number": 2
    },
    {
     "cell_type": "code",
     "collapsed": false,
     "input": [
      "df.head(10)"
     ],
     "language": "python",
     "metadata": {},
     "outputs": [
      {
       "html": [
        "<div style=\"max-height:1000px;max-width:1500px;overflow:auto;\">\n",
        "<table border=\"1\" class=\"dataframe\">\n",
        "  <thead>\n",
        "    <tr style=\"text-align: right;\">\n",
        "      <th></th>\n",
        "      <th>id</th>\n",
        "      <th>name</th>\n",
        "      <th>date_put_on_list</th>\n",
        "      <th>follow_up_date</th>\n",
        "      <th>result</th>\n",
        "    </tr>\n",
        "  </thead>\n",
        "  <tbody>\n",
        "    <tr>\n",
        "      <th>0</th>\n",
        "      <td>  1</td>\n",
        "      <td>     Thomas James Holden</td>\n",
        "      <td> 3/14/1950</td>\n",
        "      <td>  6/23/1951</td>\n",
        "      <td>       Oregon</td>\n",
        "    </tr>\n",
        "    <tr>\n",
        "      <th>1</th>\n",
        "      <td>  2</td>\n",
        "      <td>      Morley Vernon King</td>\n",
        "      <td> 3/15/1950</td>\n",
        "      <td> 10/31/1951</td>\n",
        "      <td> Pennsylvania</td>\n",
        "    </tr>\n",
        "    <tr>\n",
        "      <th>2</th>\n",
        "      <td>  3</td>\n",
        "      <td>  William Raymond Nesbit</td>\n",
        "      <td> 3/16/1950</td>\n",
        "      <td>  3/18/1950</td>\n",
        "      <td>    Minnesota</td>\n",
        "    </tr>\n",
        "    <tr>\n",
        "      <th>3</th>\n",
        "      <td>  4</td>\n",
        "      <td> Henry Randolph Mitchell</td>\n",
        "      <td> 3/17/1950</td>\n",
        "      <td>  7/18/1958</td>\n",
        "      <td>    Dismissed</td>\n",
        "    </tr>\n",
        "    <tr>\n",
        "      <th>4</th>\n",
        "      <td>  5</td>\n",
        "      <td>      Omar August Pinson</td>\n",
        "      <td> 3/18/1950</td>\n",
        "      <td>  8/28/1950</td>\n",
        "      <td> South Dakota</td>\n",
        "    </tr>\n",
        "    <tr>\n",
        "      <th>5</th>\n",
        "      <td>  6</td>\n",
        "      <td>         Lee Emory Downs</td>\n",
        "      <td> 3/20/1950</td>\n",
        "      <td>   4/7/1950</td>\n",
        "      <td>      Florida</td>\n",
        "    </tr>\n",
        "    <tr>\n",
        "      <th>6</th>\n",
        "      <td>  7</td>\n",
        "      <td>      Orba Elmer Jackson</td>\n",
        "      <td> 3/21/1950</td>\n",
        "      <td>  3/23/1950</td>\n",
        "      <td>       Oregon</td>\n",
        "    </tr>\n",
        "    <tr>\n",
        "      <th>7</th>\n",
        "      <td>  8</td>\n",
        "      <td>         Glen Roy Wright</td>\n",
        "      <td> 3/22/1950</td>\n",
        "      <td> 12/13/1950</td>\n",
        "      <td>       Kansas</td>\n",
        "    </tr>\n",
        "    <tr>\n",
        "      <th>8</th>\n",
        "      <td>  9</td>\n",
        "      <td>   Henry Harland Shelton</td>\n",
        "      <td> 3/23/1950</td>\n",
        "      <td>  6/23/1950</td>\n",
        "      <td>      Indiana</td>\n",
        "    </tr>\n",
        "    <tr>\n",
        "      <th>9</th>\n",
        "      <td> 10</td>\n",
        "      <td>        Morris Guralnick</td>\n",
        "      <td> 3/24/1950</td>\n",
        "      <td> 12/15/1950</td>\n",
        "      <td>    Wisconsin</td>\n",
        "    </tr>\n",
        "  </tbody>\n",
        "</table>\n",
        "<p>10 rows \u00d7 5 columns</p>\n",
        "</div>"
       ],
       "metadata": {},
       "output_type": "pyout",
       "prompt_number": 11,
       "text": [
        "   id                     name date_put_on_list follow_up_date        result\n",
        "0   1      Thomas James Holden        3/14/1950      6/23/1951        Oregon\n",
        "1   2       Morley Vernon King        3/15/1950     10/31/1951  Pennsylvania\n",
        "2   3   William Raymond Nesbit        3/16/1950      3/18/1950     Minnesota\n",
        "3   4  Henry Randolph Mitchell        3/17/1950      7/18/1958     Dismissed\n",
        "4   5       Omar August Pinson        3/18/1950      8/28/1950  South Dakota\n",
        "5   6          Lee Emory Downs        3/20/1950       4/7/1950       Florida\n",
        "6   7       Orba Elmer Jackson        3/21/1950      3/23/1950        Oregon\n",
        "7   8          Glen Roy Wright        3/22/1950     12/13/1950        Kansas\n",
        "8   9    Henry Harland Shelton        3/23/1950      6/23/1950       Indiana\n",
        "9  10         Morris Guralnick        3/24/1950     12/15/1950     Wisconsin\n",
        "\n",
        "[10 rows x 5 columns]"
       ]
      }
     ],
     "prompt_number": 11
    },
    {
     "cell_type": "code",
     "collapsed": false,
     "input": [
      "from lifelines.utils import datetimes_to_durations"
     ],
     "language": "python",
     "metadata": {},
     "outputs": [],
     "prompt_number": 6
    },
    {
     "cell_type": "code",
     "collapsed": false,
     "input": [
      "T, C = datetimes_to_durations(df['date_put_on_list'], df['follow_up_date'], freq='M')"
     ],
     "language": "python",
     "metadata": {},
     "outputs": [],
     "prompt_number": 16
    },
    {
     "cell_type": "code",
     "collapsed": false,
     "input": [
      "df = df.ix[T >= 0]"
     ],
     "language": "python",
     "metadata": {},
     "outputs": [],
     "prompt_number": 15
    },
    {
     "cell_type": "code",
     "collapsed": false,
     "input": [
      "(T < 0).sum()"
     ],
     "language": "python",
     "metadata": {},
     "outputs": [
      {
       "metadata": {},
       "output_type": "pyout",
       "prompt_number": 18,
       "text": [
        "0"
       ]
      }
     ],
     "prompt_number": 18
    },
    {
     "cell_type": "code",
     "collapsed": false,
     "input": [
      "from lifelines import KaplanMeierFitter"
     ],
     "language": "python",
     "metadata": {},
     "outputs": [],
     "prompt_number": 20
    },
    {
     "cell_type": "code",
     "collapsed": false,
     "input": [
      "kmf = KaplanMeierFitter()"
     ],
     "language": "python",
     "metadata": {},
     "outputs": [],
     "prompt_number": 22
    },
    {
     "cell_type": "code",
     "collapsed": false,
     "input": [
      "kmf.fit(T, C)"
     ],
     "language": "python",
     "metadata": {},
     "outputs": [
      {
       "metadata": {},
       "output_type": "pyout",
       "prompt_number": 23,
       "text": [
        "<lifelines.KaplanMeierFitter: fitted with 491 observations, 12 censored>"
       ]
      }
     ],
     "prompt_number": 23
    },
    {
     "cell_type": "code",
     "collapsed": false,
     "input": [
      "figsize(14,6)\n",
      "kmf.plot()"
     ],
     "language": "python",
     "metadata": {},
     "outputs": [
      {
       "metadata": {},
       "output_type": "pyout",
       "prompt_number": 34,
       "text": [
        "<matplotlib.axes.AxesSubplot at 0x10fe01a10>"
       ]
      },
      {
       "metadata": {},
       "output_type": "display_data",
       "png": "[encoded data removed]",
       "text": [
        "<matplotlib.figure.Figure at 0x10fdc4f50>"
       ]
      }
     ],
     "prompt_number": 34
    },
    {
     "cell_type": "markdown",
     "metadata": {},
     "source": [
      "%pylab inline"
     ]
    },
    {
     "cell_type": "code",
     "collapsed": false,
     "input": [
      "kmf.plot(ix=slice(0,20))"
     ],
     "language": "python",
     "metadata": {},
     "outputs": [
      {
       "metadata": {},
       "output_type": "pyout",
       "prompt_number": 35,
       "text": [
        "<matplotlib.axes.AxesSubplot at 0x11150ee10>"
       ]
      },
      {
       "metadata": {},
       "output_type": "display_data",
       "png": "[encoded data removed]",
       "text": [
        "<matplotlib.figure.Figure at 0x1115370d0>"
       ]
      }
     ],
     "prompt_number": 35
    },
    {
     "cell_type": "code",
     "collapsed": false,
     "input": [
      "from lifelines import NelsonAalenFitter"
     ],
     "language": "python",
     "metadata": {},
     "outputs": [],
     "prompt_number": 36
    },
    {
     "cell_type": "code",
     "collapsed": false,
     "input": [
      "naf = NelsonAalenFitter()"
     ],
     "language": "python",
     "metadata": {},
     "outputs": [],
     "prompt_number": 37
    },
    {
     "cell_type": "code",
     "collapsed": false,
     "input": [
      "naf.fit(T,C)"
     ],
     "language": "python",
     "metadata": {},
     "outputs": [
      {
       "metadata": {},
       "output_type": "pyout",
       "prompt_number": 38,
       "text": [
        "<lifelines.NelsonAalenFitter: fitted with 491 observations, 12 censored>"
       ]
      }
     ],
     "prompt_number": 38
    },
    {
     "cell_type": "code",
     "collapsed": false,
     "input": [
      "naf.plot()"
     ],
     "language": "python",
     "metadata": {},
     "outputs": [
      {
       "metadata": {},
       "output_type": "pyout",
       "prompt_number": 40,
       "text": [
        "<matplotlib.axes.AxesSubplot at 0x11153d3d0>"
       ]
      },
      {
       "metadata": {},
       "output_type": "display_data",
       "png": "[encoded data removed]",
       "text": [
        "<matplotlib.figure.Figure at 0x111502310>"
       ]
      }
     ],
     "prompt_number": 40
    },
    {
     "cell_type": "code",
     "collapsed": false,
     "input": [
      "naf.confidence_interval_"
     ],
     "language": "python",
     "metadata": {},
     "outputs": [
      {
       "html": [
        "<div style=\"max-height:1000px;max-width:1500px;overflow:auto;\">\n",
        "<table border=\"1\" class=\"dataframe\">\n",
        "  <thead>\n",
        "    <tr style=\"text-align: right;\">\n",
        "      <th></th>\n",
        "      <th>NA-estimate_upper_0.95</th>\n",
        "      <th>NA-estimate_lower_0.95</th>\n",
        "    </tr>\n",
        "  </thead>\n",
        "  <tbody>\n",
        "    <tr>\n",
        "      <th>0  </th>\n",
        "      <td> 0.473628</td>\n",
        "      <td> 0.347983</td>\n",
        "    </tr>\n",
        "    <tr>\n",
        "      <th>1  </th>\n",
        "      <td> 0.662714</td>\n",
        "      <td> 0.505641</td>\n",
        "    </tr>\n",
        "    <tr>\n",
        "      <th>2  </th>\n",
        "      <td> 0.815583</td>\n",
        "      <td> 0.633692</td>\n",
        "    </tr>\n",
        "    <tr>\n",
        "      <th>3  </th>\n",
        "      <td> 0.966986</td>\n",
        "      <td> 0.760450</td>\n",
        "    </tr>\n",
        "    <tr>\n",
        "      <th>4  </th>\n",
        "      <td> 1.071502</td>\n",
        "      <td> 0.847732</td>\n",
        "    </tr>\n",
        "    <tr>\n",
        "      <th>5  </th>\n",
        "      <td> 1.180867</td>\n",
        "      <td> 0.938760</td>\n",
        "    </tr>\n",
        "    <tr>\n",
        "      <th>6  </th>\n",
        "      <td> 1.226601</td>\n",
        "      <td> 0.976715</td>\n",
        "    </tr>\n",
        "    <tr>\n",
        "      <th>7  </th>\n",
        "      <td> 1.302659</td>\n",
        "      <td> 1.039671</td>\n",
        "    </tr>\n",
        "    <tr>\n",
        "      <th>8  </th>\n",
        "      <td> 1.384532</td>\n",
        "      <td> 1.107187</td>\n",
        "    </tr>\n",
        "    <tr>\n",
        "      <th>9  </th>\n",
        "      <td> 1.431978</td>\n",
        "      <td> 1.146182</td>\n",
        "    </tr>\n",
        "    <tr>\n",
        "      <th>10 </th>\n",
        "      <td> 1.473188</td>\n",
        "      <td> 1.179970</td>\n",
        "    </tr>\n",
        "    <tr>\n",
        "      <th>11 </th>\n",
        "      <td> 1.533684</td>\n",
        "      <td> 1.229426</td>\n",
        "    </tr>\n",
        "    <tr>\n",
        "      <th>12 </th>\n",
        "      <td> 1.607287</td>\n",
        "      <td> 1.289350</td>\n",
        "    </tr>\n",
        "    <tr>\n",
        "      <th>13 </th>\n",
        "      <td> 1.676798</td>\n",
        "      <td> 1.345581</td>\n",
        "    </tr>\n",
        "    <tr>\n",
        "      <th>14 </th>\n",
        "      <td> 1.729359</td>\n",
        "      <td> 1.387927</td>\n",
        "    </tr>\n",
        "    <tr>\n",
        "      <th>15 </th>\n",
        "      <td> 1.784629</td>\n",
        "      <td> 1.432286</td>\n",
        "    </tr>\n",
        "    <tr>\n",
        "      <th>16 </th>\n",
        "      <td> 1.819611</td>\n",
        "      <td> 1.460206</td>\n",
        "    </tr>\n",
        "    <tr>\n",
        "      <th>17 </th>\n",
        "      <td> 1.918871</td>\n",
        "      <td> 1.539029</td>\n",
        "    </tr>\n",
        "    <tr>\n",
        "      <th>18 </th>\n",
        "      <td> 1.945185</td>\n",
        "      <td> 1.559823</td>\n",
        "    </tr>\n",
        "    <tr>\n",
        "      <th>19 </th>\n",
        "      <td> 1.985904</td>\n",
        "      <td> 1.591912</td>\n",
        "    </tr>\n",
        "    <tr>\n",
        "      <th>21 </th>\n",
        "      <td> 2.028221</td>\n",
        "      <td> 1.625146</td>\n",
        "    </tr>\n",
        "    <tr>\n",
        "      <th>22 </th>\n",
        "      <td> 2.057385</td>\n",
        "      <td> 1.647981</td>\n",
        "    </tr>\n",
        "    <tr>\n",
        "      <th>23 </th>\n",
        "      <td> 2.072268</td>\n",
        "      <td> 1.659612</td>\n",
        "    </tr>\n",
        "    <tr>\n",
        "      <th>24 </th>\n",
        "      <td> 2.087360</td>\n",
        "      <td> 1.671390</td>\n",
        "    </tr>\n",
        "    <tr>\n",
        "      <th>25 </th>\n",
        "      <td> 2.118191</td>\n",
        "      <td> 1.695403</td>\n",
        "    </tr>\n",
        "    <tr>\n",
        "      <th>26 </th>\n",
        "      <td> 2.133943</td>\n",
        "      <td> 1.707647</td>\n",
        "    </tr>\n",
        "    <tr>\n",
        "      <th>27 </th>\n",
        "      <td> 2.149928</td>\n",
        "      <td> 1.720054</td>\n",
        "    </tr>\n",
        "    <tr>\n",
        "      <th>28 </th>\n",
        "      <td> 2.216344</td>\n",
        "      <td> 1.771407</td>\n",
        "    </tr>\n",
        "    <tr>\n",
        "      <th>29 </th>\n",
        "      <td> 2.287108</td>\n",
        "      <td> 1.825768</td>\n",
        "    </tr>\n",
        "    <tr>\n",
        "      <th>30 </th>\n",
        "      <td> 2.305546</td>\n",
        "      <td> 1.839871</td>\n",
        "    </tr>\n",
        "    <tr>\n",
        "      <th>34 </th>\n",
        "      <td> 2.324303</td>\n",
        "      <td> 1.854192</td>\n",
        "    </tr>\n",
        "    <tr>\n",
        "      <th>35 </th>\n",
        "      <td> 2.343391</td>\n",
        "      <td> 1.868737</td>\n",
        "    </tr>\n",
        "    <tr>\n",
        "      <th>36 </th>\n",
        "      <td> 2.362820</td>\n",
        "      <td> 1.883514</td>\n",
        "    </tr>\n",
        "    <tr>\n",
        "      <th>37 </th>\n",
        "      <td> 2.423288</td>\n",
        "      <td> 1.929314</td>\n",
        "    </tr>\n",
        "    <tr>\n",
        "      <th>38 </th>\n",
        "      <td> 2.465556</td>\n",
        "      <td> 1.961157</td>\n",
        "    </tr>\n",
        "    <tr>\n",
        "      <th>39 </th>\n",
        "      <td> 2.487322</td>\n",
        "      <td> 1.977499</td>\n",
        "    </tr>\n",
        "    <tr>\n",
        "      <th>40 </th>\n",
        "      <td> 2.509533</td>\n",
        "      <td> 1.994135</td>\n",
        "    </tr>\n",
        "    <tr>\n",
        "      <th>42 </th>\n",
        "      <td> 2.532206</td>\n",
        "      <td> 2.011076</td>\n",
        "    </tr>\n",
        "    <tr>\n",
        "      <th>44 </th>\n",
        "      <td> 2.555361</td>\n",
        "      <td> 2.028333</td>\n",
        "    </tr>\n",
        "    <tr>\n",
        "      <th>47 </th>\n",
        "      <td> 2.579020</td>\n",
        "      <td> 2.045919</td>\n",
        "    </tr>\n",
        "    <tr>\n",
        "      <th>48 </th>\n",
        "      <td> 2.653238</td>\n",
        "      <td> 2.100781</td>\n",
        "    </tr>\n",
        "    <tr>\n",
        "      <th>50 </th>\n",
        "      <td> 2.705675</td>\n",
        "      <td> 2.139258</td>\n",
        "    </tr>\n",
        "    <tr>\n",
        "      <th>52 </th>\n",
        "      <td> 2.732867</td>\n",
        "      <td> 2.159116</td>\n",
        "    </tr>\n",
        "    <tr>\n",
        "      <th>53 </th>\n",
        "      <td> 2.818744</td>\n",
        "      <td> 2.221399</td>\n",
        "    </tr>\n",
        "    <tr>\n",
        "      <th>54 </th>\n",
        "      <td> 2.848931</td>\n",
        "      <td> 2.243135</td>\n",
        "    </tr>\n",
        "    <tr>\n",
        "      <th>56 </th>\n",
        "      <td> 2.848931</td>\n",
        "      <td> 2.243135</td>\n",
        "    </tr>\n",
        "    <tr>\n",
        "      <th>58 </th>\n",
        "      <td> 2.881980</td>\n",
        "      <td> 2.266411</td>\n",
        "    </tr>\n",
        "    <tr>\n",
        "      <th>60 </th>\n",
        "      <td> 2.987466</td>\n",
        "      <td> 2.340049</td>\n",
        "    </tr>\n",
        "    <tr>\n",
        "      <th>61 </th>\n",
        "      <td> 3.024972</td>\n",
        "      <td> 2.365987</td>\n",
        "    </tr>\n",
        "    <tr>\n",
        "      <th>64 </th>\n",
        "      <td> 3.063783</td>\n",
        "      <td> 2.392689</td>\n",
        "    </tr>\n",
        "    <tr>\n",
        "      <th>65 </th>\n",
        "      <td> 3.103992</td>\n",
        "      <td> 2.420204</td>\n",
        "    </tr>\n",
        "    <tr>\n",
        "      <th>70 </th>\n",
        "      <td> 3.145700</td>\n",
        "      <td> 2.448583</td>\n",
        "    </tr>\n",
        "    <tr>\n",
        "      <th>72 </th>\n",
        "      <td> 3.189023</td>\n",
        "      <td> 2.477882</td>\n",
        "    </tr>\n",
        "    <tr>\n",
        "      <th>75 </th>\n",
        "      <td> 3.234086</td>\n",
        "      <td> 2.508164</td>\n",
        "    </tr>\n",
        "    <tr>\n",
        "      <th>77 </th>\n",
        "      <td> 3.281033</td>\n",
        "      <td> 2.539500</td>\n",
        "    </tr>\n",
        "    <tr>\n",
        "      <th>78 </th>\n",
        "      <td> 3.330025</td>\n",
        "      <td> 2.571965</td>\n",
        "    </tr>\n",
        "    <tr>\n",
        "      <th>84 </th>\n",
        "      <td> 3.330025</td>\n",
        "      <td> 2.571965</td>\n",
        "    </tr>\n",
        "    <tr>\n",
        "      <th>90 </th>\n",
        "      <td> 3.576396</td>\n",
        "      <td> 2.725786</td>\n",
        "    </tr>\n",
        "    <tr>\n",
        "      <th>100</th>\n",
        "      <td> 3.647164</td>\n",
        "      <td> 2.768862</td>\n",
        "    </tr>\n",
        "    <tr>\n",
        "      <th>110</th>\n",
        "      <td> 3.722523</td>\n",
        "      <td> 2.814171</td>\n",
        "    </tr>\n",
        "    <tr>\n",
        "      <th></th>\n",
        "      <td>...</td>\n",
        "      <td>...</td>\n",
        "    </tr>\n",
        "  </tbody>\n",
        "</table>\n",
        "<p>74 rows \u00d7 2 columns</p>\n",
        "</div>"
       ],
       "metadata": {},
       "output_type": "pyout",
       "prompt_number": 41,
       "text": [
        "     NA-estimate_upper_0.95  NA-estimate_lower_0.95\n",
        "0                  0.473628                0.347983\n",
        "1                  0.662714                0.505641\n",
        "2                  0.815583                0.633692\n",
        "3                  0.966986                0.760450\n",
        "4                  1.071502                0.847732\n",
        "5                  1.180867                0.938760\n",
        "6                  1.226601                0.976715\n",
        "7                  1.302659                1.039671\n",
        "8                  1.384532                1.107187\n",
        "9                  1.431978                1.146182\n",
        "10                 1.473188                1.179970\n",
        "11                 1.533684                1.229426\n",
        "12                 1.607287                1.289350\n",
        "13                 1.676798                1.345581\n",
        "14                 1.729359                1.387927\n",
        "15                 1.784629                1.432286\n",
        "16                 1.819611                1.460206\n",
        "17                 1.918871                1.539029\n",
        "18                 1.945185                1.559823\n",
        "19                 1.985904                1.591912\n",
        "21                 2.028221                1.625146\n",
        "22                 2.057385                1.647981\n",
        "23                 2.072268                1.659612\n",
        "24                 2.087360                1.671390\n",
        "25                 2.118191                1.695403\n",
        "26                 2.133943                1.707647\n",
        "27                 2.149928                1.720054\n",
        "28                 2.216344                1.771407\n",
        "29                 2.287108                1.825768\n",
        "30                 2.305546                1.839871\n",
        "34                 2.324303                1.854192\n",
        "35                 2.343391                1.868737\n",
        "36                 2.362820                1.883514\n",
        "37                 2.423288                1.929314\n",
        "38                 2.465556                1.961157\n",
        "39                 2.487322                1.977499\n",
        "40                 2.509533                1.994135\n",
        "42                 2.532206                2.011076\n",
        "44                 2.555361                2.028333\n",
        "47                 2.579020                2.045919\n",
        "48                 2.653238                2.100781\n",
        "50                 2.705675                2.139258\n",
        "52                 2.732867                2.159116\n",
        "53                 2.818744                2.221399\n",
        "54                 2.848931                2.243135\n",
        "56                 2.848931                2.243135\n",
        "58                 2.881980                2.266411\n",
        "60                 2.987466                2.340049\n",
        "61                 3.024972                2.365987\n",
        "64                 3.063783                2.392689\n",
        "65                 3.103992                2.420204\n",
        "70                 3.145700                2.448583\n",
        "72                 3.189023                2.477882\n",
        "75                 3.234086                2.508164\n",
        "77                 3.281033                2.539500\n",
        "78                 3.330025                2.571965\n",
        "84                 3.330025                2.571965\n",
        "90                 3.576396                2.725786\n",
        "100                3.647164                2.768862\n",
        "110                3.722523                2.814171\n",
        "                        ...                     ...\n",
        "\n",
        "[74 rows x 2 columns]"
       ]
      }
     ],
     "prompt_number": 41
    },
    {
     "cell_type": "code",
     "collapsed": false,
     "input": [
      "from lifelines.datasets import generate_rossi_dataset"
     ],
     "language": "python",
     "metadata": {},
     "outputs": [],
     "prompt_number": 42
    },
    {
     "cell_type": "code",
     "collapsed": false,
     "input": [
      "df = generate_rossi_dataset()"
     ],
     "language": "python",
     "metadata": {},
     "outputs": [],
     "prompt_number": 43
    },
    {
     "cell_type": "code",
     "collapsed": false,
     "input": [
      "df.head()"
     ],
     "language": "python",
     "metadata": {},
     "outputs": [
      {
       "html": [
        "<div style=\"max-height:1000px;max-width:1500px;overflow:auto;\">\n",
        "<table border=\"1\" class=\"dataframe\">\n",
        "  <thead>\n",
        "    <tr style=\"text-align: right;\">\n",
        "      <th></th>\n",
        "      <th>week</th>\n",
        "      <th>arrest</th>\n",
        "      <th>fin</th>\n",
        "      <th>age</th>\n",
        "      <th>race</th>\n",
        "      <th>wexp</th>\n",
        "      <th>mar</th>\n",
        "      <th>paro</th>\n",
        "      <th>prio</th>\n",
        "    </tr>\n",
        "  </thead>\n",
        "  <tbody>\n",
        "    <tr>\n",
        "      <th>0</th>\n",
        "      <td> 20</td>\n",
        "      <td> 1</td>\n",
        "      <td> 0</td>\n",
        "      <td> 27</td>\n",
        "      <td> 1</td>\n",
        "      <td> 0</td>\n",
        "      <td> 0</td>\n",
        "      <td> 1</td>\n",
        "      <td>  3</td>\n",
        "    </tr>\n",
        "    <tr>\n",
        "      <th>1</th>\n",
        "      <td> 17</td>\n",
        "      <td> 1</td>\n",
        "      <td> 0</td>\n",
        "      <td> 18</td>\n",
        "      <td> 1</td>\n",
        "      <td> 0</td>\n",
        "      <td> 0</td>\n",
        "      <td> 1</td>\n",
        "      <td>  8</td>\n",
        "    </tr>\n",
        "    <tr>\n",
        "      <th>2</th>\n",
        "      <td> 25</td>\n",
        "      <td> 1</td>\n",
        "      <td> 0</td>\n",
        "      <td> 19</td>\n",
        "      <td> 0</td>\n",
        "      <td> 1</td>\n",
        "      <td> 0</td>\n",
        "      <td> 1</td>\n",
        "      <td> 13</td>\n",
        "    </tr>\n",
        "    <tr>\n",
        "      <th>3</th>\n",
        "      <td> 52</td>\n",
        "      <td> 0</td>\n",
        "      <td> 1</td>\n",
        "      <td> 23</td>\n",
        "      <td> 1</td>\n",
        "      <td> 1</td>\n",
        "      <td> 1</td>\n",
        "      <td> 1</td>\n",
        "      <td>  1</td>\n",
        "    </tr>\n",
        "    <tr>\n",
        "      <th>4</th>\n",
        "      <td> 52</td>\n",
        "      <td> 0</td>\n",
        "      <td> 0</td>\n",
        "      <td> 19</td>\n",
        "      <td> 0</td>\n",
        "      <td> 1</td>\n",
        "      <td> 0</td>\n",
        "      <td> 1</td>\n",
        "      <td>  3</td>\n",
        "    </tr>\n",
        "  </tbody>\n",
        "</table>\n",
        "<p>5 rows \u00d7 9 columns</p>\n",
        "</div>"
       ],
       "metadata": {},
       "output_type": "pyout",
       "prompt_number": 44,
       "text": [
        "   week  arrest  fin  age  race  wexp  mar  paro  prio\n",
        "0    20       1    0   27     1     0    0     1     3\n",
        "1    17       1    0   18     1     0    0     1     8\n",
        "2    25       1    0   19     0     1    0     1    13\n",
        "3    52       0    1   23     1     1    1     1     1\n",
        "4    52       0    0   19     0     1    0     1     3\n",
        "\n",
        "[5 rows x 9 columns]"
       ]
      }
     ],
     "prompt_number": 44
    },
    {
     "cell_type": "code",
     "collapsed": false,
     "input": [
      "from lifelines import AalenAdditiveFitter"
     ],
     "language": "python",
     "metadata": {},
     "outputs": [],
     "prompt_number": 45
    },
    {
     "cell_type": "code",
     "collapsed": false,
     "input": [
      "aaf = AalenAdditiveFitter()"
     ],
     "language": "python",
     "metadata": {},
     "outputs": [],
     "prompt_number": 46
    },
    {
     "cell_type": "code",
     "collapsed": false,
     "input": [
      "aaf.fit(df, duration_col='week', event_col='arrest')"
     ],
     "language": "python",
     "metadata": {},
     "outputs": [
      {
       "output_type": "stream",
       "stream": "stdout",
       "text": [
        "\r",
        " [-----------------100%-----------------] 114 of 114 complete in 0.1 sec"
       ]
      },
      {
       "output_type": "stream",
       "stream": "stdout",
       "text": [
        "\n"
       ]
      },
      {
       "metadata": {},
       "output_type": "pyout",
       "prompt_number": 47,
       "text": [
        "<lifelines.AalenAdditiveFitter: fitted with 432 observations, 318 censored>"
       ]
      }
     ],
     "prompt_number": 47
    },
    {
     "cell_type": "code",
     "collapsed": false,
     "input": [
      "aaf.plot()"
     ],
     "language": "python",
     "metadata": {},
     "outputs": [
      {
       "metadata": {},
       "output_type": "pyout",
       "prompt_number": 48,
       "text": [
        "<matplotlib.axes.AxesSubplot at 0x10fe5fbd0>"
       ]
      },
      {
       "metadata": {},
       "output_type": "display_data",
       "png": "[encoded data removed]",
       "text": [
        "<matplotlib.figure.Figure at 0x10efd4c10>"
       ]
      }
     ],
     "prompt_number": 48
    },
    {
     "cell_type": "code",
     "collapsed": false,
     "input": [
      "from lifelines import CoxPHFitter"
     ],
     "language": "python",
     "metadata": {},
     "outputs": [],
     "prompt_number": 49
    },
    {
     "cell_type": "code",
     "collapsed": false,
     "input": [
      "cf = CoxPHFitter()"
     ],
     "language": "python",
     "metadata": {},
     "outputs": [],
     "prompt_number": 50
    },
    {
     "cell_type": "code",
     "collapsed": false,
     "input": [
      "cf.fit(df, duration_col='week', event_col='arrest')"
     ],
     "language": "python",
     "metadata": {},
     "outputs": [
      {
       "metadata": {},
       "output_type": "pyout",
       "prompt_number": 51,
       "text": [
        "<lifelines.CoxPHFitter: fitted with 432 observations, 318 censored>"
       ]
      }
     ],
     "prompt_number": 51
    },
    {
     "cell_type": "code",
     "collapsed": false,
     "input": [
      "cf.summary()"
     ],
     "language": "python",
     "metadata": {},
     "outputs": [
      {
       "output_type": "stream",
       "stream": "stdout",
       "text": [
        "          coef  exp(coef)  se(coef)         z         p  lower 0.95  upper 0.95\n",
        "fin  -0.379022   0.684531  0.191364 -1.980629  0.047633   -0.754172   -0.003872\n",
        "age  -0.057246   0.944362  0.021983 -2.604155  0.009210   -0.100340   -0.014151\n",
        "race  0.314130   1.369067  0.308019  1.019839  0.307805   -0.289709    0.917969\n",
        "wexp -0.151115   0.859749  0.212125 -0.712386  0.476226   -0.566963    0.264733\n",
        "mar  -0.432783   0.648702  0.381797 -1.133541  0.256987   -1.181255    0.315690\n",
        "paro -0.084983   0.918528  0.195748 -0.434144  0.664184   -0.468726    0.298760\n",
        "prio  0.091112   1.095391  0.028630  3.182426  0.001460    0.034986    0.147237\n"
       ]
      }
     ],
     "prompt_number": 52
    },
    {
     "cell_type": "code",
     "collapsed": false,
     "input": [],
     "language": "python",
     "metadata": {},
     "outputs": []
    }
   ],
   "metadata": {}
  }
 ]
}