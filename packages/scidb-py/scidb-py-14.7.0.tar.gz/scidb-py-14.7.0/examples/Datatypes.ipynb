{
 "metadata": {
  "name": "",
  "signature": "sha256:fe616158114b90c27461b27e32ed33769810f66c9c1c92dd8300a371322c24eb"
 },
 "nbformat": 3,
 "nbformat_minor": 0,
 "worksheets": [
  {
   "cells": [
    {
     "cell_type": "markdown",
     "metadata": {},
     "source": [
      "This notebook enumerates the various schema corner cases possible in SciDBPy"
     ]
    },
    {
     "cell_type": "code",
     "collapsed": false,
     "input": [
      "from scidbpy import connect\n",
      "sdb = connect()\n",
      "from scidbpy.parse import _fmt"
     ],
     "language": "python",
     "metadata": {},
     "outputs": [],
     "prompt_number": 16
    },
    {
     "cell_type": "markdown",
     "metadata": {},
     "source": [
      "# Single attribute, non-nullable arrays"
     ]
    },
    {
     "cell_type": "code",
     "collapsed": false,
     "input": [
      "singles = {}\n",
      "idx = 0\n",
      "\n",
      "dtypes = 'int8 int16 int32 int64 uint8 uint16 uint32 uint64 float double datetime datetimetz bool string char'.split()\n",
      "vals = [-128, -2**15+2, -2**31+2, -2**63+2, 2**8-1, 2**16-1, 2**32-1, 2**63-1, 1.23, 1e100, \"'01/01/2001 12:23'\", \"'01/01/2001 12:23:01 +05:00'\", 'true', \"'test'\", \"'a'\"]\n",
      "\n",
      "def make(dtype, val):\n",
      "    return sdb.afl.build('<x:%s>[i=0:1,10,0]' % dtype, val)\n",
      "    \n",
      "def run(make):\n",
      "    global idx\n",
      "    for dtype, val in zip(dtypes, vals):\n",
      "        name = 'py_%i' % idx\n",
      "        idx += 1\n",
      "        try:\n",
      "            sdb.afl.remove(name).eval(store=False)\n",
      "        except:\n",
      "            pass\n",
      "        make(dtype, val).store(name).eval(store=False)\n",
      "        a = sdb.wrap_array(name)\n",
      "        print a\n",
      "        print 'Plaintext:', repr(sdb._scan_array(a.name))\n",
      "        print 'Binary   :', repr(sdb._scan_array(a.name, fmt=_fmt(a)))\n",
      "        print 'NumPy    :', a.toarray()\n",
      "        print '-----------'\n",
      "        #a.reap()\n",
      "\n",
      "run(make)"
     ],
     "language": "python",
     "metadata": {},
     "outputs": [
      {
       "output_type": "stream",
       "stream": "stdout",
       "text": [
        "SciDBArray('py_0<x:int8> [i=0:1,10,0]')\n",
        "Plaintext: '[(-128),(-128)]\\n'\n",
        "Binary   : "
       ]
      },
      {
       "output_type": "stream",
       "stream": "stdout",
       "text": [
        "'\\x80\\x80'\n",
        "NumPy    : "
       ]
      },
      {
       "output_type": "stream",
       "stream": "stdout",
       "text": [
        "[-128 -128]\n",
        "-----------\n",
        "SciDBArray('py_1<x:int16> [i=0:1,10,0]')"
       ]
      },
      {
       "output_type": "stream",
       "stream": "stdout",
       "text": [
        "\n",
        "Plaintext: "
       ]
      },
      {
       "output_type": "stream",
       "stream": "stdout",
       "text": [
        "'[(-32766),(-32766)]\\n'\n",
        "Binary   : '\\x02\\x80\\x02\\x80'\n",
        "NumPy    : "
       ]
      },
      {
       "output_type": "stream",
       "stream": "stdout",
       "text": [
        "[-32766 -32766]\n",
        "-----------\n",
        "SciDBArray('py_2<x:int32> [i=0:1,10,0]')"
       ]
      },
      {
       "output_type": "stream",
       "stream": "stdout",
       "text": [
        "\n",
        "Plaintext: "
       ]
      },
      {
       "output_type": "stream",
       "stream": "stdout",
       "text": [
        "'[(-2147483646),(-2147483646)]\\n'\n",
        "Binary   : "
       ]
      },
      {
       "output_type": "stream",
       "stream": "stdout",
       "text": [
        "'\\x02\\x00\\x00\\x80\\x02\\x00\\x00\\x80'\n",
        "NumPy    : "
       ]
      },
      {
       "output_type": "stream",
       "stream": "stdout",
       "text": [
        "[-2147483646 -2147483646]\n",
        "-----------\n",
        "SciDBArray('py_3<x:int64> [i=0:1,10,0]')"
       ]
      },
      {
       "output_type": "stream",
       "stream": "stdout",
       "text": [
        "\n",
        "Plaintext: "
       ]
      },
      {
       "output_type": "stream",
       "stream": "stdout",
       "text": [
        "'[(-9223372036854775806),(-9223372036854775806)]\\n'\n",
        "Binary   : "
       ]
      },
      {
       "output_type": "stream",
       "stream": "stdout",
       "text": [
        "'\\x02\\x00\\x00\\x00\\x00\\x00\\x00\\x80\\x02\\x00\\x00\\x00\\x00\\x00\\x00\\x80'\n",
        "NumPy    : "
       ]
      },
      {
       "output_type": "stream",
       "stream": "stdout",
       "text": [
        "[-9223372036854775806 -9223372036854775806]\n",
        "-----------\n",
        "SciDBArray('py_4<x:uint8> [i=0:1,10,0]')"
       ]
      },
      {
       "output_type": "stream",
       "stream": "stdout",
       "text": [
        "\n",
        "Plaintext: '[(255),(255)]\\n'\n",
        "Binary   : "
       ]
      },
      {
       "output_type": "stream",
       "stream": "stdout",
       "text": [
        "'\\xff\\xff'\n",
        "NumPy    : "
       ]
      },
      {
       "output_type": "stream",
       "stream": "stdout",
       "text": [
        "[255 255]\n",
        "-----------\n",
        "SciDBArray('py_5<x:uint16> [i=0:1,10,0]')"
       ]
      },
      {
       "output_type": "stream",
       "stream": "stdout",
       "text": [
        "\n",
        "Plaintext: '[(65535),(65535)]\\n'\n",
        "Binary   : "
       ]
      },
      {
       "output_type": "stream",
       "stream": "stdout",
       "text": [
        "'\\xff\\xff\\xff\\xff'\n",
        "NumPy    : "
       ]
      },
      {
       "output_type": "stream",
       "stream": "stdout",
       "text": [
        "[65535 65535]\n",
        "-----------\n",
        "SciDBArray('py_6<x:uint32> [i=0:1,10,0]')"
       ]
      },
      {
       "output_type": "stream",
       "stream": "stdout",
       "text": [
        "\n",
        "Plaintext: '[(4294967295),(4294967295)]\\n'\n",
        "Binary   : "
       ]
      },
      {
       "output_type": "stream",
       "stream": "stdout",
       "text": [
        "'\\xff\\xff\\xff\\xff\\xff\\xff\\xff\\xff'\n",
        "NumPy    : "
       ]
      },
      {
       "output_type": "stream",
       "stream": "stdout",
       "text": [
        "[4294967295 4294967295]\n",
        "-----------\n",
        "SciDBArray('py_7<x:uint64> [i=0:1,10,0]')"
       ]
      },
      {
       "output_type": "stream",
       "stream": "stdout",
       "text": [
        "\n",
        "Plaintext: '[(9223372036854775807),(9223372036854775807)]\\n'\n",
        "Binary   : "
       ]
      },
      {
       "output_type": "stream",
       "stream": "stdout",
       "text": [
        "'\\xff\\xff\\xff\\xff\\xff\\xff\\xff\\x7f\\xff\\xff\\xff\\xff\\xff\\xff\\xff\\x7f'\n",
        "NumPy    : "
       ]
      },
      {
       "output_type": "stream",
       "stream": "stdout",
       "text": [
        "[9223372036854775807 9223372036854775807]\n",
        "-----------\n",
        "SciDBArray('py_8<x:float> [i=0:1,10,0]')"
       ]
      },
      {
       "output_type": "stream",
       "stream": "stdout",
       "text": [
        "\n",
        "Plaintext: "
       ]
      },
      {
       "output_type": "stream",
       "stream": "stdout",
       "text": [
        "'[(1.23),(1.23)]\\n'\n",
        "Binary   : "
       ]
      },
      {
       "output_type": "stream",
       "stream": "stdout",
       "text": [
        "'\\xa4p\\x9d?\\xa4p\\x9d?'\n",
        "NumPy    : "
       ]
      },
      {
       "output_type": "stream",
       "stream": "stdout",
       "text": [
        "[ 1.23000002  1.23000002]\n",
        "-----------\n",
        "SciDBArray('py_9<x:double> [i=0:1,10,0]')"
       ]
      },
      {
       "output_type": "stream",
       "stream": "stdout",
       "text": [
        "\n",
        "Plaintext: "
       ]
      },
      {
       "output_type": "stream",
       "stream": "stdout",
       "text": [
        "'[(1e+100),(1e+100)]\\n'\n",
        "Binary   : "
       ]
      },
      {
       "output_type": "stream",
       "stream": "stdout",
       "text": [
        "'}\\xc3\\x94%\\xadI\\xb2T}\\xc3\\x94%\\xadI\\xb2T'\n",
        "NumPy    : "
       ]
      },
      {
       "output_type": "stream",
       "stream": "stdout",
       "text": [
        "[  1.00000000e+100   1.00000000e+100]\n",
        "-----------\n",
        "SciDBArray('py_10<x:datetime> [i=0:1,10,0]')"
       ]
      },
      {
       "output_type": "stream",
       "stream": "stdout",
       "text": [
        "\n",
        "Plaintext: "
       ]
      },
      {
       "output_type": "stream",
       "stream": "stdout",
       "text": [
        "\"[('2001-01-01 12:23:00'),('2001-01-01 12:23:00')]\\n\"\n",
        "Binary   : '\\xa4vP:\\x00\\x00\\x00\\x00\\xa4vP:\\x00\\x00\\x00\\x00'\n",
        "NumPy    : "
       ]
      },
      {
       "output_type": "stream",
       "stream": "stdout",
       "text": [
        "['2001-01-01T07:23:00-0500' '2001-01-01T07:23:00-0500']\n",
        "-----------\n",
        "SciDBArray('py_11<x:datetimetz> [i=0:1,10,0]')"
       ]
      },
      {
       "output_type": "stream",
       "stream": "stdout",
       "text": [
        "\n",
        "Plaintext: \"[('2001-01-01 12:23:01 +05:00'),('2001-01-01 12:23:01 +05:00')]\\n\"\n",
        "Binary   : "
       ]
      },
      {
       "output_type": "stream",
       "stream": "stdout",
       "text": [
        "'\\xa5vP:\\x00\\x00\\x00\\x00PF\\x00\\x00\\x00\\x00\\x00\\x00\\xa5vP:\\x00\\x00\\x00\\x00PF\\x00\\x00\\x00\\x00\\x00\\x00'\n",
        "NumPy    : "
       ]
      },
      {
       "output_type": "stream",
       "stream": "stdout",
       "text": [
        "['2001-01-01T02:23:01-0500' '2001-01-01T02:23:01-0500']\n",
        "-----------\n",
        "SciDBArray('py_12<x:bool> [i=0:1,10,0]')"
       ]
      },
      {
       "output_type": "stream",
       "stream": "stdout",
       "text": [
        "\n",
        "Plaintext: '[(true),(true)]\\n'\n",
        "Binary   : "
       ]
      },
      {
       "output_type": "stream",
       "stream": "stdout",
       "text": [
        "'\\x01\\x01'\n",
        "NumPy    : "
       ]
      },
      {
       "output_type": "stream",
       "stream": "stdout",
       "text": [
        "[ True  True]\n",
        "-----------\n",
        "SciDBArray('py_13<x:string> [i=0:1,10,0]')"
       ]
      },
      {
       "output_type": "stream",
       "stream": "stdout",
       "text": [
        "\n",
        "Plaintext: \"[('test'),('test')]\\n\"\n",
        "Binary   : "
       ]
      },
      {
       "output_type": "stream",
       "stream": "stdout",
       "text": [
        "'\\x05\\x00\\x00\\x00test\\x00\\x05\\x00\\x00\\x00test\\x00'\n",
        "NumPy    : "
       ]
      },
      {
       "output_type": "stream",
       "stream": "stdout",
       "text": [
        "[u'test' u'test']\n",
        "-----------\n",
        "SciDBArray('py_14<x:char> [i=0:1,10,0]')"
       ]
      },
      {
       "output_type": "stream",
       "stream": "stdout",
       "text": [
        "\n",
        "Plaintext: "
       ]
      },
      {
       "output_type": "stream",
       "stream": "stdout",
       "text": [
        "\"[('a'),('a')]\\n\"\n",
        "Binary   : 'aa'\n",
        "NumPy    : "
       ]
      },
      {
       "output_type": "stream",
       "stream": "stdout",
       "text": [
        "['a' 'a']\n",
        "-----------\n"
       ]
      }
     ],
     "prompt_number": 17
    },
    {
     "cell_type": "markdown",
     "metadata": {},
     "source": [
      "# Single attribute nullable arrays"
     ]
    },
    {
     "cell_type": "code",
     "collapsed": false,
     "input": [
      "def make(dtype, val):\n",
      "    return sdb.afl.build('<x:%s NULL>[i=0:1,10,0]' % dtype, 'iif(i > 0, %s, null)' % val)\n",
      "\n",
      "run(make)"
     ],
     "language": "python",
     "metadata": {},
     "outputs": [
      {
       "output_type": "stream",
       "stream": "stdout",
       "text": [
        "SciDBArray('py_15<x:int8 NULL DEFAULT null> [i=0:1,10,0]')\n",
        "Plaintext: '[(null),(-128)]\\n'\n",
        "Binary   : "
       ]
      },
      {
       "output_type": "stream",
       "stream": "stdout",
       "text": [
        "'\\x00\\x00\\xff\\x80'\n",
        "NumPy    : "
       ]
      },
      {
       "output_type": "stream",
       "stream": "stdout",
       "text": [
        "[  nan -128.]\n",
        "-----------\n",
        "SciDBArray('py_16<x:int16 NULL DEFAULT null> [i=0:1,10,0]')"
       ]
      },
      {
       "output_type": "stream",
       "stream": "stdout",
       "text": [
        "\n",
        "Plaintext: '[(null),(-32766)]\\n'\n",
        "Binary   : "
       ]
      },
      {
       "output_type": "stream",
       "stream": "stdout",
       "text": [
        "'\\x00\\x00\\x00\\xff\\x02\\x80'\n",
        "NumPy    : "
       ]
      },
      {
       "output_type": "stream",
       "stream": "stdout",
       "text": [
        "[    nan -32766.]\n",
        "-----------\n",
        "SciDBArray('py_17<x:int32 NULL DEFAULT null> [i=0:1,10,0]')"
       ]
      },
      {
       "output_type": "stream",
       "stream": "stdout",
       "text": [
        "\n",
        "Plaintext: "
       ]
      },
      {
       "output_type": "stream",
       "stream": "stdout",
       "text": [
        "'[(null),(-2147483646)]\\n'\n",
        "Binary   : "
       ]
      },
      {
       "output_type": "stream",
       "stream": "stdout",
       "text": [
        "'\\x00\\x00\\x00\\x00\\x00\\xff\\x02\\x00\\x00\\x80'\n",
        "NumPy    : "
       ]
      },
      {
       "output_type": "stream",
       "stream": "stdout",
       "text": [
        "[             nan  -2.14748365e+09]\n",
        "-----------\n",
        "SciDBArray('py_18<x:int64 NULL DEFAULT null> [i=0:1,10,0]')"
       ]
      },
      {
       "output_type": "stream",
       "stream": "stdout",
       "text": [
        "\n",
        "Plaintext: "
       ]
      },
      {
       "output_type": "stream",
       "stream": "stdout",
       "text": [
        "'[(null),(-9223372036854775806)]\\n'\n",
        "Binary   : "
       ]
      },
      {
       "output_type": "stream",
       "stream": "stdout",
       "text": [
        "'\\x00\\x00\\x00\\x00\\x00\\x00\\x00\\x00\\x00\\xff\\x02\\x00\\x00\\x00\\x00\\x00\\x00\\x80'\n",
        "NumPy    : "
       ]
      },
      {
       "output_type": "stream",
       "stream": "stdout",
       "text": [
        "[             nan  -9.22337204e+18]\n",
        "-----------\n",
        "SciDBArray('py_19<x:uint8 NULL DEFAULT null> [i=0:1,10,0]')"
       ]
      },
      {
       "output_type": "stream",
       "stream": "stdout",
       "text": [
        "\n",
        "Plaintext: '[(null),(255)]\\n'\n",
        "Binary   : "
       ]
      },
      {
       "output_type": "stream",
       "stream": "stdout",
       "text": [
        "'\\x00\\x00\\xff\\xff'\n",
        "NumPy    : "
       ]
      },
      {
       "output_type": "stream",
       "stream": "stdout",
       "text": [
        "[  nan  255.]\n",
        "-----------\n",
        "SciDBArray('py_20<x:uint16 NULL DEFAULT null> [i=0:1,10,0]')"
       ]
      },
      {
       "output_type": "stream",
       "stream": "stdout",
       "text": [
        "\n",
        "Plaintext: "
       ]
      },
      {
       "output_type": "stream",
       "stream": "stdout",
       "text": [
        "'[(null),(65535)]\\n'\n",
        "Binary   : "
       ]
      },
      {
       "output_type": "stream",
       "stream": "stdout",
       "text": [
        "'\\x00\\x00\\x00\\xff\\xff\\xff'\n",
        "NumPy    : "
       ]
      },
      {
       "output_type": "stream",
       "stream": "stdout",
       "text": [
        "[    nan  65535.]\n",
        "-----------\n",
        "SciDBArray('py_21<x:uint32 NULL DEFAULT null> [i=0:1,10,0]')"
       ]
      },
      {
       "output_type": "stream",
       "stream": "stdout",
       "text": [
        "\n",
        "Plaintext: '[(null),(4294967295)]\\n'\n",
        "Binary   : "
       ]
      },
      {
       "output_type": "stream",
       "stream": "stdout",
       "text": [
        "'\\x00\\x00\\x00\\x00\\x00\\xff\\xff\\xff\\xff\\xff'\n",
        "NumPy    : "
       ]
      },
      {
       "output_type": "stream",
       "stream": "stdout",
       "text": [
        "[             nan   4.29496730e+09]\n",
        "-----------\n",
        "SciDBArray('py_22<x:uint64 NULL DEFAULT null> [i=0:1,10,0]')"
       ]
      },
      {
       "output_type": "stream",
       "stream": "stdout",
       "text": [
        "\n",
        "Plaintext: "
       ]
      },
      {
       "output_type": "stream",
       "stream": "stdout",
       "text": [
        "'[(null),(9223372036854775807)]\\n'\n",
        "Binary   : '\\x00\\x00\\x00\\x00\\x00\\x00\\x00\\x00\\x00\\xff\\xff\\xff\\xff\\xff\\xff\\xff\\xff\\x7f'\n",
        "NumPy    : "
       ]
      },
      {
       "output_type": "stream",
       "stream": "stdout",
       "text": [
        "[             nan   9.22337204e+18]\n",
        "-----------\n",
        "SciDBArray('py_23<x:float NULL DEFAULT null> [i=0:1,10,0]')"
       ]
      },
      {
       "output_type": "stream",
       "stream": "stdout",
       "text": [
        "\n",
        "Plaintext: '[(null),(1.23)]\\n'\n",
        "Binary   : "
       ]
      },
      {
       "output_type": "stream",
       "stream": "stdout",
       "text": [
        "'\\x00\\x00\\x00\\x00\\x00\\xff\\xa4p\\x9d?'\n",
        "NumPy    : "
       ]
      },
      {
       "output_type": "stream",
       "stream": "stdout",
       "text": [
        "[        nan  1.23000002]\n",
        "-----------\n",
        "SciDBArray('py_24<x:double NULL DEFAULT null> [i=0:1,10,0]')"
       ]
      },
      {
       "output_type": "stream",
       "stream": "stdout",
       "text": [
        "\n",
        "Plaintext: '[(null),(1e+100)]\\n'\n",
        "Binary   : "
       ]
      },
      {
       "output_type": "stream",
       "stream": "stdout",
       "text": [
        "'\\x00\\x00\\x00\\x00\\x00\\x00\\x00\\x00\\x00\\xff}\\xc3\\x94%\\xadI\\xb2T'\n",
        "NumPy    : "
       ]
      },
      {
       "output_type": "stream",
       "stream": "stdout",
       "text": [
        "[              nan   1.00000000e+100]\n",
        "-----------\n",
        "SciDBArray('py_25<x:datetime NULL DEFAULT null> [i=0:1,10,0]')"
       ]
      },
      {
       "output_type": "stream",
       "stream": "stdout",
       "text": [
        "\n",
        "Plaintext: \"[(null),('2001-01-01 12:23:00')]\\n\"\n",
        "Binary   : "
       ]
      },
      {
       "output_type": "stream",
       "stream": "stdout",
       "text": [
        "'\\x00\\x00\\x00\\x00\\x00\\x00\\x00\\x00\\x00\\xff\\xa4vP:\\x00\\x00\\x00\\x00'\n",
        "NumPy    : "
       ]
      },
      {
       "output_type": "stream",
       "stream": "stdout",
       "text": [
        "['NaT' '2001-01-01T07:23:00-0500']\n",
        "-----------\n",
        "SciDBArray('py_26<x:datetimetz NULL DEFAULT null> [i=0:1,10,0]')"
       ]
      },
      {
       "output_type": "stream",
       "stream": "stdout",
       "text": [
        "\n",
        "Plaintext: \"[(null),('2001-01-01 12:23:01 +05:00')]\\n\"\n",
        "Binary   : "
       ]
      },
      {
       "output_type": "stream",
       "stream": "stdout",
       "text": [
        "'\\x00\\x00\\x00\\x00\\x00\\x00\\x00\\x00\\x00\\x00\\x00\\x00\\x00\\x00\\x00\\x00\\x00\\xff\\xa5vP:\\x00\\x00\\x00\\x00PF\\x00\\x00\\x00\\x00\\x00\\x00'\n",
        "NumPy    : "
       ]
      },
      {
       "output_type": "stream",
       "stream": "stdout",
       "text": [
        "['NaT' '2001-01-01T02:23:01-0500']\n",
        "-----------\n",
        "SciDBArray('py_27<x:bool NULL DEFAULT null> [i=0:1,10,0]')"
       ]
      },
      {
       "output_type": "stream",
       "stream": "stdout",
       "text": [
        "\n",
        "Plaintext: "
       ]
      },
      {
       "output_type": "stream",
       "stream": "stdout",
       "text": [
        "'[(null),(true)]\\n'\n",
        "Binary   : '\\x00\\x00\\xff\\x01'\n",
        "NumPy    : "
       ]
      },
      {
       "output_type": "stream",
       "stream": "stdout",
       "text": [
        "[ nan   1.]\n",
        "-----------\n",
        "SciDBArray('py_28<x:string NULL DEFAULT null> [i=0:1,10,0]')"
       ]
      },
      {
       "output_type": "stream",
       "stream": "stdout",
       "text": [
        "\n",
        "Plaintext: "
       ]
      },
      {
       "output_type": "stream",
       "stream": "stdout",
       "text": [
        "\"[(null),('test')]\\n\"\n",
        "Binary   : "
       ]
      },
      {
       "output_type": "stream",
       "stream": "stdout",
       "text": [
        "'\\x00\\x00\\x00\\x00\\x00\\xff\\x05\\x00\\x00\\x00test\\x00'\n",
        "NumPy    : "
       ]
      },
      {
       "output_type": "stream",
       "stream": "stdout",
       "text": [
        "[None u'test']\n",
        "-----------\n",
        "SciDBArray('py_29<x:char NULL DEFAULT null> [i=0:1,10,0]')"
       ]
      },
      {
       "output_type": "stream",
       "stream": "stdout",
       "text": [
        "\n",
        "Plaintext: "
       ]
      },
      {
       "output_type": "stream",
       "stream": "stdout",
       "text": [
        "\"[(null),('a')]\\n\"\n",
        "Binary   : "
       ]
      },
      {
       "output_type": "stream",
       "stream": "stdout",
       "text": [
        "'\\x00\\x00\\xffa'\n",
        "NumPy    : "
       ]
      },
      {
       "output_type": "stream",
       "stream": "stdout",
       "text": [
        "['' 'a']\n",
        "-----------\n"
       ]
      }
     ],
     "prompt_number": 18
    },
    {
     "cell_type": "markdown",
     "metadata": {},
     "source": [
      "# Single attribute non-nullable arrays with empty cells"
     ]
    },
    {
     "cell_type": "code",
     "collapsed": false,
     "input": [
      "def make(dtype, val):\n",
      "    result = sdb.afl.build('<x:%s>[i=0:1,10,0]' % dtype, val)\n",
      "    result = result.redimension('<x: %s> [i=0:2,10,0]' % dtype)\n",
      "    return result\n",
      "\n",
      "run(make)"
     ],
     "language": "python",
     "metadata": {},
     "outputs": [
      {
       "output_type": "stream",
       "stream": "stdout",
       "text": [
        "SciDBArray('py_30<x:int8> [i=0:2,10,0]')\n",
        "Plaintext: "
       ]
      },
      {
       "output_type": "stream",
       "stream": "stdout",
       "text": [
        "'[(-128),(-128),()]\\n'\n",
        "Binary   : "
       ]
      },
      {
       "output_type": "stream",
       "stream": "stdout",
       "text": [
        "'\\x80\\x80'\n",
        "NumPy    : "
       ]
      },
      {
       "output_type": "stream",
       "stream": "stdout",
       "text": [
        "[-128 -128    0]\n",
        "-----------\n",
        "SciDBArray('py_31<x:int16> [i=0:2,10,0]')"
       ]
      },
      {
       "output_type": "stream",
       "stream": "stdout",
       "text": [
        "\n",
        "Plaintext: "
       ]
      },
      {
       "output_type": "stream",
       "stream": "stdout",
       "text": [
        "'[(-32766),(-32766),()]\\n'\n",
        "Binary   : "
       ]
      },
      {
       "output_type": "stream",
       "stream": "stdout",
       "text": [
        "'\\x02\\x80\\x02\\x80'\n",
        "NumPy    : "
       ]
      },
      {
       "output_type": "stream",
       "stream": "stdout",
       "text": [
        "[-32766 -32766      0]\n",
        "-----------\n",
        "SciDBArray('py_32<x:int32> [i=0:2,10,0]')"
       ]
      },
      {
       "output_type": "stream",
       "stream": "stdout",
       "text": [
        "\n",
        "Plaintext: "
       ]
      },
      {
       "output_type": "stream",
       "stream": "stdout",
       "text": [
        "'[(-2147483646),(-2147483646),()]\\n'\n",
        "Binary   : "
       ]
      },
      {
       "output_type": "stream",
       "stream": "stdout",
       "text": [
        "'\\x02\\x00\\x00\\x80\\x02\\x00\\x00\\x80'\n",
        "NumPy    : "
       ]
      },
      {
       "output_type": "stream",
       "stream": "stdout",
       "text": [
        "[-2147483646 -2147483646           0]\n",
        "-----------\n",
        "SciDBArray('py_33<x:int64> [i=0:2,10,0]')"
       ]
      },
      {
       "output_type": "stream",
       "stream": "stdout",
       "text": [
        "\n",
        "Plaintext: "
       ]
      },
      {
       "output_type": "stream",
       "stream": "stdout",
       "text": [
        "'[(-9223372036854775806),(-9223372036854775806),()]\\n'\n",
        "Binary   : "
       ]
      },
      {
       "output_type": "stream",
       "stream": "stdout",
       "text": [
        "'\\x02\\x00\\x00\\x00\\x00\\x00\\x00\\x80\\x02\\x00\\x00\\x00\\x00\\x00\\x00\\x80'\n",
        "NumPy    : "
       ]
      },
      {
       "output_type": "stream",
       "stream": "stdout",
       "text": [
        "[-9223372036854775806 -9223372036854775806                    0]\n",
        "-----------\n",
        "SciDBArray('py_34<x:uint8> [i=0:2,10,0]')"
       ]
      },
      {
       "output_type": "stream",
       "stream": "stdout",
       "text": [
        "\n",
        "Plaintext: '[(255),(255),()]\\n'\n",
        "Binary   : "
       ]
      },
      {
       "output_type": "stream",
       "stream": "stdout",
       "text": [
        "'\\xff\\xff'\n",
        "NumPy    : "
       ]
      },
      {
       "output_type": "stream",
       "stream": "stdout",
       "text": [
        "[255 255   0]\n",
        "-----------\n",
        "SciDBArray('py_35<x:uint16> [i=0:2,10,0]')"
       ]
      },
      {
       "output_type": "stream",
       "stream": "stdout",
       "text": [
        "\n",
        "Plaintext: '[(65535),(65535),()]\\n'\n",
        "Binary   : "
       ]
      },
      {
       "output_type": "stream",
       "stream": "stdout",
       "text": [
        "'\\xff\\xff\\xff\\xff'\n",
        "NumPy    : "
       ]
      },
      {
       "output_type": "stream",
       "stream": "stdout",
       "text": [
        "[65535 65535     0]\n",
        "-----------\n",
        "SciDBArray('py_36<x:uint32> [i=0:2,10,0]')"
       ]
      },
      {
       "output_type": "stream",
       "stream": "stdout",
       "text": [
        "\n",
        "Plaintext: '[(4294967295),(4294967295),()]\\n'\n",
        "Binary   : "
       ]
      },
      {
       "output_type": "stream",
       "stream": "stdout",
       "text": [
        "'\\xff\\xff\\xff\\xff\\xff\\xff\\xff\\xff'\n",
        "NumPy    : "
       ]
      },
      {
       "output_type": "stream",
       "stream": "stdout",
       "text": [
        "[4294967295 4294967295          0]\n",
        "-----------\n",
        "SciDBArray('py_37<x:uint64> [i=0:2,10,0]')"
       ]
      },
      {
       "output_type": "stream",
       "stream": "stdout",
       "text": [
        "\n",
        "Plaintext: '[(9223372036854775807),(9223372036854775807),()]\\n'\n",
        "Binary   : "
       ]
      },
      {
       "output_type": "stream",
       "stream": "stdout",
       "text": [
        "'\\xff\\xff\\xff\\xff\\xff\\xff\\xff\\x7f\\xff\\xff\\xff\\xff\\xff\\xff\\xff\\x7f'\n",
        "NumPy    : "
       ]
      },
      {
       "output_type": "stream",
       "stream": "stdout",
       "text": [
        "[9223372036854775807 9223372036854775807                   0]\n",
        "-----------\n",
        "SciDBArray('py_38<x:float> [i=0:2,10,0]')"
       ]
      },
      {
       "output_type": "stream",
       "stream": "stdout",
       "text": [
        "\n",
        "Plaintext: '[(1.23),(1.23),()]\\n'\n",
        "Binary   : "
       ]
      },
      {
       "output_type": "stream",
       "stream": "stdout",
       "text": [
        "'\\xa4p\\x9d?\\xa4p\\x9d?'\n",
        "NumPy    : "
       ]
      },
      {
       "output_type": "stream",
       "stream": "stdout",
       "text": [
        "[ 1.23000002  1.23000002  0.        ]\n",
        "-----------\n",
        "SciDBArray('py_39<x:double> [i=0:2,10,0]')"
       ]
      },
      {
       "output_type": "stream",
       "stream": "stdout",
       "text": [
        "\n",
        "Plaintext: '[(1e+100),(1e+100),()]\\n'\n",
        "Binary   : "
       ]
      },
      {
       "output_type": "stream",
       "stream": "stdout",
       "text": [
        "'}\\xc3\\x94%\\xadI\\xb2T}\\xc3\\x94%\\xadI\\xb2T'\n",
        "NumPy    : "
       ]
      },
      {
       "output_type": "stream",
       "stream": "stdout",
       "text": [
        "[  1.00000000e+100   1.00000000e+100   0.00000000e+000]\n",
        "-----------\n",
        "SciDBArray('py_40<x:datetime> [i=0:2,10,0]')"
       ]
      },
      {
       "output_type": "stream",
       "stream": "stdout",
       "text": [
        "\n",
        "Plaintext: "
       ]
      },
      {
       "output_type": "stream",
       "stream": "stdout",
       "text": [
        "\"[('2001-01-01 12:23:00'),('2001-01-01 12:23:00'),()]\\n\"\n",
        "Binary   : "
       ]
      },
      {
       "output_type": "stream",
       "stream": "stdout",
       "text": [
        "'\\xa4vP:\\x00\\x00\\x00\\x00\\xa4vP:\\x00\\x00\\x00\\x00'\n",
        "NumPy    : "
       ]
      },
      {
       "output_type": "stream",
       "stream": "stdout",
       "text": [
        "['2001-01-01T07:23:00-0500' '2001-01-01T07:23:00-0500'\n",
        " '1969-12-31T19:00:00-0500']\n",
        "-----------\n",
        "SciDBArray('py_41<x:datetimetz> [i=0:2,10,0]')"
       ]
      },
      {
       "output_type": "stream",
       "stream": "stdout",
       "text": [
        "\n",
        "Plaintext: \"[('2001-01-01 12:23:01 +05:00'),('2001-01-01 12:23:01 +05:00'),()]\\n\"\n",
        "Binary   : "
       ]
      },
      {
       "output_type": "stream",
       "stream": "stdout",
       "text": [
        "'\\xa5vP:\\x00\\x00\\x00\\x00PF\\x00\\x00\\x00\\x00\\x00\\x00\\xa5vP:\\x00\\x00\\x00\\x00PF\\x00\\x00\\x00\\x00\\x00\\x00'\n",
        "NumPy    : "
       ]
      },
      {
       "output_type": "stream",
       "stream": "stdout",
       "text": [
        "['2001-01-01T02:23:01-0500' '2001-01-01T02:23:01-0500'\n",
        " '1969-12-31T19:00:00-0500']\n",
        "-----------\n",
        "SciDBArray('py_42<x:bool> [i=0:2,10,0]')"
       ]
      },
      {
       "output_type": "stream",
       "stream": "stdout",
       "text": [
        "\n",
        "Plaintext: '[(true),(true),()]\\n'\n",
        "Binary   : "
       ]
      },
      {
       "output_type": "stream",
       "stream": "stdout",
       "text": [
        "'\\x01\\x01'\n",
        "NumPy    : "
       ]
      },
      {
       "output_type": "stream",
       "stream": "stdout",
       "text": [
        "[ True  True False]\n",
        "-----------\n",
        "SciDBArray('py_43<x:string> [i=0:2,10,0]')"
       ]
      },
      {
       "output_type": "stream",
       "stream": "stdout",
       "text": [
        "\n",
        "Plaintext: "
       ]
      },
      {
       "output_type": "stream",
       "stream": "stdout",
       "text": [
        "\"[('test'),('test'),()]\\n\"\n",
        "Binary   : "
       ]
      },
      {
       "output_type": "stream",
       "stream": "stdout",
       "text": [
        "'\\x05\\x00\\x00\\x00test\\x00\\x05\\x00\\x00\\x00test\\x00'\n",
        "NumPy    : "
       ]
      },
      {
       "output_type": "stream",
       "stream": "stdout",
       "text": [
        "[u'test' u'test' 0]\n",
        "-----------\n",
        "SciDBArray('py_44<x:char> [i=0:2,10,0]')"
       ]
      },
      {
       "output_type": "stream",
       "stream": "stdout",
       "text": [
        "\n",
        "Plaintext: "
       ]
      },
      {
       "output_type": "stream",
       "stream": "stdout",
       "text": [
        "\"[('a'),('a'),()]\\n\"\n",
        "Binary   : 'aa'\n",
        "NumPy    : "
       ]
      },
      {
       "output_type": "stream",
       "stream": "stdout",
       "text": [
        "['a' 'a' '']\n",
        "-----------\n"
       ]
      }
     ],
     "prompt_number": 19
    },
    {
     "cell_type": "markdown",
     "metadata": {},
     "source": [
      "# Single attribute nullable arrays with empty cells"
     ]
    },
    {
     "cell_type": "code",
     "collapsed": false,
     "input": [
      "def make(dtype, val):\n",
      "    result = sdb.afl.build('<x:%s NULL>[i=0:1,10,0]' % dtype, 'iif(i > 0, %s, null)' % val)\n",
      "    result = result.redimension('<x: %s NULL> [i=0:2,10,0]' % dtype)\n",
      "    return result\n",
      "\n",
      "run(make)"
     ],
     "language": "python",
     "metadata": {},
     "outputs": [
      {
       "output_type": "stream",
       "stream": "stdout",
       "text": [
        "SciDBArray('py_45<x:int8 NULL DEFAULT null> [i=0:2,10,0]')\n",
        "Plaintext: '[(null),(-128),()]\\n'\n",
        "Binary   : "
       ]
      },
      {
       "output_type": "stream",
       "stream": "stdout",
       "text": [
        "'\\x00\\x00\\xff\\x80'\n",
        "NumPy    : "
       ]
      },
      {
       "output_type": "stream",
       "stream": "stdout",
       "text": [
        "[  nan -128.    0.]\n",
        "-----------\n",
        "SciDBArray('py_46<x:int16 NULL DEFAULT null> [i=0:2,10,0]')"
       ]
      },
      {
       "output_type": "stream",
       "stream": "stdout",
       "text": [
        "\n",
        "Plaintext: "
       ]
      },
      {
       "output_type": "stream",
       "stream": "stdout",
       "text": [
        "'[(null),(-32766),()]\\n'\n",
        "Binary   : '\\x00\\x00\\x00\\xff\\x02\\x80'\n",
        "NumPy    : "
       ]
      },
      {
       "output_type": "stream",
       "stream": "stdout",
       "text": [
        "[    nan -32766.      0.]\n",
        "-----------\n",
        "SciDBArray('py_47<x:int32 NULL DEFAULT null> [i=0:2,10,0]')"
       ]
      },
      {
       "output_type": "stream",
       "stream": "stdout",
       "text": [
        "\n",
        "Plaintext: '[(null),(-2147483646),()]\\n'\n",
        "Binary   : "
       ]
      },
      {
       "output_type": "stream",
       "stream": "stdout",
       "text": [
        "'\\x00\\x00\\x00\\x00\\x00\\xff\\x02\\x00\\x00\\x80'\n",
        "NumPy    : "
       ]
      },
      {
       "output_type": "stream",
       "stream": "stdout",
       "text": [
        "[             nan  -2.14748365e+09   0.00000000e+00]\n",
        "-----------\n",
        "SciDBArray('py_48<x:int64 NULL DEFAULT null> [i=0:2,10,0]')"
       ]
      },
      {
       "output_type": "stream",
       "stream": "stdout",
       "text": [
        "\n",
        "Plaintext: '[(null),(-9223372036854775806),()]\\n'\n",
        "Binary   : "
       ]
      },
      {
       "output_type": "stream",
       "stream": "stdout",
       "text": [
        "'\\x00\\x00\\x00\\x00\\x00\\x00\\x00\\x00\\x00\\xff\\x02\\x00\\x00\\x00\\x00\\x00\\x00\\x80'\n",
        "NumPy    : "
       ]
      },
      {
       "output_type": "stream",
       "stream": "stdout",
       "text": [
        "[             nan  -9.22337204e+18   0.00000000e+00]\n",
        "-----------\n",
        "SciDBArray('py_49<x:uint8 NULL DEFAULT null> [i=0:2,10,0]')"
       ]
      },
      {
       "output_type": "stream",
       "stream": "stdout",
       "text": [
        "\n",
        "Plaintext: '[(null),(255),()]\\n'\n",
        "Binary   : "
       ]
      },
      {
       "output_type": "stream",
       "stream": "stdout",
       "text": [
        "'\\x00\\x00\\xff\\xff'\n",
        "NumPy    : "
       ]
      },
      {
       "output_type": "stream",
       "stream": "stdout",
       "text": [
        "[  nan  255.    0.]\n",
        "-----------\n",
        "SciDBArray('py_50<x:uint16 NULL DEFAULT null> [i=0:2,10,0]')"
       ]
      },
      {
       "output_type": "stream",
       "stream": "stdout",
       "text": [
        "\n",
        "Plaintext: '[(null),(65535),()]\\n'\n",
        "Binary   : "
       ]
      },
      {
       "output_type": "stream",
       "stream": "stdout",
       "text": [
        "'\\x00\\x00\\x00\\xff\\xff\\xff'\n",
        "NumPy    : "
       ]
      },
      {
       "output_type": "stream",
       "stream": "stdout",
       "text": [
        "[    nan  65535.      0.]\n",
        "-----------\n",
        "SciDBArray('py_51<x:uint32 NULL DEFAULT null> [i=0:2,10,0]')"
       ]
      },
      {
       "output_type": "stream",
       "stream": "stdout",
       "text": [
        "\n",
        "Plaintext: '[(null),(4294967295),()]\\n'\n",
        "Binary   : "
       ]
      },
      {
       "output_type": "stream",
       "stream": "stdout",
       "text": [
        "'\\x00\\x00\\x00\\x00\\x00\\xff\\xff\\xff\\xff\\xff'\n",
        "NumPy    : "
       ]
      },
      {
       "output_type": "stream",
       "stream": "stdout",
       "text": [
        "[             nan   4.29496730e+09   0.00000000e+00]\n",
        "-----------\n",
        "SciDBArray('py_52<x:uint64 NULL DEFAULT null> [i=0:2,10,0]')"
       ]
      },
      {
       "output_type": "stream",
       "stream": "stdout",
       "text": [
        "\n",
        "Plaintext: '[(null),(9223372036854775807),()]\\n'\n",
        "Binary   : "
       ]
      },
      {
       "output_type": "stream",
       "stream": "stdout",
       "text": [
        "'\\x00\\x00\\x00\\x00\\x00\\x00\\x00\\x00\\x00\\xff\\xff\\xff\\xff\\xff\\xff\\xff\\xff\\x7f'\n",
        "NumPy    : "
       ]
      },
      {
       "output_type": "stream",
       "stream": "stdout",
       "text": [
        "[             nan   9.22337204e+18   0.00000000e+00]\n",
        "-----------\n",
        "SciDBArray('py_53<x:float NULL DEFAULT null> [i=0:2,10,0]')"
       ]
      },
      {
       "output_type": "stream",
       "stream": "stdout",
       "text": [
        "\n",
        "Plaintext: '[(null),(1.23),()]\\n'\n",
        "Binary   : "
       ]
      },
      {
       "output_type": "stream",
       "stream": "stdout",
       "text": [
        "'\\x00\\x00\\x00\\x00\\x00\\xff\\xa4p\\x9d?'\n",
        "NumPy    : "
       ]
      },
      {
       "output_type": "stream",
       "stream": "stdout",
       "text": [
        "[        nan  1.23000002  0.        ]\n",
        "-----------\n",
        "SciDBArray('py_54<x:double NULL DEFAULT null> [i=0:2,10,0]')"
       ]
      },
      {
       "output_type": "stream",
       "stream": "stdout",
       "text": [
        "\n",
        "Plaintext: '[(null),(1e+100),()]\\n'\n",
        "Binary   : "
       ]
      },
      {
       "output_type": "stream",
       "stream": "stdout",
       "text": [
        "'\\x00\\x00\\x00\\x00\\x00\\x00\\x00\\x00\\x00\\xff}\\xc3\\x94%\\xadI\\xb2T'\n",
        "NumPy    : "
       ]
      },
      {
       "output_type": "stream",
       "stream": "stdout",
       "text": [
        "[              nan   1.00000000e+100   0.00000000e+000]\n",
        "-----------\n",
        "SciDBArray('py_55<x:datetime NULL DEFAULT null> [i=0:2,10,0]')"
       ]
      },
      {
       "output_type": "stream",
       "stream": "stdout",
       "text": [
        "\n",
        "Plaintext: \"[(null),('2001-01-01 12:23:00'),()]\\n\"\n",
        "Binary   : "
       ]
      },
      {
       "output_type": "stream",
       "stream": "stdout",
       "text": [
        "'\\x00\\x00\\x00\\x00\\x00\\x00\\x00\\x00\\x00\\xff\\xa4vP:\\x00\\x00\\x00\\x00'\n",
        "NumPy    : "
       ]
      },
      {
       "output_type": "stream",
       "stream": "stdout",
       "text": [
        "['NaT' '2001-01-01T07:23:00-0500' '1969-12-31T19:00:00-0500']\n",
        "-----------\n",
        "SciDBArray('py_56<x:datetimetz NULL DEFAULT null> [i=0:2,10,0]')"
       ]
      },
      {
       "output_type": "stream",
       "stream": "stdout",
       "text": [
        "\n",
        "Plaintext: \"[(null),('2001-01-01 12:23:01 +05:00'),()]\\n\"\n",
        "Binary   : "
       ]
      },
      {
       "output_type": "stream",
       "stream": "stdout",
       "text": [
        "'\\x00\\x00\\x00\\x00\\x00\\x00\\x00\\x00\\x00\\x00\\x00\\x00\\x00\\x00\\x00\\x00\\x00\\xff\\xa5vP:\\x00\\x00\\x00\\x00PF\\x00\\x00\\x00\\x00\\x00\\x00'\n",
        "NumPy    : "
       ]
      },
      {
       "output_type": "stream",
       "stream": "stdout",
       "text": [
        "['NaT' '2001-01-01T02:23:01-0500' '1969-12-31T19:00:00-0500']\n",
        "-----------\n",
        "SciDBArray('py_57<x:bool NULL DEFAULT null> [i=0:2,10,0]')"
       ]
      },
      {
       "output_type": "stream",
       "stream": "stdout",
       "text": [
        "\n",
        "Plaintext: '[(null),(true),()]\\n'\n",
        "Binary   : "
       ]
      },
      {
       "output_type": "stream",
       "stream": "stdout",
       "text": [
        "'\\x00\\x00\\xff\\x01'\n",
        "NumPy    : "
       ]
      },
      {
       "output_type": "stream",
       "stream": "stdout",
       "text": [
        "[ nan   1.   0.]\n",
        "-----------\n",
        "SciDBArray('py_58<x:string NULL DEFAULT null> [i=0:2,10,0]')"
       ]
      },
      {
       "output_type": "stream",
       "stream": "stdout",
       "text": [
        "\n",
        "Plaintext: "
       ]
      },
      {
       "output_type": "stream",
       "stream": "stdout",
       "text": [
        "\"[(null),('test'),()]\\n\"\n",
        "Binary   : '\\x00\\x00\\x00\\x00\\x00\\xff\\x05\\x00\\x00\\x00test\\x00'\n",
        "NumPy    : "
       ]
      },
      {
       "output_type": "stream",
       "stream": "stdout",
       "text": [
        "[None u'test' 0]\n",
        "-----------\n",
        "SciDBArray('py_59<x:char NULL DEFAULT null> [i=0:2,10,0]')"
       ]
      },
      {
       "output_type": "stream",
       "stream": "stdout",
       "text": [
        "\n",
        "Plaintext: "
       ]
      },
      {
       "output_type": "stream",
       "stream": "stdout",
       "text": [
        "\"[(null),('a'),()]\\n\"\n",
        "Binary   : "
       ]
      },
      {
       "output_type": "stream",
       "stream": "stdout",
       "text": [
        "'\\x00\\x00\\xffa'\n",
        "NumPy    : "
       ]
      },
      {
       "output_type": "stream",
       "stream": "stdout",
       "text": [
        "['' 'a' '']\n",
        "-----------\n"
       ]
      }
     ],
     "prompt_number": 20
    },
    {
     "cell_type": "heading",
     "level": 1,
     "metadata": {},
     "source": [
      "Multi-attribute data, no empty cells"
     ]
    },
    {
     "cell_type": "code",
     "collapsed": true,
     "input": [
      "def make(dtype, val):\n",
      "    x = sdb.afl.build('<x:%s>[i=0:1,10,0]' % dtype, val)\n",
      "    y = sdb.afl.build('<y:string>[i=0:1,10,0]', \"'a'\")\n",
      "    return sdb.join(x, y).eval()\n",
      "\n",
      "run(make)"
     ],
     "language": "python",
     "metadata": {},
     "outputs": [
      {
       "output_type": "stream",
       "stream": "stdout",
       "text": [
        "SciDBArray('py_60<x:int8,y:string> [i=0:1,10,0]')\n",
        "Plaintext: \"[(-128,'a'),(-128,'a')]\\n\"\n",
        "Binary   : "
       ]
      },
      {
       "output_type": "stream",
       "stream": "stdout",
       "text": [
        "'\\x80\\x02\\x00\\x00\\x00a\\x00\\x80\\x02\\x00\\x00\\x00a\\x00'\n",
        "NumPy    : "
       ]
      },
      {
       "output_type": "stream",
       "stream": "stdout",
       "text": [
        "[(-128, u'a') (-128, u'a')]\n",
        "-----------\n",
        "SciDBArray('py_61<x:int16,y:string> [i=0:1,10,0]')"
       ]
      },
      {
       "output_type": "stream",
       "stream": "stdout",
       "text": [
        "\n",
        "Plaintext: \"[(-32766,'a'),(-32766,'a')]\\n\"\n",
        "Binary   : "
       ]
      },
      {
       "output_type": "stream",
       "stream": "stdout",
       "text": [
        "'\\x02\\x80\\x02\\x00\\x00\\x00a\\x00\\x02\\x80\\x02\\x00\\x00\\x00a\\x00'\n",
        "NumPy    : "
       ]
      },
      {
       "output_type": "stream",
       "stream": "stdout",
       "text": [
        "[(-32766, u'a') (-32766, u'a')]\n",
        "-----------\n",
        "SciDBArray('py_62<x:int32,y:string> [i=0:1,10,0]')"
       ]
      },
      {
       "output_type": "stream",
       "stream": "stdout",
       "text": [
        "\n",
        "Plaintext: \"[(-2147483646,'a'),(-2147483646,'a')]\\n\"\n",
        "Binary   : "
       ]
      },
      {
       "output_type": "stream",
       "stream": "stdout",
       "text": [
        "'\\x02\\x00\\x00\\x80\\x02\\x00\\x00\\x00a\\x00\\x02\\x00\\x00\\x80\\x02\\x00\\x00\\x00a\\x00'\n",
        "NumPy    : "
       ]
      },
      {
       "output_type": "stream",
       "stream": "stdout",
       "text": [
        "[(-2147483646, u'a') (-2147483646, u'a')]\n",
        "-----------\n",
        "SciDBArray('py_63<x:int64,y:string> [i=0:1,10,0]')"
       ]
      },
      {
       "output_type": "stream",
       "stream": "stdout",
       "text": [
        "\n",
        "Plaintext: \"[(-9223372036854775806,'a'),(-9223372036854775806,'a')]\\n\"\n",
        "Binary   : "
       ]
      },
      {
       "output_type": "stream",
       "stream": "stdout",
       "text": [
        "'\\x02\\x00\\x00\\x00\\x00\\x00\\x00\\x80\\x02\\x00\\x00\\x00a\\x00\\x02\\x00\\x00\\x00\\x00\\x00\\x00\\x80\\x02\\x00\\x00\\x00a\\x00'\n",
        "NumPy    : "
       ]
      },
      {
       "output_type": "stream",
       "stream": "stdout",
       "text": [
        "[(-9223372036854775806, u'a') (-9223372036854775806, u'a')]\n",
        "-----------\n",
        "SciDBArray('py_64<x:uint8,y:string> [i=0:1,10,0]')"
       ]
      },
      {
       "output_type": "stream",
       "stream": "stdout",
       "text": [
        "\n",
        "Plaintext: \"[(255,'a'),(255,'a')]\\n\"\n",
        "Binary   : "
       ]
      },
      {
       "output_type": "stream",
       "stream": "stdout",
       "text": [
        "'\\xff\\x02\\x00\\x00\\x00a\\x00\\xff\\x02\\x00\\x00\\x00a\\x00'\n",
        "NumPy    : "
       ]
      },
      {
       "output_type": "stream",
       "stream": "stdout",
       "text": [
        "[(255, u'a') (255, u'a')]\n",
        "-----------\n",
        "SciDBArray('py_65<x:uint16,y:string> [i=0:1,10,0]')"
       ]
      },
      {
       "output_type": "stream",
       "stream": "stdout",
       "text": [
        "\n",
        "Plaintext: \"[(65535,'a'),(65535,'a')]\\n\"\n",
        "Binary   : "
       ]
      },
      {
       "output_type": "stream",
       "stream": "stdout",
       "text": [
        "'\\xff\\xff\\x02\\x00\\x00\\x00a\\x00\\xff\\xff\\x02\\x00\\x00\\x00a\\x00'\n",
        "NumPy    : "
       ]
      },
      {
       "output_type": "stream",
       "stream": "stdout",
       "text": [
        "[(65535, u'a') (65535, u'a')]\n",
        "-----------\n",
        "SciDBArray('py_66<x:uint32,y:string> [i=0:1,10,0]')"
       ]
      },
      {
       "output_type": "stream",
       "stream": "stdout",
       "text": [
        "\n",
        "Plaintext: \"[(4294967295,'a'),(4294967295,'a')]\\n\"\n",
        "Binary   : "
       ]
      },
      {
       "output_type": "stream",
       "stream": "stdout",
       "text": [
        "'\\xff\\xff\\xff\\xff\\x02\\x00\\x00\\x00a\\x00\\xff\\xff\\xff\\xff\\x02\\x00\\x00\\x00a\\x00'\n",
        "NumPy    : "
       ]
      },
      {
       "output_type": "stream",
       "stream": "stdout",
       "text": [
        "[(4294967295L, u'a') (4294967295L, u'a')]\n",
        "-----------\n",
        "SciDBArray('py_67<x:uint64,y:string> [i=0:1,10,0]')"
       ]
      },
      {
       "output_type": "stream",
       "stream": "stdout",
       "text": [
        "\n",
        "Plaintext: \"[(9223372036854775807,'a'),(9223372036854775807,'a')]\\n\"\n",
        "Binary   : "
       ]
      },
      {
       "output_type": "stream",
       "stream": "stdout",
       "text": [
        "'\\xff\\xff\\xff\\xff\\xff\\xff\\xff\\x7f\\x02\\x00\\x00\\x00a\\x00\\xff\\xff\\xff\\xff\\xff\\xff\\xff\\x7f\\x02\\x00\\x00\\x00a\\x00'\n",
        "NumPy    : "
       ]
      },
      {
       "output_type": "stream",
       "stream": "stdout",
       "text": [
        "[(9223372036854775807L, u'a') (9223372036854775807L, u'a')]\n",
        "-----------\n",
        "SciDBArray('py_68<x:float,y:string> [i=0:1,10,0]')"
       ]
      },
      {
       "output_type": "stream",
       "stream": "stdout",
       "text": [
        "\n",
        "Plaintext: \"[(1.23,'a'),(1.23,'a')]\\n\"\n",
        "Binary   : "
       ]
      },
      {
       "output_type": "stream",
       "stream": "stdout",
       "text": [
        "'\\xa4p\\x9d?\\x02\\x00\\x00\\x00a\\x00\\xa4p\\x9d?\\x02\\x00\\x00\\x00a\\x00'\n",
        "NumPy    : "
       ]
      },
      {
       "output_type": "stream",
       "stream": "stdout",
       "text": [
        "[(1.2300000190734863, u'a') (1.2300000190734863, u'a')]\n",
        "-----------\n",
        "SciDBArray('py_69<x:double,y:string> [i=0:1,10,0]')"
       ]
      },
      {
       "output_type": "stream",
       "stream": "stdout",
       "text": [
        "\n",
        "Plaintext: \"[(1e+100,'a'),(1e+100,'a')]\\n\"\n",
        "Binary   : "
       ]
      },
      {
       "output_type": "stream",
       "stream": "stdout",
       "text": [
        "'}\\xc3\\x94%\\xadI\\xb2T\\x02\\x00\\x00\\x00a\\x00}\\xc3\\x94%\\xadI\\xb2T\\x02\\x00\\x00\\x00a\\x00'\n",
        "NumPy    : "
       ]
      },
      {
       "output_type": "stream",
       "stream": "stdout",
       "text": [
        "[(1e+100, u'a') (1e+100, u'a')]\n",
        "-----------\n",
        "SciDBArray('py_70<x:datetime,y:string> [i=0:1,10,0]')"
       ]
      },
      {
       "output_type": "stream",
       "stream": "stdout",
       "text": [
        "\n",
        "Plaintext: \"[('2001-01-01 12:23:00','a'),('2001-01-01 12:23:00','a')]\\n\"\n",
        "Binary   : "
       ]
      },
      {
       "output_type": "stream",
       "stream": "stdout",
       "text": [
        "'\\xa4vP:\\x00\\x00\\x00\\x00\\x02\\x00\\x00\\x00a\\x00\\xa4vP:\\x00\\x00\\x00\\x00\\x02\\x00\\x00\\x00a\\x00'\n",
        "NumPy    : "
       ]
      },
      {
       "output_type": "stream",
       "stream": "stdout",
       "text": [
        "[(datetime.datetime(2001, 1, 1, 12, 23), u'a')\n",
        " (datetime.datetime(2001, 1, 1, 12, 23), u'a')]\n",
        "-----------\n",
        "SciDBArray('py_71<x:datetimetz,y:string> [i=0:1,10,0]')"
       ]
      },
      {
       "output_type": "stream",
       "stream": "stdout",
       "text": [
        "\n",
        "Plaintext: \"[('2001-01-01 12:23:01 +05:00','a'),('2001-01-01 12:23:01 +05:00','a')]\\n\"\n",
        "Binary   : "
       ]
      },
      {
       "output_type": "stream",
       "stream": "stdout",
       "text": [
        "'\\xa5vP:\\x00\\x00\\x00\\x00PF\\x00\\x00\\x00\\x00\\x00\\x00\\x02\\x00\\x00\\x00a\\x00\\xa5vP:\\x00\\x00\\x00\\x00PF\\x00\\x00\\x00\\x00\\x00\\x00\\x02\\x00\\x00\\x00a\\x00'\n",
        "NumPy    : "
       ]
      },
      {
       "output_type": "stream",
       "stream": "stdout",
       "text": [
        "[(datetime.datetime(2001, 1, 1, 7, 23, 1), u'a')\n",
        " (datetime.datetime(2001, 1, 1, 7, 23, 1), u'a')]\n",
        "-----------\n",
        "SciDBArray('py_72<x:bool,y:string> [i=0:1,10,0]')"
       ]
      },
      {
       "output_type": "stream",
       "stream": "stdout",
       "text": [
        "\n",
        "Plaintext: \"[(true,'a'),(true,'a')]\\n\"\n",
        "Binary   : "
       ]
      },
      {
       "output_type": "stream",
       "stream": "stdout",
       "text": [
        "'\\x01\\x02\\x00\\x00\\x00a\\x00\\x01\\x02\\x00\\x00\\x00a\\x00'\n",
        "NumPy    : "
       ]
      },
      {
       "output_type": "stream",
       "stream": "stdout",
       "text": [
        "[(True, u'a') (True, u'a')]\n",
        "-----------\n",
        "SciDBArray('py_73<x:string,y:string> [i=0:1,10,0]')"
       ]
      },
      {
       "output_type": "stream",
       "stream": "stdout",
       "text": [
        "\n",
        "Plaintext: \"[('test','a'),('test','a')]\\n\"\n",
        "Binary   : "
       ]
      },
      {
       "output_type": "stream",
       "stream": "stdout",
       "text": [
        "'\\x05\\x00\\x00\\x00test\\x00\\x02\\x00\\x00\\x00a\\x00\\x05\\x00\\x00\\x00test\\x00\\x02\\x00\\x00\\x00a\\x00'\n",
        "NumPy    : "
       ]
      },
      {
       "output_type": "stream",
       "stream": "stdout",
       "text": [
        "[(u'test', u'a') (u'test', u'a')]\n",
        "-----------\n",
        "SciDBArray('py_74<x:char,y:string> [i=0:1,10,0]')"
       ]
      },
      {
       "output_type": "stream",
       "stream": "stdout",
       "text": [
        "\n",
        "Plaintext: \"[('a','a'),('a','a')]\\n\"\n",
        "Binary   : "
       ]
      },
      {
       "output_type": "stream",
       "stream": "stdout",
       "text": [
        "'a\\x02\\x00\\x00\\x00a\\x00a\\x02\\x00\\x00\\x00a\\x00'\n",
        "NumPy    : "
       ]
      },
      {
       "output_type": "stream",
       "stream": "stdout",
       "text": [
        "[('a', u'a') ('a', u'a')]\n",
        "-----------\n"
       ]
      }
     ],
     "prompt_number": 21
    },
    {
     "cell_type": "markdown",
     "metadata": {},
     "source": [
      "Notes:\n",
      "    \n",
      "    There is no such thing as a \"partially empty cell\"\n",
      "    When joining 2 arrays, if either cell is empty, resultant cell is empty"
     ]
    },
    {
     "cell_type": "heading",
     "level": 2,
     "metadata": {},
     "source": [
      "Multi-attribute, multi-dimensional data"
     ]
    },
    {
     "cell_type": "code",
     "collapsed": false,
     "input": [
      "def make(dtype, val):\n",
      "    x = sdb.afl.build('<x:%s>[i=0:1,10,0, j=0:1,10,0]' % dtype, val)\n",
      "    y = sdb.afl.build('<y:string>[i=0:1,10,0, j=0:1,10,0]', \"'a'\")\n",
      "    return sdb.join(x, y).eval()\n",
      "\n",
      "run(make)"
     ],
     "language": "python",
     "metadata": {},
     "outputs": [
      {
       "output_type": "stream",
       "stream": "stdout",
       "text": [
        "SciDBArray('py_75<x:int8,y:string> [i=0:1,10,0,j=0:1,10,0]')\n",
        "Plaintext: \"[[(-128,'a'),(-128,'a')],[(-128,'a'),(-128,'a')]]\\n\"\n",
        "Binary   : "
       ]
      },
      {
       "output_type": "stream",
       "stream": "stdout",
       "text": [
        "'\\x80\\x02\\x00\\x00\\x00a\\x00\\x80\\x02\\x00\\x00\\x00a\\x00\\x80\\x02\\x00\\x00\\x00a\\x00\\x80\\x02\\x00\\x00\\x00a\\x00'\n",
        "NumPy    : "
       ]
      },
      {
       "output_type": "stream",
       "stream": "stdout",
       "text": [
        "[[(-128, u'a') (-128, u'a')]\n",
        " [(-128, u'a') (-128, u'a')]]\n",
        "-----------\n",
        "SciDBArray('py_76<x:int16,y:string> [i=0:1,10,0,j=0:1,10,0]')"
       ]
      },
      {
       "output_type": "stream",
       "stream": "stdout",
       "text": [
        "\n",
        "Plaintext: "
       ]
      },
      {
       "output_type": "stream",
       "stream": "stdout",
       "text": [
        "\"[[(-32766,'a'),(-32766,'a')],[(-32766,'a'),(-32766,'a')]]\\n\"\n",
        "Binary   : "
       ]
      },
      {
       "output_type": "stream",
       "stream": "stdout",
       "text": [
        "'\\x02\\x80\\x02\\x00\\x00\\x00a\\x00\\x02\\x80\\x02\\x00\\x00\\x00a\\x00\\x02\\x80\\x02\\x00\\x00\\x00a\\x00\\x02\\x80\\x02\\x00\\x00\\x00a\\x00'\n",
        "NumPy    : "
       ]
      },
      {
       "output_type": "stream",
       "stream": "stdout",
       "text": [
        "[[(-32766, u'a') (-32766, u'a')]\n",
        " [(-32766, u'a') (-32766, u'a')]]\n",
        "-----------\n",
        "SciDBArray('py_77<x:int32,y:string> [i=0:1,10,0,j=0:1,10,0]')"
       ]
      },
      {
       "output_type": "stream",
       "stream": "stdout",
       "text": [
        "\n",
        "Plaintext: \"[[(-2147483646,'a'),(-2147483646,'a')],[(-2147483646,'a'),(-2147483646,'a')]]\\n\"\n",
        "Binary   : "
       ]
      },
      {
       "output_type": "stream",
       "stream": "stdout",
       "text": [
        "'\\x02\\x00\\x00\\x80\\x02\\x00\\x00\\x00a\\x00\\x02\\x00\\x00\\x80\\x02\\x00\\x00\\x00a\\x00\\x02\\x00\\x00\\x80\\x02\\x00\\x00\\x00a\\x00\\x02\\x00\\x00\\x80\\x02\\x00\\x00\\x00a\\x00'\n",
        "NumPy    : "
       ]
      },
      {
       "output_type": "stream",
       "stream": "stdout",
       "text": [
        "[[(-2147483646, u'a') (-2147483646, u'a')]\n",
        " [(-2147483646, u'a') (-2147483646, u'a')]]\n",
        "-----------\n",
        "SciDBArray('py_78<x:int64,y:string> [i=0:1,10,0,j=0:1,10,0]')"
       ]
      },
      {
       "output_type": "stream",
       "stream": "stdout",
       "text": [
        "\n",
        "Plaintext: \"[[(-9223372036854775806,'a'),(-9223372036854775806,'a')],[(-9223372036854775806,'a'),(-9223372036854775806,'a')]]\\n\"\n",
        "Binary   : "
       ]
      },
      {
       "output_type": "stream",
       "stream": "stdout",
       "text": [
        "'\\x02\\x00\\x00\\x00\\x00\\x00\\x00\\x80\\x02\\x00\\x00\\x00a\\x00\\x02\\x00\\x00\\x00\\x00\\x00\\x00\\x80\\x02\\x00\\x00\\x00a\\x00\\x02\\x00\\x00\\x00\\x00\\x00\\x00\\x80\\x02\\x00\\x00\\x00a\\x00\\x02\\x00\\x00\\x00\\x00\\x00\\x00\\x80\\x02\\x00\\x00\\x00a\\x00'\n",
        "NumPy    : "
       ]
      },
      {
       "output_type": "stream",
       "stream": "stdout",
       "text": [
        "[[(-9223372036854775806, u'a') (-9223372036854775806, u'a')]\n",
        " [(-9223372036854775806, u'a') (-9223372036854775806, u'a')]]\n",
        "-----------\n",
        "SciDBArray('py_79<x:uint8,y:string> [i=0:1,10,0,j=0:1,10,0]')"
       ]
      },
      {
       "output_type": "stream",
       "stream": "stdout",
       "text": [
        "\n",
        "Plaintext: "
       ]
      },
      {
       "output_type": "stream",
       "stream": "stdout",
       "text": [
        "\"[[(255,'a'),(255,'a')],[(255,'a'),(255,'a')]]\\n\"\n",
        "Binary   : "
       ]
      },
      {
       "output_type": "stream",
       "stream": "stdout",
       "text": [
        "'\\xff\\x02\\x00\\x00\\x00a\\x00\\xff\\x02\\x00\\x00\\x00a\\x00\\xff\\x02\\x00\\x00\\x00a\\x00\\xff\\x02\\x00\\x00\\x00a\\x00'\n",
        "NumPy    : "
       ]
      },
      {
       "output_type": "stream",
       "stream": "stdout",
       "text": [
        "[[(255, u'a') (255, u'a')]\n",
        " [(255, u'a') (255, u'a')]]\n",
        "-----------\n",
        "SciDBArray('py_80<x:uint16,y:string> [i=0:1,10,0,j=0:1,10,0]')"
       ]
      },
      {
       "output_type": "stream",
       "stream": "stdout",
       "text": [
        "\n",
        "Plaintext: "
       ]
      },
      {
       "output_type": "stream",
       "stream": "stdout",
       "text": [
        "\"[[(65535,'a'),(65535,'a')],[(65535,'a'),(65535,'a')]]\\n\"\n",
        "Binary   : "
       ]
      },
      {
       "output_type": "stream",
       "stream": "stdout",
       "text": [
        "'\\xff\\xff\\x02\\x00\\x00\\x00a\\x00\\xff\\xff\\x02\\x00\\x00\\x00a\\x00\\xff\\xff\\x02\\x00\\x00\\x00a\\x00\\xff\\xff\\x02\\x00\\x00\\x00a\\x00'\n",
        "NumPy    : "
       ]
      },
      {
       "output_type": "stream",
       "stream": "stdout",
       "text": [
        "[[(65535, u'a') (65535, u'a')]\n",
        " [(65535, u'a') (65535, u'a')]]\n",
        "-----------\n",
        "SciDBArray('py_81<x:uint32,y:string> [i=0:1,10,0,j=0:1,10,0]')"
       ]
      },
      {
       "output_type": "stream",
       "stream": "stdout",
       "text": [
        "\n",
        "Plaintext: "
       ]
      },
      {
       "output_type": "stream",
       "stream": "stdout",
       "text": [
        "\"[[(4294967295,'a'),(4294967295,'a')],[(4294967295,'a'),(4294967295,'a')]]\\n\"\n",
        "Binary   : '\\xff\\xff\\xff\\xff\\x02\\x00\\x00\\x00a\\x00\\xff\\xff\\xff\\xff\\x02\\x00\\x00\\x00a\\x00\\xff\\xff\\xff\\xff\\x02\\x00\\x00\\x00a\\x00\\xff\\xff\\xff\\xff\\x02\\x00\\x00\\x00a\\x00'\n",
        "NumPy    : "
       ]
      },
      {
       "output_type": "stream",
       "stream": "stdout",
       "text": [
        "[[(4294967295L, u'a') (4294967295L, u'a')]\n",
        " [(4294967295L, u'a') (4294967295L, u'a')]]\n",
        "-----------\n",
        "SciDBArray('py_82<x:uint64,y:string> [i=0:1,10,0,j=0:1,10,0]')"
       ]
      },
      {
       "output_type": "stream",
       "stream": "stdout",
       "text": [
        "\n",
        "Plaintext: "
       ]
      },
      {
       "output_type": "stream",
       "stream": "stdout",
       "text": [
        "\"[[(9223372036854775807,'a'),(9223372036854775807,'a')],[(9223372036854775807,'a'),(9223372036854775807,'a')]]\\n\"\n",
        "Binary   : "
       ]
      },
      {
       "output_type": "stream",
       "stream": "stdout",
       "text": [
        "'\\xff\\xff\\xff\\xff\\xff\\xff\\xff\\x7f\\x02\\x00\\x00\\x00a\\x00\\xff\\xff\\xff\\xff\\xff\\xff\\xff\\x7f\\x02\\x00\\x00\\x00a\\x00\\xff\\xff\\xff\\xff\\xff\\xff\\xff\\x7f\\x02\\x00\\x00\\x00a\\x00\\xff\\xff\\xff\\xff\\xff\\xff\\xff\\x7f\\x02\\x00\\x00\\x00a\\x00'\n",
        "NumPy    : "
       ]
      },
      {
       "output_type": "stream",
       "stream": "stdout",
       "text": [
        "[[(9223372036854775807L, u'a') (9223372036854775807L, u'a')]\n",
        " [(9223372036854775807L, u'a') (9223372036854775807L, u'a')]]\n",
        "-----------\n",
        "SciDBArray('py_83<x:float,y:string> [i=0:1,10,0,j=0:1,10,0]')"
       ]
      },
      {
       "output_type": "stream",
       "stream": "stdout",
       "text": [
        "\n",
        "Plaintext: "
       ]
      },
      {
       "output_type": "stream",
       "stream": "stdout",
       "text": [
        "\"[[(1.23,'a'),(1.23,'a')],[(1.23,'a'),(1.23,'a')]]\\n\"\n",
        "Binary   : "
       ]
      },
      {
       "output_type": "stream",
       "stream": "stdout",
       "text": [
        "'\\xa4p\\x9d?\\x02\\x00\\x00\\x00a\\x00\\xa4p\\x9d?\\x02\\x00\\x00\\x00a\\x00\\xa4p\\x9d?\\x02\\x00\\x00\\x00a\\x00\\xa4p\\x9d?\\x02\\x00\\x00\\x00a\\x00'\n",
        "NumPy    : "
       ]
      },
      {
       "output_type": "stream",
       "stream": "stdout",
       "text": [
        "[[(1.2300000190734863, u'a') (1.2300000190734863, u'a')]\n",
        " [(1.2300000190734863, u'a') (1.2300000190734863, u'a')]]\n",
        "-----------\n",
        "SciDBArray('py_84<x:double,y:string> [i=0:1,10,0,j=0:1,10,0]')"
       ]
      },
      {
       "output_type": "stream",
       "stream": "stdout",
       "text": [
        "\n",
        "Plaintext: "
       ]
      },
      {
       "output_type": "stream",
       "stream": "stdout",
       "text": [
        "\"[[(1e+100,'a'),(1e+100,'a')],[(1e+100,'a'),(1e+100,'a')]]\\n\"\n",
        "Binary   : "
       ]
      },
      {
       "output_type": "stream",
       "stream": "stdout",
       "text": [
        "'}\\xc3\\x94%\\xadI\\xb2T\\x02\\x00\\x00\\x00a\\x00}\\xc3\\x94%\\xadI\\xb2T\\x02\\x00\\x00\\x00a\\x00}\\xc3\\x94%\\xadI\\xb2T\\x02\\x00\\x00\\x00a\\x00}\\xc3\\x94%\\xadI\\xb2T\\x02\\x00\\x00\\x00a\\x00'\n",
        "NumPy    : "
       ]
      },
      {
       "output_type": "stream",
       "stream": "stdout",
       "text": [
        "[[(1e+100, u'a') (1e+100, u'a')]\n",
        " [(1e+100, u'a') (1e+100, u'a')]]\n",
        "-----------\n",
        "SciDBArray('py_85<x:datetime,y:string> [i=0:1,10,0,j=0:1,10,0]')"
       ]
      },
      {
       "output_type": "stream",
       "stream": "stdout",
       "text": [
        "\n",
        "Plaintext: \"[[('2001-01-01 12:23:00','a'),('2001-01-01 12:23:00','a')],[('2001-01-01 12:23:00','a'),('2001-01-01 12:23:00','a')]]\\n\"\n",
        "Binary   : "
       ]
      },
      {
       "output_type": "stream",
       "stream": "stdout",
       "text": [
        "'\\xa4vP:\\x00\\x00\\x00\\x00\\x02\\x00\\x00\\x00a\\x00\\xa4vP:\\x00\\x00\\x00\\x00\\x02\\x00\\x00\\x00a\\x00\\xa4vP:\\x00\\x00\\x00\\x00\\x02\\x00\\x00\\x00a\\x00\\xa4vP:\\x00\\x00\\x00\\x00\\x02\\x00\\x00\\x00a\\x00'\n",
        "NumPy    : "
       ]
      },
      {
       "output_type": "stream",
       "stream": "stdout",
       "text": [
        "[[(datetime.datetime(2001, 1, 1, 12, 23), u'a')\n",
        "  (datetime.datetime(2001, 1, 1, 12, 23), u'a')]\n",
        " [(datetime.datetime(2001, 1, 1, 12, 23), u'a')\n",
        "  (datetime.datetime(2001, 1, 1, 12, 23), u'a')]]\n",
        "-----------\n",
        "SciDBArray('py_86<x:datetimetz,y:string> [i=0:1,10,0,j=0:1,10,0]')"
       ]
      },
      {
       "output_type": "stream",
       "stream": "stdout",
       "text": [
        "\n",
        "Plaintext: \"[[('2001-01-01 12:23:01 +05:00','a'),('2001-01-01 12:23:01 +05:00','a')],[('2001-01-01 12:23:01 +05:00','a'),('2001-01-01 12:23:01 +05:00','a')]]\\n\"\n",
        "Binary   : "
       ]
      },
      {
       "output_type": "stream",
       "stream": "stdout",
       "text": [
        "'\\xa5vP:\\x00\\x00\\x00\\x00PF\\x00\\x00\\x00\\x00\\x00\\x00\\x02\\x00\\x00\\x00a\\x00\\xa5vP:\\x00\\x00\\x00\\x00PF\\x00\\x00\\x00\\x00\\x00\\x00\\x02\\x00\\x00\\x00a\\x00\\xa5vP:\\x00\\x00\\x00\\x00PF\\x00\\x00\\x00\\x00\\x00\\x00\\x02\\x00\\x00\\x00a\\x00\\xa5vP:\\x00\\x00\\x00\\x00PF\\x00\\x00\\x00\\x00\\x00\\x00\\x02\\x00\\x00\\x00a\\x00'\n",
        "NumPy    : "
       ]
      },
      {
       "output_type": "stream",
       "stream": "stdout",
       "text": [
        "[[(datetime.datetime(2001, 1, 1, 7, 23, 1), u'a')\n",
        "  (datetime.datetime(2001, 1, 1, 7, 23, 1), u'a')]\n",
        " [(datetime.datetime(2001, 1, 1, 7, 23, 1), u'a')\n",
        "  (datetime.datetime(2001, 1, 1, 7, 23, 1), u'a')]]\n",
        "-----------\n",
        "SciDBArray('py_87<x:bool,y:string> [i=0:1,10,0,j=0:1,10,0]')"
       ]
      },
      {
       "output_type": "stream",
       "stream": "stdout",
       "text": [
        "\n",
        "Plaintext: "
       ]
      },
      {
       "output_type": "stream",
       "stream": "stdout",
       "text": [
        "\"[[(true,'a'),(true,'a')],[(true,'a'),(true,'a')]]\\n\"\n",
        "Binary   : "
       ]
      },
      {
       "output_type": "stream",
       "stream": "stdout",
       "text": [
        "'\\x01\\x02\\x00\\x00\\x00a\\x00\\x01\\x02\\x00\\x00\\x00a\\x00\\x01\\x02\\x00\\x00\\x00a\\x00\\x01\\x02\\x00\\x00\\x00a\\x00'\n",
        "NumPy    : "
       ]
      },
      {
       "output_type": "stream",
       "stream": "stdout",
       "text": [
        "[[(True, u'a') (True, u'a')]\n",
        " [(True, u'a') (True, u'a')]]\n",
        "-----------\n",
        "SciDBArray('py_88<x:string,y:string> [i=0:1,10,0,j=0:1,10,0]')"
       ]
      },
      {
       "output_type": "stream",
       "stream": "stdout",
       "text": [
        "\n",
        "Plaintext: \"[[('test','a'),('test','a')],[('test','a'),('test','a')]]\\n\"\n",
        "Binary   : "
       ]
      },
      {
       "output_type": "stream",
       "stream": "stdout",
       "text": [
        "'\\x05\\x00\\x00\\x00test\\x00\\x02\\x00\\x00\\x00a\\x00\\x05\\x00\\x00\\x00test\\x00\\x02\\x00\\x00\\x00a\\x00\\x05\\x00\\x00\\x00test\\x00\\x02\\x00\\x00\\x00a\\x00\\x05\\x00\\x00\\x00test\\x00\\x02\\x00\\x00\\x00a\\x00'\n",
        "NumPy    : "
       ]
      },
      {
       "output_type": "stream",
       "stream": "stdout",
       "text": [
        "[[(u'test', u'a') (u'test', u'a')]\n",
        " [(u'test', u'a') (u'test', u'a')]]\n",
        "-----------\n",
        "SciDBArray('py_89<x:char,y:string> [i=0:1,10,0,j=0:1,10,0]')"
       ]
      },
      {
       "output_type": "stream",
       "stream": "stdout",
       "text": [
        "\n",
        "Plaintext: \"[[('a','a'),('a','a')],[('a','a'),('a','a')]]\\n\"\n",
        "Binary   : "
       ]
      },
      {
       "output_type": "stream",
       "stream": "stdout",
       "text": [
        "'a\\x02\\x00\\x00\\x00a\\x00a\\x02\\x00\\x00\\x00a\\x00a\\x02\\x00\\x00\\x00a\\x00a\\x02\\x00\\x00\\x00a\\x00'\n",
        "NumPy    : "
       ]
      },
      {
       "output_type": "stream",
       "stream": "stdout",
       "text": [
        "[[('a', u'a') ('a', u'a')]\n",
        " [('a', u'a') ('a', u'a')]]\n",
        "-----------\n"
       ]
      }
     ],
     "prompt_number": 24
    },
    {
     "cell_type": "code",
     "collapsed": false,
     "input": [
      "idx"
     ],
     "language": "python",
     "metadata": {},
     "outputs": [
      {
       "metadata": {},
       "output_type": "pyout",
       "prompt_number": 25,
       "text": [
        "90"
       ]
      }
     ],
     "prompt_number": 25
    },
    {
     "cell_type": "code",
     "collapsed": false,
     "input": [],
     "language": "python",
     "metadata": {},
     "outputs": []
    }
   ],
   "metadata": {}
  }
 ]
}